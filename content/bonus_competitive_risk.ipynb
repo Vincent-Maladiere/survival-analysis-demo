{
 "cells": [
  {
   "cell_type": "markdown",
   "id": "642c1b47-4bb1-45b7-9041-696677f995a5",
   "metadata": {},
   "source": [
    "# Bonus Tutorial: Competitive risk analysis"
   ]
  },
  {
   "cell_type": "code",
   "execution_count": null,
   "id": "716a7478-d906-426b-b667-d7ae0ea12e0f",
   "metadata": {},
   "outputs": [],
   "source": [
    "%pip install setuptools fastparquet lifelines \"nbformat>=4.2.0\" plotly seaborn -q"
   ]
  },
  {
   "cell_type": "markdown",
   "id": "dbfe8a6f-02ad-415b-a014-f2625da8c7f3",
   "metadata": {},
   "source": [
    "## Unconditional competing risks modeling with Aalen-Johanson\n",
    "\n",
    "So far, we've been dealing with a single kind of risk: any accident. **What if we have different, mutually exclusive types of failure?**\n",
    "\n",
    "This is the point of **competing risks modeling**. It aims at modeling the probability of incidence for different events, where these probabilities interfer with each other. Here we consider that a truck that had an accident is withdrawn from the fleet, and therefore can't experience any other ones.\n"
   ]
  },
  {
   "cell_type": "markdown",
   "id": "acd36666-16da-400a-8737-5c16ac784beb",
   "metadata": {},
   "source": [
    "Let's load our dataset another time. Notice that we have 3 types of event (plus the censoring 0):"
   ]
  },
  {
   "cell_type": "code",
   "execution_count": 1,
   "id": "d43298de-648a-4883-b764-54b9f119fea9",
   "metadata": {},
   "outputs": [
    {
     "data": {
      "text/html": [
       "<div>\n",
       "<style scoped>\n",
       "    .dataframe tbody tr th:only-of-type {\n",
       "        vertical-align: middle;\n",
       "    }\n",
       "\n",
       "    .dataframe tbody tr th {\n",
       "        vertical-align: top;\n",
       "    }\n",
       "\n",
       "    .dataframe thead th {\n",
       "        text-align: right;\n",
       "    }\n",
       "</style>\n",
       "<table border=\"1\" class=\"dataframe\">\n",
       "  <thead>\n",
       "    <tr style=\"text-align: right;\">\n",
       "      <th></th>\n",
       "      <th>event</th>\n",
       "      <th>duration</th>\n",
       "    </tr>\n",
       "  </thead>\n",
       "  <tbody>\n",
       "    <tr>\n",
       "      <th>0</th>\n",
       "      <td>3</td>\n",
       "      <td>980.394661</td>\n",
       "    </tr>\n",
       "    <tr>\n",
       "      <th>1</th>\n",
       "      <td>2</td>\n",
       "      <td>1207.870100</td>\n",
       "    </tr>\n",
       "    <tr>\n",
       "      <th>2</th>\n",
       "      <td>0</td>\n",
       "      <td>125.000000</td>\n",
       "    </tr>\n",
       "    <tr>\n",
       "      <th>3</th>\n",
       "      <td>1</td>\n",
       "      <td>96.839004</td>\n",
       "    </tr>\n",
       "    <tr>\n",
       "      <th>4</th>\n",
       "      <td>2</td>\n",
       "      <td>88.077852</td>\n",
       "    </tr>\n",
       "    <tr>\n",
       "      <th>...</th>\n",
       "      <td>...</td>\n",
       "      <td>...</td>\n",
       "    </tr>\n",
       "    <tr>\n",
       "      <th>9995</th>\n",
       "      <td>2</td>\n",
       "      <td>0.435731</td>\n",
       "    </tr>\n",
       "    <tr>\n",
       "      <th>9996</th>\n",
       "      <td>2</td>\n",
       "      <td>356.591211</td>\n",
       "    </tr>\n",
       "    <tr>\n",
       "      <th>9997</th>\n",
       "      <td>1</td>\n",
       "      <td>847.951259</td>\n",
       "    </tr>\n",
       "    <tr>\n",
       "      <th>9998</th>\n",
       "      <td>2</td>\n",
       "      <td>25.551167</td>\n",
       "    </tr>\n",
       "    <tr>\n",
       "      <th>9999</th>\n",
       "      <td>0</td>\n",
       "      <td>23.000000</td>\n",
       "    </tr>\n",
       "  </tbody>\n",
       "</table>\n",
       "<p>10000 rows × 2 columns</p>\n",
       "</div>"
      ],
      "text/plain": [
       "      event     duration\n",
       "0         3   980.394661\n",
       "1         2  1207.870100\n",
       "2         0   125.000000\n",
       "3         1    96.839004\n",
       "4         2    88.077852\n",
       "...     ...          ...\n",
       "9995      2     0.435731\n",
       "9996      2   356.591211\n",
       "9997      1   847.951259\n",
       "9998      2    25.551167\n",
       "9999      0    23.000000\n",
       "\n",
       "[10000 rows x 2 columns]"
      ]
     },
     "execution_count": 1,
     "metadata": {},
     "output_type": "execute_result"
    }
   ],
   "source": [
    "import numpy as np\n",
    "import pandas as pd\n",
    "\n",
    "truck_failure_competing_events = pd.read_parquet(\"data/truck_failure_10k_competing_risks.parquet\")\n",
    "truck_failure_competing_events"
   ]
  },
  {
   "cell_type": "markdown",
   "id": "7be92700-53a1-4c19-a15e-7ba39482db6a",
   "metadata": {},
   "source": [
    "In this refined variant of the truck failure event data, the event identifiers mean the following:\n",
    "\n",
    "- 1: manufacturing defect: a failure of a truck that happens as a result of mistakes in the assembly of the components (e.g. loose bolts);\n",
    "- 2: operational failures, e.g. a driving accident;\n",
    "- 3: fatigue induced failures, e.g. an engine breaks after heavy use for a prolongued period of time, despite good assembly and regular maintenance.\n",
    "\n",
    "0 is still the censoring marker."
   ]
  },
  {
   "cell_type": "markdown",
   "id": "e4a7fea3-b3c4-47f3-bf79-ad55ecb9ea8e",
   "metadata": {},
   "source": [
    "Instead of estimating a survival function (probability of remaining event free over time), a competing risk analysis model attempts to estimate a **cause-specific cumulative incidence function ($CIF_k$)**:\n",
    "\n",
    "For any event $k \\in [1, K]$, the cumulative incidence function of the event $k$ becomes:\n",
    "\n",
    "$$CIF_k = P(T < t, \\mathrm{event}=k)$$\n",
    "\n",
    "In the unconditional case, the estimator ignores any side information in $X$ and only models $CIF_k(t)$ from information in $y$: event types and their respective durations (often with censoring).\n",
    "\n",
    "**Aalen-Johanson estimates the CIF for multi-event $k$**, by:\n",
    "- estimating the cause-specific hazards on one hand;\n",
    "- estimating the global (any event) survival probabilities using Kaplan-Meier on the other hand.\n",
    "\n",
    "The two estimates are then combined to produce an estimate of the cause-specific cumulative incidence.\n",
    "\n",
    "<details><summary>Mathematical formulation</summary>\n",
    "\n",
    "<br>\n",
    "We first compute the cause-specific hazards $\\lambda_k$, by simply counting for each individual duration $t_i$ the number of individuals that have experienced the event $k$ at $t_i$ ($d_{i,k}$), and the number of people still at risk at $t_i$ ($n_i$).\n",
    "\n",
    "$$\n",
    "\\hat{\\lambda}_k(t_i)=\\frac{d_{k,i}}{n_i}\n",
    "$$\n",
    "\n",
    "Then, we compute the survival probability any event with Kaplan-Meier any event, where we can reused the cause-specific hazards.\n",
    "    \n",
    "$$\n",
    "\\hat{S}(t)=\\prod_{i:t_i\\leq t} (1 - \\frac{d_i}{n_i})=\\prod_{i:t_i\\leq t} (1 - \\sum_k\\hat{\\lambda}_{k}(t_i))\n",
    "$$\n",
    "\n",
    "Finally, we compute the CIF of event $k$ as the sum of the cause-specific hazards, weighted by the survival probabilities.\n",
    "\n",
    "$$\\hat{F}_k(t)=\\sum_{i:t_i\\leq t} \\hat{\\lambda}_k(t_i) \\hat{S}(t_{i-1})$$\n",
    "    \n",
    "    \n",
    "</details>"
   ]
  },
  {
   "cell_type": "markdown",
   "id": "595fde81-0dc6-4bfa-a38b-98a6f1164e37",
   "metadata": {},
   "source": [
    "Let's use lifelines to estimate the ${CIF_k}$ using [Aalen-Johansen](https://lifelines.readthedocs.io/en/latest/fitters/univariate/AalenJohansenFitter.html). We need to indicate which event to fit on, so we'll iteratively fit the model on all events."
   ]
  },
  {
   "cell_type": "code",
   "execution_count": 3,
   "id": "1756bd79-53d6-4a95-83da-cfb21c2bcaf6",
   "metadata": {},
   "outputs": [
    {
     "name": "stdout",
     "output_type": "stream",
     "text": [
      "Fitting Aalen-Johansen for event 1...\n",
      "Fitting Aalen-Johansen for event 2...\n",
      "Fitting Aalen-Johansen for event 3...\n"
     ]
    },
    {
     "data": {
      "image/png": "[encoded data removed]",
      "text/plain": [
       "<Figure size 640x480 with 1 Axes>"
      ]
     },
     "metadata": {},
     "output_type": "display_data"
    }
   ],
   "source": [
    "from matplotlib import pyplot as plt\n",
    "import seaborn as sns\n",
    "sns.set_style(\"darkgrid\")\n",
    "\n",
    "from lifelines import AalenJohansenFitter\n",
    "\n",
    "\n",
    "fig, ax = plt.subplots()\n",
    "\n",
    "total_cif = None\n",
    "competing_risk_ids = sorted(\n",
    "    truck_failure_competing_events.query(\"event > 0\")[\"event\"].unique()\n",
    ")\n",
    "for event in competing_risk_ids:\n",
    "    print(f\"Fitting Aalen-Johansen for event {event}...\")\n",
    "    ajf = AalenJohansenFitter(calculate_variance=True)\n",
    "    ajf.fit(\n",
    "        truck_failure_competing_events[\"duration\"],\n",
    "        truck_failure_competing_events[\"event\"],\n",
    "        event_of_interest=event\n",
    "    )\n",
    "    ajf.plot(ax=ax, label=f\"event {event}\")\n",
    "    cif_df = ajf.cumulative_density_\n",
    "    cif_times = cif_df.index\n",
    "    if total_cif is None:\n",
    "        total_cif = cif_df[cif_df.columns[0]].values\n",
    "    else:\n",
    "        total_cif += cif_df[cif_df.columns[0]].values\n",
    "\n",
    "ax.plot(cif_times, total_cif, label=\"total\", linestyle=\"--\", color=\"black\")\n",
    "ax.set(\n",
    "    title=\"Mean CIFs estimated by Aalen-Johansen\",\n",
    "    xlabel=\"time (days)\",\n",
    "    xlim=(-30, 2030),\n",
    "    ylim=(-0.05, 1.05),\n",
    ")\n",
    "plt.legend();"
   ]
  },
  {
   "cell_type": "markdown",
   "id": "7e4732eb-3dde-43ae-bd2d-57e2730888ea",
   "metadata": {},
   "source": [
    "This unconditional model helps us identify 3 types of events, having momentum at different times. As expected:\n",
    "\n",
    "- the incidence of type 1 events (failures caused by manufactoring defects) increase quickly from the start and then quickly plateau: after 1000 days, the estimator expects almost no new type 1 event to occur: all trucks with a manufacturing defect should have failed by that time.\n",
    "- the incidence of type 2 events (failures caused by wrong operation of the truck) constantly accumulate throughout the observation period.\n",
    "- the incidence of type 3 events (fatigure induced failures) is almost null until 500 days and then slowly increase.\n",
    "\n",
    "Note that once a truck as failed from one kind of event (e.g. a manufacturing defect), it is taken out of the pool of trucks under study and can therefore no longer experience any other kind of failures: there are therefore many operational or fatigure induced failures that do no happen because some trucks have previously failed from a competing failure type.\n",
    "\n",
    "Finally, we can observe that, as time progresses, operational and, even more importantly, fatigue induced failures are expected to make all the trucks in the study fail. Therefore, the sum of the cumulative incidence functions is expected to reach 100% in our study in the large time limit.\n",
    "\n",
    "However, since all events beyond 2000 days are censored in our dataset, the Aaelen-Johansen estimator produces truncated incidence curves: it does not attempt to extrapolate beyond the maximum event time observed in the data."
   ]
  },
  {
   "cell_type": "markdown",
   "id": "123b395a-efdd-4b59-9d02-ed9f9b212bc9",
   "metadata": {},
   "source": [
    "## Predictive competing risks analysis using our GradientBoostedCIF\n",
    "\n",
    "Contrary to predictive survival analysis, the open source ecosystem is not very mature for predictive competing risk analysis.\n",
    "\n",
    "However, `GradientBoostingIncidence` was designed in a way to optimize the cause-specific version of IBS: for each type of event $k$, we fit one `GradientBoostingIncidence` instance specialized for this kind of event by passing `event_of_interest=k` to the constructor."
   ]
  },
  {
   "cell_type": "code",
   "execution_count": 4,
   "id": "ce935367-1851-45a6-be05-c5bf85da1c60",
   "metadata": {},
   "outputs": [],
   "source": [
    "from sklearn.model_selection import train_test_split\n",
    "\n",
    "\n",
    "def train_test_split_within(X, y, idx, **kwargs):\n",
    "    \"\"\"Ensure that test data durations are within train data durations.\"\"\"\n",
    "    X_train, X_test, y_train, y_test, idx_train, idx_test = train_test_split(X, y, idx, **kwargs)\n",
    "    mask_duration_inliers = y_test[\"duration\"] < y_train[\"duration\"].max()\n",
    "    X_test = X_test[mask_duration_inliers]\n",
    "    y_test = y_test[mask_duration_inliers]\n",
    "    idx_test = idx_test[mask_duration_inliers]\n",
    "    return X_train, X_test, y_train, y_test, idx_train, idx_test\n",
    "\n",
    "\n",
    "X = pd.read_parquet(\"data/truck_failure_10k_features.parquet\")\n",
    "y = truck_failure_competing_events\n",
    "\n",
    "X_train, X_test, y_train, y_test, idx_train, idx_test = train_test_split_within(\n",
    "    X, y, np.arange(X.shape[0]), test_size=0.75, random_state=0\n",
    ")"
   ]
  },
  {
   "cell_type": "code",
   "execution_count": 8,
   "id": "ced9af04-9dac-4854-b3bb-48b0b875f4a9",
   "metadata": {},
   "outputs": [
    {
     "data": {
      "text/plain": [
       "(300,)"
      ]
     },
     "execution_count": 8,
     "metadata": {},
     "output_type": "execute_result"
    }
   ],
   "source": [
    "def make_test_time_grid(y_train, n_steps=300):\n",
    "    \"\"\"Bound times to the range of duration.\"\"\"\n",
    "    # Some survival models can fail to predict near the boundary of the\n",
    "    # range of durations observed on the training set.\n",
    "    observed_duration = y_test.loc[y_test[\"event\"] > 0][\"duration\"]\n",
    "    \n",
    "    # trim 1% of the span, 0.5% on each end:\n",
    "    span = observed_duration.max() - observed_duration.min()\n",
    "    start = observed_duration.min() + 0.005 * span\n",
    "    stop = observed_duration.max() - 0.005 * span\n",
    "    return np.linspace(start, stop, num=n_steps)\n",
    "\n",
    "\n",
    "time_grid = make_test_time_grid(y_train)\n",
    "time_grid.shape"
   ]
  },
  {
   "cell_type": "code",
   "execution_count": 10,
   "id": "ce9d3e9b-5d28-4249-a9a6-0522c80e8367",
   "metadata": {},
   "outputs": [],
   "source": [
    "from sklearn.compose import make_column_transformer\n",
    "from sklearn.preprocessing import OneHotEncoder\n",
    "\n",
    "\n",
    "simple_preprocessor = make_column_transformer(\n",
    "    (OneHotEncoder(sparse_output=False), [\"brand\", \"truck_model\"]),\n",
    "    remainder=\"passthrough\",\n",
    "    verbose_feature_names_out=False,\n",
    ")"
   ]
  },
  {
   "cell_type": "code",
   "execution_count": 12,
   "id": "e2e7b0db-9b5d-4158-9138-ed5423324118",
   "metadata": {},
   "outputs": [
    {
     "name": "stderr",
     "output_type": "stream",
     "text": [
      "100%|███████████████████████████████████████████████████████████████| 50/50 [00:00<00:00, 123.30it/s]\n",
      "100%|███████████████████████████████████████████████████████████████| 50/50 [00:00<00:00, 164.36it/s]\n",
      "100%|███████████████████████████████████████████████████████████████| 50/50 [00:00<00:00, 163.01it/s]\n"
     ]
    }
   ],
   "source": [
    "from sklearn.pipeline import make_pipeline\n",
    "from hazardous.gradient_boosting_incidence import GradientBoostingIncidence\n",
    "\n",
    "\n",
    "y_train_cr = truck_failure_competing_events.loc[idx_train]\n",
    "y_test_cr = truck_failure_competing_events.loc[idx_test]\n",
    "\n",
    "cif_models = {}\n",
    "for k in competing_risk_ids:\n",
    "    \n",
    "    gb_cif_k = GradientBoostingIncidence(\n",
    "        event_of_interest=k, max_leaf_nodes=15, n_iter=50, learning_rate=0.05\n",
    "    )\n",
    "    gb_cif_k = make_pipeline(\n",
    "        simple_preprocessor,\n",
    "        gb_cif_k,\n",
    "    )\n",
    "    gb_cif_k.fit(X_train, y_train_cr)\n",
    "    cif_models[k] = gb_cif_k"
   ]
  },
  {
   "cell_type": "markdown",
   "id": "b348a41e-eef3-43d4-b521-e1d625476d31",
   "metadata": {},
   "source": [
    "Alternatively we can fit a larger model with the largest version of the same dataset (should take less a minute):"
   ]
  },
  {
   "cell_type": "code",
   "execution_count": 9,
   "id": "63ecddc5-f749-46ff-af24-113dd72b7911",
   "metadata": {},
   "outputs": [],
   "source": [
    "# truck_failure_competing_events_large = pd.read_parquet(\"truck_failure_100k_competing_risks.parquet\")\n",
    "# y_train_cr_large = truck_failure_competing_events_large.loc[train_large_mask]\n",
    "\n",
    "# cif_models = {}\n",
    "# for k in competing_risk_ids:    \n",
    "#     gb_cif_k = make_pipeline(\n",
    "#         simple_preprocessor,\n",
    "#         GradientBoostedCIF(\n",
    "#             event_of_interest=k, max_leaf_nodes=31, n_iter=100, learning_rate=0.1\n",
    "#         ),\n",
    "#     )\n",
    "#     gb_cif_k = PipelineWrapper(gb_cif_k)\n",
    "#     gb_cif_k.fit(X_train_large, y_train_cr_large, time_grid)\n",
    "#     cif_models[k] = gb_cif_k"
   ]
  },
  {
   "cell_type": "markdown",
   "id": "c6fc2c4b-dda8-40c8-9b25-c334852d96b5",
   "metadata": {},
   "source": [
    "Once fit, we can use this family of model to predict individual CIF predictions for each kind of event. Plotting the average CIF across indiviuals in the test set should recover curves similar to the Aalean-Johansen estimates (in the limit of large training and test data):"
   ]
  },
  {
   "cell_type": "code",
   "execution_count": 14,
   "id": "d667191c-b90b-41ec-911c-67eb25b3d917",
   "metadata": {},
   "outputs": [
    {
     "data": {
      "text/plain": [
       "['__abstractmethods__',\n",
       " '__annotations__',\n",
       " '__class__',\n",
       " '__delattr__',\n",
       " '__dict__',\n",
       " '__dir__',\n",
       " '__doc__',\n",
       " '__eq__',\n",
       " '__format__',\n",
       " '__ge__',\n",
       " '__getattribute__',\n",
       " '__getitem__',\n",
       " '__getstate__',\n",
       " '__gt__',\n",
       " '__hash__',\n",
       " '__init__',\n",
       " '__init_subclass__',\n",
       " '__le__',\n",
       " '__len__',\n",
       " '__lt__',\n",
       " '__module__',\n",
       " '__ne__',\n",
       " '__new__',\n",
       " '__reduce__',\n",
       " '__reduce_ex__',\n",
       " '__repr__',\n",
       " '__setattr__',\n",
       " '__setstate__',\n",
       " '__sizeof__',\n",
       " '__sklearn_is_fitted__',\n",
       " '__str__',\n",
       " '__subclasshook__',\n",
       " '__weakref__',\n",
       " '_abc_impl',\n",
       " '_can_inverse_transform',\n",
       " '_can_transform',\n",
       " '_check_feature_names',\n",
       " '_check_fit_params',\n",
       " '_check_n_features',\n",
       " '_estimator_type',\n",
       " '_final_estimator',\n",
       " '_fit',\n",
       " '_get_param_names',\n",
       " '_get_params',\n",
       " '_get_tags',\n",
       " '_iter',\n",
       " '_log_message',\n",
       " '_more_tags',\n",
       " '_replace_estimator',\n",
       " '_repr_html_',\n",
       " '_repr_html_inner',\n",
       " '_repr_mimebundle_',\n",
       " '_required_parameters',\n",
       " '_set_params',\n",
       " '_sk_visual_block_',\n",
       " '_validate_data',\n",
       " '_validate_names',\n",
       " '_validate_params',\n",
       " '_validate_steps',\n",
       " 'classes_',\n",
       " 'decision_function',\n",
       " 'feature_names_in_',\n",
       " 'fit',\n",
       " 'fit_predict',\n",
       " 'fit_transform',\n",
       " 'get_feature_names_out',\n",
       " 'get_params',\n",
       " 'inverse_transform',\n",
       " 'memory',\n",
       " 'n_features_in_',\n",
       " 'named_steps',\n",
       " 'predict',\n",
       " 'predict_log_proba',\n",
       " 'predict_proba',\n",
       " 'score',\n",
       " 'score_samples',\n",
       " 'set_output',\n",
       " 'set_params',\n",
       " 'steps',\n",
       " 'transform',\n",
       " 'verbose']"
      ]
     },
     "execution_count": 14,
     "metadata": {},
     "output_type": "execute_result"
    }
   ],
   "source": [
    "dir(cif_models[k])"
   ]
  },
  {
   "cell_type": "code",
   "execution_count": 13,
   "id": "b4e2dade-891e-438b-9ebc-2e8b3b301abb",
   "metadata": {},
   "outputs": [
    {
     "ename": "AttributeError",
     "evalue": "'Pipeline' object has no attribute 'predict_cumulative_incidence'",
     "output_type": "error",
     "traceback": [
      "\u001b[0;31m---------------------------------------------------------------------------\u001b[0m",
      "\u001b[0;31mAttributeError\u001b[0m                            Traceback (most recent call last)",
      "Cell \u001b[0;32mIn[13], line 6\u001b[0m\n\u001b[1;32m      4\u001b[0m gb_cif_cumulative_incidence_curves \u001b[38;5;241m=\u001b[39m {}\n\u001b[1;32m      5\u001b[0m \u001b[38;5;28;01mfor\u001b[39;00m k \u001b[38;5;129;01min\u001b[39;00m competing_risk_ids:\n\u001b[0;32m----> 6\u001b[0m     cif_curves_k \u001b[38;5;241m=\u001b[39m \u001b[43mcif_models\u001b[49m\u001b[43m[\u001b[49m\u001b[43mk\u001b[49m\u001b[43m]\u001b[49m\u001b[38;5;241;43m.\u001b[39;49m\u001b[43mpredict_cumulative_incidence\u001b[49m(X_test, times\u001b[38;5;241m=\u001b[39mtime_grid)\n\u001b[1;32m      7\u001b[0m     gb_cif_cumulative_incidence_curves[k] \u001b[38;5;241m=\u001b[39m cif_curves_k\n\u001b[1;32m      8\u001b[0m     mean_cif_curve_k \u001b[38;5;241m=\u001b[39m cif_curves_k\u001b[38;5;241m.\u001b[39mmean(axis\u001b[38;5;241m=\u001b[39m\u001b[38;5;241m0\u001b[39m)  \u001b[38;5;66;03m# average over test points\u001b[39;00m\n",
      "\u001b[0;31mAttributeError\u001b[0m: 'Pipeline' object has no attribute 'predict_cumulative_incidence'"
     ]
    },
    {
     "data": {
      "image/png": "[encoded data removed]",
      "text/plain": [
       "<Figure size 640x480 with 1 Axes>"
      ]
     },
     "metadata": {},
     "output_type": "display_data"
    }
   ],
   "source": [
    "fig, ax = plt.subplots()\n",
    "total_mean_cif = np.zeros(time_grid.shape[0])\n",
    "\n",
    "gb_cif_cumulative_incidence_curves = {}\n",
    "for k in competing_risk_ids:\n",
    "    cif_curves_k = cif_models[k].predict_cumulative_incidence(X_test, times=time_grid)\n",
    "    gb_cif_cumulative_incidence_curves[k] = cif_curves_k\n",
    "    mean_cif_curve_k = cif_curves_k.mean(axis=0)  # average over test points\n",
    "    ax.plot(time_grid, mean_cif_curve_k, label=f\"event {k}\")\n",
    "    total_mean_cif += mean_cif_curve_k\n",
    "\n",
    "ax.plot(time_grid, total_mean_cif, label=\"total\", linestyle=\"--\", color=\"black\")\n",
    "ax.set(\n",
    "    title=\"Mean CIFs estimated by GradientBoostingCIF\",\n",
    "    xlabel=\"time in days\",\n",
    "    ylabel=\"Cumulative Incidence\",\n",
    "    xlim=(-30, 2030),\n",
    "    ylim=(-0.05, 1.05),\n",
    ")\n",
    "plt.legend();"
   ]
  },
  {
   "cell_type": "markdown",
   "id": "b26ac4b0-9f1c-4d7d-889a-a9421bfae770",
   "metadata": {},
   "source": [
    "The average cause-specific cumulative incidence curves seems to mostly agree with the Aalen-Johansen estimate. One can observe some problematic discrepancy though (depending on the choice of the hyper-parameters):\n",
    "\n",
    "- the cumulative incidence of event 1 and 2 do not start at 0 as expected;\n",
    "- the cumulative incidence of event 1 seems to continue growing beyond day 1500 which is not expected either.\n",
    "\n",
    "On aggregate we can therefore expect the total incidence to be over estimated on the edges of the time range."
   ]
  },
  {
   "cell_type": "markdown",
   "id": "9459c461-fdae-4a59-8e47-bdbf03df8438",
   "metadata": {},
   "source": [
    "Let also reuse the any-event survival estimates to check that:\n",
    "\n",
    "$$\\hat{S}(t) \\approx 1 - \\sum_k \\hat{CIF_k}(t)$$\n"
   ]
  },
  {
   "cell_type": "code",
   "execution_count": null,
   "id": "a167ed7e-146e-4839-8b2d-90dc2e0d7924",
   "metadata": {},
   "outputs": [],
   "source": [
    "fig, ax = plt.subplots()\n",
    "mean_survival_curve = gb_cif_large_survival_curves.mean(axis=0)\n",
    "ax.plot(time_grid, total_mean_cif, label=\"Total CIF\")\n",
    "ax.plot(time_grid, mean_survival_curve, label=\"Any-event survival\")\n",
    "ax.plot(\n",
    "    time_grid,\n",
    "    total_mean_cif + mean_survival_curve,\n",
    "    color=\"black\",\n",
    "    linestyle=\"--\",\n",
    "    label=\"Survival + total CIF\",\n",
    ")\n",
    "ax.legend();"
   ]
  },
  {
   "cell_type": "markdown",
   "id": "ba8ec85d-7bb3-43cc-b90c-5454b9439e8e",
   "metadata": {},
   "source": [
    "So we see that our Gradient Boosting CIF estimator seems to be mostly unbiased as the sum of the mean CIF curves then mean any-event survival curve randomly fluctuates around 1.0. A more careful study would be required to see how the mean and the variance of the sum evolve when changing the size of the training set, the amount of censoring and the hyperparameters of the estimator.\n",
    "\n",
    "In particular, it's possible that it would be beneficial to tune the hyper-parameters of each cause-specific model indpendently using a validation and early stopping.\n",
    "\n",
    "Note: we could also attempt to constrain the total CIF and survival estimates to always sum to 1 by design but this would make it challenging (impossible?) to also constrain the model to yield monotonically increasing CIF curves as implemented in `GradientBoostedCIF`. This is left as future work."
   ]
  },
  {
   "cell_type": "markdown",
   "id": "2be4d76a-35ce-4a79-ae9c-64d1259b1360",
   "metadata": {},
   "source": [
    "### Model evaluation with the cause-specific Brier score\n",
    "\n",
    "At this time, neither scikit-survival nor lifelines provide an implementation of time-dependent Brier score adjusted for censoring in a competing risks setting.\n",
    "\n",
    "Let's compute the theoretical cumulative incidence from the true hazards of the data generating process. We start from our theoretical hazards:"
   ]
  },
  {
   "cell_type": "code",
   "execution_count": null,
   "id": "e09678f8-6e2e-46a1-92fa-3d940d0d18b0",
   "metadata": {},
   "outputs": [],
   "source": [
    "theoretical_hazards.shape"
   ]
  },
  {
   "cell_type": "markdown",
   "id": "b9443ddc-6a62-495d-b079-7357a1b8036d",
   "metadata": {},
   "source": [
    "To derive the theoretical cumulative incidence curves, we need to estimate the true survival functions from the any-event hazards. Then we integrate over time the produce of the cause specific hazards with the any-event survival function to derive the cause-specific cumulative incidence.\n",
    "\n",
    "We also need to interpolate them to our evaluation time grid.\n",
    "\n",
    "Finally we compute the IBS both for the cumulative incidence curves predicted by our `GradientBoostedCIF` models and the curves derived from the the true hazards."
   ]
  },
  {
   "cell_type": "code",
   "execution_count": null,
   "id": "c9b913a2-74b4-4920-a63c-33118a3c7785",
   "metadata": {},
   "outputs": [],
   "source": [
    "from models.gradient_boosted_cif import cif_integrated_brier_score\n",
    "\n",
    "\n",
    "any_event_hazards = theoretical_hazards.sum(axis=0)\n",
    "true_survival = np.exp(-any_event_hazards.cumsum(axis=-1))\n",
    "\n",
    "for k in competing_risk_ids:\n",
    "    # Compute the integrated \n",
    "    gb_cif_ibs_k = cif_integrated_brier_score(\n",
    "        y_train_cr,\n",
    "        y_test_cr,\n",
    "        gb_cif_cumulative_incidence_curves[k],\n",
    "        time_grid,\n",
    "        event_of_interest=k,\n",
    "    )\n",
    "    # Evaluate the interpolated cumulative incidence curve on the same\n",
    "    # test set:\n",
    "    theoretical_cumulated_incidence_curves_k = np.asarray([\n",
    "        interp1d(\n",
    "            original_time_range,\n",
    "            ci_curve,\n",
    "            kind=\"previous\",\n",
    "            bounds_error=False,\n",
    "            fill_value=\"extrapolate\",\n",
    "        )(time_grid)\n",
    "        for ci_curve in (theoretical_hazards[k - 1] * true_survival).cumsum(axis=-1)[idx_test]\n",
    "    ])\n",
    "    theoretical_cif_ibs_k = cif_integrated_brier_score(\n",
    "        y_train_cr,\n",
    "        y_test_cr,\n",
    "        theoretical_cumulated_incidence_curves_k,\n",
    "        time_grid,\n",
    "        event_of_interest=k,\n",
    "    )\n",
    "    print(\n",
    "        f\"[event {k}] IBS for GB CIF: {gb_cif_ibs_k:.4f}, \"\n",
    "        f\"IBS for True CIF: {theoretical_cif_ibs_k:.4f}\"\n",
    "    )"
   ]
  },
  {
   "cell_type": "markdown",
   "id": "1e81b385-01ad-4719-b5c4-e72dd1c4fa14",
   "metadata": {},
   "source": [
    "By looking at the cause-specific IBS values, it seems that our model is already quite close to the optimal. Again, it's likely that this can be improved by increasing the training set size and tuning the hyper-parameters."
   ]
  },
  {
   "cell_type": "markdown",
   "id": "6c3315f7-d3a2-43d1-8c95-8bf91201c926",
   "metadata": {},
   "source": [
    "### Model inspection with Partial Dependence Plots (PDP)\n",
    "\n",
    "Partial dependence plots make it possible to visualize the impact of an intervention on individual numerical features."
   ]
  },
  {
   "cell_type": "code",
   "execution_count": null,
   "id": "30759989-6117-4467-82a4-9f24b74e8f85",
   "metadata": {},
   "outputs": [],
   "source": [
    "cif_models[1].estimator[:-1].get_feature_names_out()"
   ]
  },
  {
   "cell_type": "markdown",
   "id": "6f35199b-daa0-4092-855b-350ddbfe4d54",
   "metadata": {},
   "source": [
    "from sklearn.inspection import PartialDependenceDisplay\n",
    "\n",
    "for k in competing_risk_ids:\n",
    "    preprocessor_k = cif_models[k].estimator[:-1]\n",
    "    classifier_k = cif_models[k].estimator[-1]\n",
    "    classifier_k.set_params(time_horizon=1500, show_progressbar=False)\n",
    "\n",
    "    disp = PartialDependenceDisplay.from_estimator(\n",
    "        classifier_k,\n",
    "        preprocessor_k.transform(X_test),\n",
    "        response_method=\"predict_proba\",\n",
    "        features=[\"driver_skill\", \"usage_rate\"],\n",
    "        feature_names=preprocessor_k.get_feature_names_out(),\n",
    "    )\n",
    "    disp.bounding_ax_.set(title=f\"Partial dependence for CIF_{k}\")\n",
    "    for ax in disp.axes_.ravel():\n",
    "        ax.set(ylim=(0, 1))"
   ]
  },
  {
   "cell_type": "markdown",
   "id": "0e89b882-97c0-4e4a-aa64-db3e1a683549",
   "metadata": {},
   "source": [
    "**Analysis**\n",
    "\n",
    "We observe the following:\n",
    "\n",
    "- a `usage_rate` increase seems to have a small yet positive effect on the incidence of events of type 1 and 2;\n",
    "- a `driver_skill` increase seems to cause a dramatic reduction on the incidence of events of type 2 and small positive effect on the incidence of type 1 and 3 events.\n",
    "\n",
    "This last point is a bit counter intuitive. Since we have access to the data generative process, we can check that the `drive_skill` variable has not impact on the type 1 and 3 hazards (manufacturing defects and fatigue induced failures). So the effect we observe on our models must come from the competition between events: trucks with skilled drivers have a higher relative incidence of type 1 and 3 events because they have a dramatic reduction in type 2 events (operational failures), hence have more opportunity to encounter the other kinds of failures. This highlights that competing risks make it even more challenging to interpret the results of such model inspections.\n",
    "\n",
    "Note that, at the time of writing, scikit-learn does not yet provide a user friendly way to study the impact of categorical variables (this will hopefull improve in version 1.3 and later). In particular it would interesting to see if the estimator for type 2 events could successfully model the quadratic interaction between drive skill and truck UX (via the model variable).\n",
    "\n",
    "Finally: **we cannot conclude on causal effects from the PDP of a classifier alone**. Indeed interventions on estimator inputs and measured effects on estimator predictions do not necessarily estimate true causal effects, had we the opportunity to intervene in the real world. **We would need to make additional assumptions** such as the structure of a causal graph that relates the treated input, the other input covariates and the outcome variable and the absence of hidden confounders. Furthermore we would also need to assume independence of the treatment assignment and the other covariates. If not, we try to use more adapted methods such as [doubly robust causal inference](https://matheusfacure.github.io/python-causality-handbook/12-Doubly-Robust-Estimation.html) to adjust for any such dependence."
   ]
  },
  {
   "cell_type": "markdown",
   "id": "8971f235-efc9-4792-a7cf-33e1aeb4c96e",
   "metadata": {},
   "source": [
    "**Exercise**\n",
    "\n",
    "For each type of event and each datapoint in the test set, predict the time-to-event for a quantile of your choice. \n",
    "\n",
    "Then compare to the corresponding quantile of the time-to-event derived from the theoretical cumulative incidence curves.\n",
    "\n",
    "*Hint* do you expect quantile choices that yield undefined values? If so, how sensitive are each types of event to the choice of quantile?\n",
    "\n",
    "*Hint* you can reuse the model trained as `cif_models[k]` for the event of type `k`. Those expose a handy `.predict_quantile(X_test, quantile=q)` method if you wish."
   ]
  },
  {
   "cell_type": "code",
   "execution_count": null,
   "id": "a71b6c05-9060-4508-9c63-3b10b6d37a8d",
   "metadata": {},
   "outputs": [],
   "source": [
    "# compute quantile time-to-event predicted by model\n",
    "\n",
    "# TODO"
   ]
  },
  {
   "cell_type": "code",
   "execution_count": null,
   "id": "d9ac15ec-1ec8-450a-84fb-a739a5cddcc4",
   "metadata": {},
   "outputs": [],
   "source": [
    "# measure quantile time-to-event on uncensored data\n",
    "\n",
    "\n",
    "# TODO"
   ]
  },
  {
   "cell_type": "code",
   "execution_count": null,
   "id": "773b6180-58ab-4a2a-9746-ab5c77efc067",
   "metadata": {},
   "outputs": [],
   "source": [
    "# compare the predictions with expected values, for instance using the mean absolute error metric\n",
    "\n",
    "\n",
    "# TODO\n",
    "\n",
    "\n",
    "\n",
    "\n"
   ]
  }
 ],
 "metadata": {
  "kernelspec": {
   "display_name": "Python 3 (ipykernel)",
   "language": "python",
   "name": "python3"
  },
  "language_info": {
   "codemirror_mode": {
    "name": "ipython",
    "version": 3
   },
   "file_extension": ".py",
   "mimetype": "text/x-python",
   "name": "python",
   "nbconvert_exporter": "python",
   "pygments_lexer": "ipython3",
   "version": "3.11.4"
  }
 },
 "nbformat": 4,
 "nbformat_minor": 5
}
