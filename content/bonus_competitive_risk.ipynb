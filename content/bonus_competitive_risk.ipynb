{
 "cells": [
  {
   "cell_type": "markdown",
   "id": "dbfe8a6f-02ad-415b-a014-f2625da8c7f3",
   "metadata": {},
   "source": [
    "## Unconditional competing risks modeling with Aalen-Johanson\n",
    "\n",
    "So far, we've been dealing with a single kind of risk: any accident. **What if we have different, mutually exclusive types of failure?**\n",
    "\n",
    "This is the point of **competing risks modeling**. It aims at modeling the probability of incidence for different events, where these probabilities interfer with each other. Here we consider that a truck that had an accident is withdrawn from the fleet, and therefore can't experience any other ones.\n"
   ]
  },
  {
   "cell_type": "markdown",
   "id": "acd36666-16da-400a-8737-5c16ac784beb",
   "metadata": {},
   "source": [
    "Let's load our dataset another time. Notice that we have 3 types of event (plus the censoring 0):"
   ]
  },
  {
   "cell_type": "code",
   "execution_count": 3,
   "id": "d43298de-648a-4883-b764-54b9f119fea9",
   "metadata": {},
   "outputs": [
    {
     "data": {
      "text/html": [
       "<div>\n",
       "<style scoped>\n",
       "    .dataframe tbody tr th:only-of-type {\n",
       "        vertical-align: middle;\n",
       "    }\n",
       "\n",
       "    .dataframe tbody tr th {\n",
       "        vertical-align: top;\n",
       "    }\n",
       "\n",
       "    .dataframe thead th {\n",
       "        text-align: right;\n",
       "    }\n",
       "</style>\n",
       "<table border=\"1\" class=\"dataframe\">\n",
       "  <thead>\n",
       "    <tr style=\"text-align: right;\">\n",
       "      <th></th>\n",
       "      <th>event</th>\n",
       "      <th>duration</th>\n",
       "    </tr>\n",
       "  </thead>\n",
       "  <tbody>\n",
       "    <tr>\n",
       "      <th>0</th>\n",
       "      <td>3</td>\n",
       "      <td>980.394661</td>\n",
       "    </tr>\n",
       "    <tr>\n",
       "      <th>1</th>\n",
       "      <td>2</td>\n",
       "      <td>1207.870100</td>\n",
       "    </tr>\n",
       "    <tr>\n",
       "      <th>2</th>\n",
       "      <td>0</td>\n",
       "      <td>125.000000</td>\n",
       "    </tr>\n",
       "    <tr>\n",
       "      <th>3</th>\n",
       "      <td>1</td>\n",
       "      <td>96.839004</td>\n",
       "    </tr>\n",
       "    <tr>\n",
       "      <th>4</th>\n",
       "      <td>2</td>\n",
       "      <td>88.077852</td>\n",
       "    </tr>\n",
       "    <tr>\n",
       "      <th>...</th>\n",
       "      <td>...</td>\n",
       "      <td>...</td>\n",
       "    </tr>\n",
       "    <tr>\n",
       "      <th>9995</th>\n",
       "      <td>2</td>\n",
       "      <td>0.435731</td>\n",
       "    </tr>\n",
       "    <tr>\n",
       "      <th>9996</th>\n",
       "      <td>2</td>\n",
       "      <td>356.591211</td>\n",
       "    </tr>\n",
       "    <tr>\n",
       "      <th>9997</th>\n",
       "      <td>1</td>\n",
       "      <td>847.951259</td>\n",
       "    </tr>\n",
       "    <tr>\n",
       "      <th>9998</th>\n",
       "      <td>2</td>\n",
       "      <td>25.551167</td>\n",
       "    </tr>\n",
       "    <tr>\n",
       "      <th>9999</th>\n",
       "      <td>0</td>\n",
       "      <td>23.000000</td>\n",
       "    </tr>\n",
       "  </tbody>\n",
       "</table>\n",
       "<p>10000 rows × 2 columns</p>\n",
       "</div>"
      ],
      "text/plain": [
       "      event     duration\n",
       "0         3   980.394661\n",
       "1         2  1207.870100\n",
       "2         0   125.000000\n",
       "3         1    96.839004\n",
       "4         2    88.077852\n",
       "...     ...          ...\n",
       "9995      2     0.435731\n",
       "9996      2   356.591211\n",
       "9997      1   847.951259\n",
       "9998      2    25.551167\n",
       "9999      0    23.000000\n",
       "\n",
       "[10000 rows x 2 columns]"
      ]
     },
     "execution_count": 3,
     "metadata": {},
     "output_type": "execute_result"
    }
   ],
   "source": [
    "import pandas as pd\n",
    "\n",
    "truck_failure_competing_events = pd.read_parquet(\"data/truck_failure_10k_competing_risks.parquet\")\n",
    "truck_failure_competing_events"
   ]
  },
  {
   "cell_type": "markdown",
   "id": "7be92700-53a1-4c19-a15e-7ba39482db6a",
   "metadata": {},
   "source": [
    "In this refined variant of the truck failure event data, the event identifiers mean the following:\n",
    "\n",
    "- 1: manufacturing defect: a failure of a truck that happens as a result of mistakes in the assembly of the components (e.g. loose bolts);\n",
    "- 2: operational failures, e.g. a driving accident;\n",
    "- 3: fatigure induced failures, e.g. an engine breaks after heavy use for a prolongued period of time, despite good assembly and regular maintenance.\n",
    "\n",
    "0 is still the censoring marker."
   ]
  },
  {
   "cell_type": "markdown",
   "id": "e4a7fea3-b3c4-47f3-bf79-ad55ecb9ea8e",
   "metadata": {},
   "source": [
    "Instead of estimating a survival function (probability of remaining event free over time), a competing risk analysis model attempts to estimate a **cause-specific cumulative incidence function ($CIF_k$)**:\n",
    "\n",
    "For any event $k \\in [1, K]$, the cumulative incidence function of the event $k$ becomes:\n",
    "\n",
    "$$CIF_k = P(T < t, \\mathrm{event}=k)$$\n",
    "\n",
    "In the unconditional case, the estimator ignore any side information in $X$ and only models $CIF_k(t)$ from information in $y$: event types and their respective durations (often with censoring).\n",
    "\n",
    "**Aalen-Johanson estimates the CIF for multi-event $k$**, by:\n",
    "- estimating the cause-specific hazards on one hand;\n",
    "- estimating the global (any event) survival probabilities using Kaplan-Meier on the other hand.\n",
    "\n",
    "The two estimates are then combined to produce an estimate of the cause-specific cumulative incidence.\n",
    "\n",
    "<details><summary>Mathematical formulation</summary>\n",
    "\n",
    "<br>\n",
    "We first compute the cause-specific hazards $\\lambda_k$, by simply counting for each individual duration $t_i$ the number of individuals that have experienced the event $k$ at $t_i$ ($d_{i,k}$), and the number of people still at risk at $t_i$ ($n_i$).\n",
    "\n",
    "$$\n",
    "\\hat{\\lambda}_k(t_i)=\\frac{d_{k,i}}{n_i}\n",
    "$$\n",
    "\n",
    "Then, we compute the survival probability any event with Kaplan-Meier any event, where we can reused the cause-specific hazards.\n",
    "    \n",
    "$$\n",
    "\\hat{S}(t)=\\prod_{i:t_i\\leq t} (1 - \\frac{d_i}{n_i})=\\prod_{i:t_i\\leq t} (1 - \\sum_k\\hat{\\lambda}_{k}(t_i))\n",
    "$$\n",
    "\n",
    "Finally, we compute the CIF of event $k$ as the sum of the cause-specific hazards, weighted by the survival probabilities.\n",
    "\n",
    "$$\\hat{F}_k(t)=\\sum_{i:t_i\\leq t} \\hat{\\lambda}_k(t_i) \\hat{S}(t_{i-1})$$\n",
    "    \n",
    "    \n",
    "</details>"
   ]
  },
  {
   "cell_type": "markdown",
   "id": "595fde81-0dc6-4bfa-a38b-98a6f1164e37",
   "metadata": {},
   "source": [
    "Let's use lifelines to estimate the ${CIF_k}$ using Aalen-Johanson. We need to indicate which event to fit on, so we'll iteratively fit the model on all events."
   ]
  },
  {
   "cell_type": "code",
   "execution_count": 5,
   "id": "1756bd79-53d6-4a95-83da-cfb21c2bcaf6",
   "metadata": {},
   "outputs": [
    {
     "name": "stdout",
     "output_type": "stream",
     "text": [
      "Fitting Aalen-Johansen for event 1...\n",
      "Fitting Aalen-Johansen for event 2...\n",
      "Fitting Aalen-Johansen for event 3...\n"
     ]
    },
    {
     "data": {
      "image/png": "[encoded data removed]",
      "text/plain": [
       "<Figure size 640x480 with 1 Axes>"
      ]
     },
     "metadata": {},
     "output_type": "display_data"
    }
   ],
   "source": [
    "from matplotlib import pyplot as plt\n",
    "from lifelines import AalenJohansenFitter\n",
    "\n",
    "fig, ax = plt.subplots()\n",
    "\n",
    "total_cif = None\n",
    "competing_risk_ids = sorted(\n",
    "    truck_failure_competing_events.query(\"event > 0\")[\"event\"].unique()\n",
    ")\n",
    "for event in competing_risk_ids:\n",
    "    print(f\"Fitting Aalen-Johansen for event {event}...\")\n",
    "    ajf = AalenJohansenFitter(calculate_variance=True)\n",
    "    ajf.fit(\n",
    "        truck_failure_competing_events[\"duration\"],\n",
    "        truck_failure_competing_events[\"event\"],\n",
    "        event_of_interest=event\n",
    "    )\n",
    "    ajf.plot(ax=ax, label=f\"event {event}\")\n",
    "    cif_df = ajf.cumulative_density_\n",
    "    cif_times = cif_df.index\n",
    "    if total_cif is None:\n",
    "        total_cif = cif_df[cif_df.columns[0]].values\n",
    "    else:\n",
    "        total_cif += cif_df[cif_df.columns[0]].values\n",
    "\n",
    "ax.plot(cif_times, total_cif, label=\"total\", linestyle=\"--\", color=\"black\")\n",
    "ax.set(\n",
    "    title=\"Mean CIFs estimated by Aalen-Johansen\",\n",
    "    xlabel=\"time (days)\",\n",
    "    xlim=(-30, 2030),\n",
    "    ylim=(-0.05, 1.05),\n",
    ")\n",
    "plt.legend();"
   ]
  },
  {
   "cell_type": "markdown",
   "id": "7e4732eb-3dde-43ae-bd2d-57e2730888ea",
   "metadata": {},
   "source": [
    "This unconditional model helps us identify 3 types of events, having momentum at different times. As expected:\n",
    "\n",
    "- the incidence of type 1 events (failures caused by manufactoring defects) increase quickly from the start and then quickly plateau: after 1000 days, the estimator expects almost no new type 1 event to occur: all trucks with a manufacturing defect should have failed by that time.\n",
    "- the incidence of type 2 events (failures caused by wrong operation of the truck) constantly accumulate throughout the observation period.\n",
    "- the incidence of type 3 events (fatigure induced failures) is almost null until 500 days and then slowly increase.\n",
    "\n",
    "Note that once a truck as failed from one kind of event (e.g. a manufacturing defect), it is taken out of the pool of trucks under study and can therefore no longer experience any other kind of failures: there are therefore many operational or fatigure induced failures that do no happen because some trucks have previously failed from a competing failure type.\n",
    "\n",
    "Finally, we can observe that, as time progresses, operational and, even more importantly, fatigue induced failures are expected to make all the trucks in the study fail. Therefore, the sum of the cumulative incidence functions is expected to reach 100% in our study in the large time limit.\n",
    "\n",
    "However, since all events beyond 2000 days are censored in our dataset, the Aaelen-Johansen estimator produces truncated incidence curves: it does not attempt to extra polate beyond the maximum event time observed in the data."
   ]
  },
  {
   "cell_type": "markdown",
   "id": "123b395a-efdd-4b59-9d02-ed9f9b212bc9",
   "metadata": {},
   "source": [
    "## Predictive competing risks analysis using our GradientBoostedCIF\n",
    "\n",
    "Contrary to predictive survival analysis, the open source ecosystem is not very mature for predictive competing risk analysis.\n",
    "\n",
    "However, `GradientBoostingIncidence` was designed in a way to optimize the cause-specific version of IBS: for each type of event $k$, we fit one `GradientBoostingIncidence` instance specialized for this kind of event by passing `event_of_interest=k` to the constructor."
   ]
  },
  {
   "cell_type": "code",
   "execution_count": 14,
   "id": "ce935367-1851-45a6-be05-c5bf85da1c60",
   "metadata": {},
   "outputs": [],
   "source": [
    "import numpy as np\n",
    "from sklearn.model_selection import train_test_split\n",
    "\n",
    "\n",
    "def train_test_split_within(X, y, idx, **kwargs):\n",
    "    \"\"\"Ensure that test data durations are within train data durations.\"\"\"\n",
    "    X_train, X_test, y_train, y_test, idx_train, idx_test = train_test_split(X, y, idx, **kwargs)\n",
    "    mask_duration_inliers = y_test[\"duration\"] < y_train[\"duration\"].max()\n",
    "    X_test = X_test[mask_duration_inliers]\n",
    "    y_test = y_test[mask_duration_inliers]\n",
    "    idx_test = idx_test[mask_duration_inliers]\n",
    "    return X_train, X_test, y_train, y_test, idx_train, idx_test\n",
    "\n",
    "\n",
    "X = pd.read_parquet(\"data/truck_failure_10k_features.parquet\")\n",
    "y = truck_failure_competing_events\n",
    "\n",
    "X_train, X_test, y_train, y_test, idx_train, idx_test = train_test_split_within(\n",
    "    X, y, np.arange(X.shape[0]), test_size=0.75, random_state=0\n",
    ")"
   ]
  },
  {
   "cell_type": "code",
   "execution_count": 16,
   "id": "e2e7b0db-9b5d-4158-9138-ed5423324118",
   "metadata": {},
   "outputs": [
    {
     "ename": "NameError",
     "evalue": "name 'simple_preprocessor' is not defined",
     "output_type": "error",
     "traceback": [
      "\u001b[0;31m---------------------------------------------------------------------------\u001b[0m",
      "\u001b[0;31mNameError\u001b[0m                                 Traceback (most recent call last)",
      "Cell \u001b[0;32mIn[16], line 10\u001b[0m\n\u001b[1;32m      7\u001b[0m cif_models \u001b[38;5;241m=\u001b[39m {}\n\u001b[1;32m      8\u001b[0m \u001b[38;5;28;01mfor\u001b[39;00m k \u001b[38;5;129;01min\u001b[39;00m competing_risk_ids:    \n\u001b[1;32m      9\u001b[0m     gb_cif_k \u001b[38;5;241m=\u001b[39m make_pipeline(\n\u001b[0;32m---> 10\u001b[0m         \u001b[43msimple_preprocessor\u001b[49m,\n\u001b[1;32m     11\u001b[0m         GradientBoostedCIF(\n\u001b[1;32m     12\u001b[0m             event_of_interest\u001b[38;5;241m=\u001b[39mk, max_leaf_nodes\u001b[38;5;241m=\u001b[39m\u001b[38;5;241m15\u001b[39m, n_iter\u001b[38;5;241m=\u001b[39m\u001b[38;5;241m50\u001b[39m, learning_rate\u001b[38;5;241m=\u001b[39m\u001b[38;5;241m0.05\u001b[39m\n\u001b[1;32m     13\u001b[0m         ),\n\u001b[1;32m     14\u001b[0m     )\n\u001b[1;32m     15\u001b[0m     gb_cif_k \u001b[38;5;241m=\u001b[39m PipelineWrapper(gb_cif_k)\n\u001b[1;32m     16\u001b[0m     gb_cif_k\u001b[38;5;241m.\u001b[39mfit(X_train, y_train_cr, time_grid)\n",
      "\u001b[0;31mNameError\u001b[0m: name 'simple_preprocessor' is not defined"
     ]
    }
   ],
   "source": [
    "from sklearn.pipeline import make_pipeline\n",
    "from hazardous import GradientBoostedIncidence\n",
    "\n",
    "\n",
    "y_train_cr = truck_failure_competing_events.loc[idx_train]\n",
    "y_test_cr = truck_failure_competing_events.loc[idx_test]\n",
    "\n",
    "cif_models = {}\n",
    "for k in competing_risk_ids:    \n",
    "    gb_cif_k = GradientBoostedIncidence(\n",
    "        event_of_interest=k, max_leaf_nodes=15, n_iter=50, learning_rate=0.05\n",
    "    )\n",
    "    gb_cif_k = PipelineWrapper(gb_cif_k)\n",
    "    gb_cif_k.fit(X_train, y_train_cr, time_grid)\n",
    "    cif_models[k] = gb_cif_k"
   ]
  },
  {
   "cell_type": "markdown",
   "id": "b348a41e-eef3-43d4-b521-e1d625476d31",
   "metadata": {},
   "source": [
    "Alternatively we can fit a larger model with the largest version of the same dataset (should take less a minute):"
   ]
  },
  {
   "cell_type": "code",
   "execution_count": 9,
   "id": "63ecddc5-f749-46ff-af24-113dd72b7911",
   "metadata": {},
   "outputs": [],
   "source": [
    "# truck_failure_competing_events_large = pd.read_parquet(\"truck_failure_100k_competing_risks.parquet\")\n",
    "# y_train_cr_large = truck_failure_competing_events_large.loc[train_large_mask]\n",
    "\n",
    "# cif_models = {}\n",
    "# for k in competing_risk_ids:    \n",
    "#     gb_cif_k = make_pipeline(\n",
    "#         simple_preprocessor,\n",
    "#         GradientBoostedCIF(\n",
    "#             event_of_interest=k, max_leaf_nodes=31, n_iter=100, learning_rate=0.1\n",
    "#         ),\n",
    "#     )\n",
    "#     gb_cif_k = PipelineWrapper(gb_cif_k)\n",
    "#     gb_cif_k.fit(X_train_large, y_train_cr_large, time_grid)\n",
    "#     cif_models[k] = gb_cif_k"
   ]
  },
  {
   "cell_type": "markdown",
   "id": "c6fc2c4b-dda8-40c8-9b25-c334852d96b5",
   "metadata": {},
   "source": [
    "Once fit, we can use this family of model to predict individual CIF predictions for each kind of event. Plotting the average CIF across indiviuals in the test set should recover curves similar to the Aalean-Johansen estimates (in the limit of large training and test data):"
   ]
  },
  {
   "cell_type": "code",
   "execution_count": null,
   "id": "b4e2dade-891e-438b-9ebc-2e8b3b301abb",
   "metadata": {},
   "outputs": [],
   "source": [
    "fig, ax = plt.subplots()\n",
    "total_mean_cif = np.zeros(time_grid.shape[0])\n",
    "\n",
    "gb_cif_cumulative_incidence_curves = {}\n",
    "for k in competing_risk_ids:\n",
    "    cif_curves_k = cif_models[k].predict_cumulative_incidence(X_test, time_grid)\n",
    "    gb_cif_cumulative_incidence_curves[k] = cif_curves_k\n",
    "    mean_cif_curve_k = cif_curves_k.mean(axis=0)  # average over test points\n",
    "    ax.plot(time_grid, mean_cif_curve_k, label=f\"event {k}\")\n",
    "    total_mean_cif += mean_cif_curve_k\n",
    "\n",
    "ax.plot(time_grid, total_mean_cif, label=\"total\", linestyle=\"--\", color=\"black\")\n",
    "ax.set(\n",
    "    title=\"Mean CIFs estimated by GradientBoostingCIF\",\n",
    "    xlabel=\"time in days\",\n",
    "    ylabel=\"Cumulative Incidence\",\n",
    "    xlim=(-30, 2030),\n",
    "    ylim=(-0.05, 1.05),\n",
    ")\n",
    "plt.legend();"
   ]
  },
  {
   "cell_type": "markdown",
   "id": "b26ac4b0-9f1c-4d7d-889a-a9421bfae770",
   "metadata": {},
   "source": [
    "The average cause-specific cumulative incidence curves seems to mostly agree with the Aalen-Johansen estimate. One can observe some problematic discrepancy though (depending on the choice of the hyper-parameters):\n",
    "\n",
    "- the cumulative incidence of event 1 and 2 do not start at 0 as expected;\n",
    "- the cumulative incidence of event 1 seems to continue growing beyond day 1500 which is not expected either.\n",
    "\n",
    "On aggregate we can therefore expect the total incidence to be over estimated on the edges of the time range."
   ]
  },
  {
   "cell_type": "markdown",
   "id": "9459c461-fdae-4a59-8e47-bdbf03df8438",
   "metadata": {},
   "source": [
    "Let also reuse the any-event survival estimates to check that:\n",
    "\n",
    "$$\\hat{S}(t) \\approx 1 - \\sum_k \\hat{CIF_k}(t)$$\n"
   ]
  },
  {
   "cell_type": "code",
   "execution_count": null,
   "id": "a167ed7e-146e-4839-8b2d-90dc2e0d7924",
   "metadata": {},
   "outputs": [],
   "source": [
    "fig, ax = plt.subplots()\n",
    "mean_survival_curve = gb_cif_large_survival_curves.mean(axis=0)\n",
    "ax.plot(time_grid, total_mean_cif, label=\"Total CIF\")\n",
    "ax.plot(time_grid, mean_survival_curve, label=\"Any-event survival\")\n",
    "ax.plot(\n",
    "    time_grid,\n",
    "    total_mean_cif + mean_survival_curve,\n",
    "    color=\"black\",\n",
    "    linestyle=\"--\",\n",
    "    label=\"Survival + total CIF\",\n",
    ")\n",
    "ax.legend();"
   ]
  },
  {
   "cell_type": "markdown",
   "id": "ba8ec85d-7bb3-43cc-b90c-5454b9439e8e",
   "metadata": {},
   "source": [
    "So we see that our Gradient Boosting CIF estimator seems to be mostly unbiased as the sum of the mean CIF curves then mean any-event survival curve randomly fluctuates around 1.0. A more careful study would be required to see how the mean and the variance of the sum evolve when changing the size of the training set, the amount of censoring and the hyperparameters of the estimator.\n",
    "\n",
    "In particular, it's possible that it would be beneficial to tune the hyper-parameters of each cause-specific model indpendently using a validation and early stopping.\n",
    "\n",
    "Note: we could also attempt to constrain the total CIF and survival estimates to always sum to 1 by design but this would make it challenging (impossible?) to also constrain the model to yield monotonically increasing CIF curves as implemented in `GradientBoostedCIF`. This is left as future work."
   ]
  },
  {
   "cell_type": "markdown",
   "id": "2be4d76a-35ce-4a79-ae9c-64d1259b1360",
   "metadata": {},
   "source": [
    "### Model evaluation with the cause-specific Brier score\n",
    "\n",
    "At this time, neither scikit-survival nor lifelines provide an implementation of time-dependent Brier score adjusted for censoring in a competing risks setting.\n",
    "\n",
    "Let's compute the theoretical cumulative incidence from the true hazards of the data generating process. We start from our theoretical hazards:"
   ]
  },
  {
   "cell_type": "code",
   "execution_count": null,
   "id": "e09678f8-6e2e-46a1-92fa-3d940d0d18b0",
   "metadata": {},
   "outputs": [],
   "source": [
    "theoretical_hazards.shape"
   ]
  },
  {
   "cell_type": "markdown",
   "id": "b9443ddc-6a62-495d-b079-7357a1b8036d",
   "metadata": {},
   "source": [
    "To derive the theoretical cumulative incidence curves, we need to estimate the true survival functions from the any-event hazards. Then we integrate over time the produce of the cause specific hazards with the any-event survival function to derive the cause-specific cumulative incidence.\n",
    "\n",
    "We also need to interpolate them to our evaluation time grid.\n",
    "\n",
    "Finally we compute the IBS both for the cumulative incidence curves predicted by our `GradientBoostedCIF` models and the curves derived from the the true hazards."
   ]
  },
  {
   "cell_type": "code",
   "execution_count": null,
   "id": "c9b913a2-74b4-4920-a63c-33118a3c7785",
   "metadata": {},
   "outputs": [],
   "source": [
    "from models.gradient_boosted_cif import cif_integrated_brier_score\n",
    "\n",
    "\n",
    "any_event_hazards = theoretical_hazards.sum(axis=0)\n",
    "true_survival = np.exp(-any_event_hazards.cumsum(axis=-1))\n",
    "\n",
    "for k in competing_risk_ids:\n",
    "    # Compute the integrated \n",
    "    gb_cif_ibs_k = cif_integrated_brier_score(\n",
    "        y_train_cr,\n",
    "        y_test_cr,\n",
    "        gb_cif_cumulative_incidence_curves[k],\n",
    "        time_grid,\n",
    "        event_of_interest=k,\n",
    "    )\n",
    "    # Evaluate the interpolated cumulative incidence curve on the same\n",
    "    # test set:\n",
    "    theoretical_cumulated_incidence_curves_k = np.asarray([\n",
    "        interp1d(\n",
    "            original_time_range,\n",
    "            ci_curve,\n",
    "            kind=\"previous\",\n",
    "            bounds_error=False,\n",
    "            fill_value=\"extrapolate\",\n",
    "        )(time_grid)\n",
    "        for ci_curve in (theoretical_hazards[k - 1] * true_survival).cumsum(axis=-1)[idx_test]\n",
    "    ])\n",
    "    theoretical_cif_ibs_k = cif_integrated_brier_score(\n",
    "        y_train_cr,\n",
    "        y_test_cr,\n",
    "        theoretical_cumulated_incidence_curves_k,\n",
    "        time_grid,\n",
    "        event_of_interest=k,\n",
    "    )\n",
    "    print(\n",
    "        f\"[event {k}] IBS for GB CIF: {gb_cif_ibs_k:.4f}, \"\n",
    "        f\"IBS for True CIF: {theoretical_cif_ibs_k:.4f}\"\n",
    "    )"
   ]
  },
  {
   "cell_type": "markdown",
   "id": "1e81b385-01ad-4719-b5c4-e72dd1c4fa14",
   "metadata": {},
   "source": [
    "By looking at the cause-specific IBS values, it seems that our model is already quite close to the optimal. Again, it's likely that this can be improved by increasing the training set size and tuning the hyper-parameters."
   ]
  },
  {
   "cell_type": "markdown",
   "id": "6c3315f7-d3a2-43d1-8c95-8bf91201c926",
   "metadata": {},
   "source": []
  },
  {
   "cell_type": "code",
   "execution_count": null,
   "id": "30759989-6117-4467-82a4-9f24b74e8f85",
   "metadata": {},
   "outputs": [],
   "source": []
  },
  {
   "cell_type": "markdown",
   "id": "6f35199b-daa0-4092-855b-350ddbfe4d54",
   "metadata": {},
   "source": []
  }
 ],
 "metadata": {
  "kernelspec": {
   "display_name": "Python 3 (ipykernel)",
   "language": "python",
   "name": "python3"
  },
  "language_info": {
   "codemirror_mode": {
    "name": "ipython",
    "version": 3
   },
   "file_extension": ".py",
   "mimetype": "text/x-python",
   "name": "python",
   "nbconvert_exporter": "python",
   "pygments_lexer": "ipython3",
   "version": "3.11.4"
  }
 },
 "nbformat": 4,
 "nbformat_minor": 5
}
