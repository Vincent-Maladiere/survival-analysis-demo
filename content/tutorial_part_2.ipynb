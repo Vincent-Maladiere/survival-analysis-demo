{
 "cells": [
  {
   "cell_type": "markdown",
   "id": "fc1a84de-1275-4f11-855d-82705c6def33",
   "metadata": {},
   "source": [
    "<img src=\"assets/dauphine_master_logo.png\" width=\"480\">"
   ]
  },
  {
   "cell_type": "markdown",
   "id": "70d4b77b-4bfd-4a9e-b7ea-88b414432fc0",
   "metadata": {},
   "source": [
    "Instructor: Vincent Maladière"
   ]
  },
  {
   "cell_type": "markdown",
   "id": "9734fb20-c1b3-4b0d-b24d-4eb59a7f95d5",
   "metadata": {},
   "source": [
    "# Survival Analysis Tutorial Part 2\n",
    "\n",
    "\n",
    "The goal of this notebook is to extract implicit failure events from a raw activity (or \"heart-beat\") log using [Ibis](ibis-project.org/) and [DuckDB](https://duckdb.org) or [Polars](https://www.pola.rs/).\n",
    "\n",
    "It is often the case that the we are dealing with a raw **activity event log** for a pool of members/patients/customers/machines... where the event of interest (e.g. churn, death, hospital transfer, failure) only appears in negative via the lack of activity event for an extended period of time: **activity events are collected somewhat regularly as long as the \"failure\" event has not occured**.\n",
    "\n",
    "Our goal is to use a common data-wrangling technique named **sessionization** to infer implicit failure events and measure the duration between the start of activity recording until a failure event (or censoring).\n",
    "\n",
    "We will also see how censoring naturally occur when we extract time-slices of a sessionized dataset.\n",
    "\n",
    "Links to the slides:\n",
    "\n",
    "- https://docs.google.com/presentation/d/1pAFmAFiyTA0_-ZjWG1rImAX8lYJt_UnGgqXD-4H6Aqw/edit?usp=sharing"
   ]
  },
  {
   "cell_type": "code",
   "execution_count": 1,
   "id": "c6a2a030-8d13-46c3-bd3e-89769efc02dc",
   "metadata": {
    "tags": []
   },
   "outputs": [
    {
     "data": {
      "text/plain": [
       "'5.1.0'"
      ]
     },
     "execution_count": 1,
     "metadata": {},
     "output_type": "execute_result"
    }
   ],
   "source": [
    "import ibis\n",
    "\n",
    "ibis.options.interactive = True\n",
    "ibis.__version__"
   ]
  },
  {
   "cell_type": "code",
   "execution_count": 2,
   "id": "80a76158-4746-4794-962d-888949eaa00a",
   "metadata": {
    "tags": []
   },
   "outputs": [
    {
     "data": {
      "text/plain": [
       "'0.7.1'"
      ]
     },
     "execution_count": 2,
     "metadata": {},
     "output_type": "execute_result"
    }
   ],
   "source": [
    "import duckdb\n",
    "\n",
    "duckdb.__version__"
   ]
  },
  {
   "cell_type": "code",
   "execution_count": 3,
   "id": "42d8030a-4174-4412-9d1e-9d8ffaf00458",
   "metadata": {
    "tags": []
   },
   "outputs": [
    {
     "name": "stdout",
     "output_type": "stream",
     "text": [
      "Reusing downloaded wowah_data_raw.parquet\n"
     ]
    }
   ],
   "source": [
    "from urllib.request import urlretrieve\n",
    "from pathlib import Path\n",
    "\n",
    "data_filepath = Path(\"wowah_data_raw.parquet\")\n",
    "data_url = (\n",
    "    \"https://storage.googleapis.com/ibis-tutorial-data/wowah_data/\"\n",
    "    \"wowah_data_raw.parquet\"\n",
    ")\n",
    "\n",
    "if not data_filepath.exists():\n",
    "    print(f\"Downloading {data_url}...\")\n",
    "    urlretrieve(data_url, data_filepath)\n",
    "else:\n",
    "    print(f\"Reusing downloaded {data_filepath}\")"
   ]
  },
  {
   "cell_type": "code",
   "execution_count": 4,
   "id": "7a65572c-55aa-467b-a834-9c14881a2dd0",
   "metadata": {
    "tags": []
   },
   "outputs": [
    {
     "data": {
      "text/html": [
       "<pre style=\"white-space:pre;overflow-x:auto;line-height:normal;font-family:Menlo,'DejaVu Sans Mono',consolas,'Courier New',monospace\">┏━━━━━━━┳━━━━━━━┳━━━━━━━━┳━━━━━━━━━━━┳━━━━━━━━━━━━━━━━━━━━━━━━┳━━━━━━━┳━━━━━━━━━━━━━━━━━━━━━┓\n",
       "┃<span style=\"font-weight: bold\"> char  </span>┃<span style=\"font-weight: bold\"> level </span>┃<span style=\"font-weight: bold\"> race   </span>┃<span style=\"font-weight: bold\"> charclass </span>┃<span style=\"font-weight: bold\"> zone                   </span>┃<span style=\"font-weight: bold\"> guild </span>┃<span style=\"font-weight: bold\"> timestamp           </span>┃\n",
       "┡━━━━━━━╇━━━━━━━╇━━━━━━━━╇━━━━━━━━━━━╇━━━━━━━━━━━━━━━━━━━━━━━━╇━━━━━━━╇━━━━━━━━━━━━━━━━━━━━━┩\n",
       "│ <span style=\"color: #7f7f7f; text-decoration-color: #7f7f7f\">int32</span> │ <span style=\"color: #7f7f7f; text-decoration-color: #7f7f7f\">int32</span> │ <span style=\"color: #7f7f7f; text-decoration-color: #7f7f7f\">string</span> │ <span style=\"color: #7f7f7f; text-decoration-color: #7f7f7f\">string</span>    │ <span style=\"color: #7f7f7f; text-decoration-color: #7f7f7f\">string</span>                 │ <span style=\"color: #7f7f7f; text-decoration-color: #7f7f7f\">int32</span> │ <span style=\"color: #7f7f7f; text-decoration-color: #7f7f7f\">timestamp</span>           │\n",
       "├───────┼───────┼────────┼───────────┼────────────────────────┼───────┼─────────────────────┤\n",
       "│ <span style=\"color: #008080; text-decoration-color: #008080; font-weight: bold\">59425</span> │     <span style=\"color: #008080; text-decoration-color: #008080; font-weight: bold\">1</span> │ <span style=\"color: #008000; text-decoration-color: #008000\">Orc   </span> │ <span style=\"color: #008000; text-decoration-color: #008000\">Rogue    </span> │ <span style=\"color: #008000; text-decoration-color: #008000\">Orgrimmar             </span> │   <span style=\"color: #008080; text-decoration-color: #008080; font-weight: bold\">165</span> │ <span style=\"color: #800080; text-decoration-color: #800080\">2008-01-01 00:02:04</span> │\n",
       "│ <span style=\"color: #008080; text-decoration-color: #008080; font-weight: bold\">65494</span> │     <span style=\"color: #008080; text-decoration-color: #008080; font-weight: bold\">9</span> │ <span style=\"color: #008000; text-decoration-color: #008000\">Orc   </span> │ <span style=\"color: #008000; text-decoration-color: #008000\">Hunter   </span> │ <span style=\"color: #008000; text-decoration-color: #008000\">Durotar               </span> │    <span style=\"color: #008080; text-decoration-color: #008080; font-weight: bold\">-1</span> │ <span style=\"color: #800080; text-decoration-color: #800080\">2008-01-01 00:02:04</span> │\n",
       "│ <span style=\"color: #008080; text-decoration-color: #008080; font-weight: bold\">65325</span> │    <span style=\"color: #008080; text-decoration-color: #008080; font-weight: bold\">14</span> │ <span style=\"color: #008000; text-decoration-color: #008000\">Orc   </span> │ <span style=\"color: #008000; text-decoration-color: #008000\">Warrior  </span> │ <span style=\"color: #008000; text-decoration-color: #008000\">Ghostlands            </span> │    <span style=\"color: #008080; text-decoration-color: #008080; font-weight: bold\">-1</span> │ <span style=\"color: #800080; text-decoration-color: #800080\">2008-01-01 00:02:04</span> │\n",
       "│ <span style=\"color: #008080; text-decoration-color: #008080; font-weight: bold\">65490</span> │    <span style=\"color: #008080; text-decoration-color: #008080; font-weight: bold\">18</span> │ <span style=\"color: #008000; text-decoration-color: #008000\">Orc   </span> │ <span style=\"color: #008000; text-decoration-color: #008000\">Hunter   </span> │ <span style=\"color: #008000; text-decoration-color: #008000\">Ghostlands            </span> │    <span style=\"color: #008080; text-decoration-color: #008080; font-weight: bold\">-1</span> │ <span style=\"color: #800080; text-decoration-color: #800080\">2008-01-01 00:02:04</span> │\n",
       "│  <span style=\"color: #008080; text-decoration-color: #008080; font-weight: bold\">2288</span> │    <span style=\"color: #008080; text-decoration-color: #008080; font-weight: bold\">60</span> │ <span style=\"color: #008000; text-decoration-color: #008000\">Orc   </span> │ <span style=\"color: #008000; text-decoration-color: #008000\">Hunter   </span> │ <span style=\"color: #008000; text-decoration-color: #008000\">Hellfire Peninsula    </span> │    <span style=\"color: #008080; text-decoration-color: #008080; font-weight: bold\">-1</span> │ <span style=\"color: #800080; text-decoration-color: #800080\">2008-01-01 00:02:09</span> │\n",
       "│  <span style=\"color: #008080; text-decoration-color: #008080; font-weight: bold\">2289</span> │    <span style=\"color: #008080; text-decoration-color: #008080; font-weight: bold\">60</span> │ <span style=\"color: #008000; text-decoration-color: #008000\">Orc   </span> │ <span style=\"color: #008000; text-decoration-color: #008000\">Hunter   </span> │ <span style=\"color: #008000; text-decoration-color: #008000\">Hellfire Peninsula    </span> │    <span style=\"color: #008080; text-decoration-color: #008080; font-weight: bold\">-1</span> │ <span style=\"color: #800080; text-decoration-color: #800080\">2008-01-01 00:02:09</span> │\n",
       "│ <span style=\"color: #008080; text-decoration-color: #008080; font-weight: bold\">61239</span> │    <span style=\"color: #008080; text-decoration-color: #008080; font-weight: bold\">68</span> │ <span style=\"color: #008000; text-decoration-color: #008000\">Orc   </span> │ <span style=\"color: #008000; text-decoration-color: #008000\">Hunter   </span> │ <span style=\"color: #008000; text-decoration-color: #008000\">Blade's Edge Mountains</span> │   <span style=\"color: #008080; text-decoration-color: #008080; font-weight: bold\">243</span> │ <span style=\"color: #800080; text-decoration-color: #800080\">2008-01-01 00:02:14</span> │\n",
       "│ <span style=\"color: #008080; text-decoration-color: #008080; font-weight: bold\">59772</span> │    <span style=\"color: #008080; text-decoration-color: #008080; font-weight: bold\">69</span> │ <span style=\"color: #008000; text-decoration-color: #008000\">Orc   </span> │ <span style=\"color: #008000; text-decoration-color: #008000\">Warrior  </span> │ <span style=\"color: #008000; text-decoration-color: #008000\">Shadowmoon Valley     </span> │    <span style=\"color: #008080; text-decoration-color: #008080; font-weight: bold\">35</span> │ <span style=\"color: #800080; text-decoration-color: #800080\">2008-01-01 00:02:14</span> │\n",
       "│ <span style=\"color: #008080; text-decoration-color: #008080; font-weight: bold\">22937</span> │    <span style=\"color: #008080; text-decoration-color: #008080; font-weight: bold\">69</span> │ <span style=\"color: #008000; text-decoration-color: #008000\">Orc   </span> │ <span style=\"color: #008000; text-decoration-color: #008000\">Rogue    </span> │ <span style=\"color: #008000; text-decoration-color: #008000\">Warsong Gulch         </span> │   <span style=\"color: #008080; text-decoration-color: #008080; font-weight: bold\">243</span> │ <span style=\"color: #800080; text-decoration-color: #800080\">2008-01-01 00:02:14</span> │\n",
       "│ <span style=\"color: #008080; text-decoration-color: #008080; font-weight: bold\">23062</span> │    <span style=\"color: #008080; text-decoration-color: #008080; font-weight: bold\">69</span> │ <span style=\"color: #008000; text-decoration-color: #008000\">Orc   </span> │ <span style=\"color: #008000; text-decoration-color: #008000\">Shaman   </span> │ <span style=\"color: #008000; text-decoration-color: #008000\">Shattrath City        </span> │   <span style=\"color: #008080; text-decoration-color: #008080; font-weight: bold\">103</span> │ <span style=\"color: #800080; text-decoration-color: #800080\">2008-01-01 00:02:14</span> │\n",
       "│     <span style=\"color: #7f7f7f; text-decoration-color: #7f7f7f\">…</span> │     <span style=\"color: #7f7f7f; text-decoration-color: #7f7f7f\">…</span> │ <span style=\"color: #7f7f7f; text-decoration-color: #7f7f7f\">…</span>      │ <span style=\"color: #7f7f7f; text-decoration-color: #7f7f7f\">…</span>         │ <span style=\"color: #7f7f7f; text-decoration-color: #7f7f7f\">…</span>                      │     <span style=\"color: #7f7f7f; text-decoration-color: #7f7f7f\">…</span> │ <span style=\"color: #7f7f7f; text-decoration-color: #7f7f7f\">…</span>                   │\n",
       "└───────┴───────┴────────┴───────────┴────────────────────────┴───────┴─────────────────────┘\n",
       "</pre>\n"
      ],
      "text/plain": [
       "┏━━━━━━━┳━━━━━━━┳━━━━━━━━┳━━━━━━━━━━━┳━━━━━━━━━━━━━━━━━━━━━━━━┳━━━━━━━┳━━━━━━━━━━━━━━━━━━━━━┓\n",
       "┃\u001b[1m \u001b[0m\u001b[1mchar\u001b[0m\u001b[1m \u001b[0m\u001b[1m \u001b[0m┃\u001b[1m \u001b[0m\u001b[1mlevel\u001b[0m\u001b[1m \u001b[0m┃\u001b[1m \u001b[0m\u001b[1mrace\u001b[0m\u001b[1m  \u001b[0m\u001b[1m \u001b[0m┃\u001b[1m \u001b[0m\u001b[1mcharclass\u001b[0m\u001b[1m \u001b[0m┃\u001b[1m \u001b[0m\u001b[1mzone\u001b[0m\u001b[1m                  \u001b[0m\u001b[1m \u001b[0m┃\u001b[1m \u001b[0m\u001b[1mguild\u001b[0m\u001b[1m \u001b[0m┃\u001b[1m \u001b[0m\u001b[1mtimestamp\u001b[0m\u001b[1m          \u001b[0m\u001b[1m \u001b[0m┃\n",
       "┡━━━━━━━╇━━━━━━━╇━━━━━━━━╇━━━━━━━━━━━╇━━━━━━━━━━━━━━━━━━━━━━━━╇━━━━━━━╇━━━━━━━━━━━━━━━━━━━━━┩\n",
       "│ \u001b[2mint32\u001b[0m │ \u001b[2mint32\u001b[0m │ \u001b[2mstring\u001b[0m │ \u001b[2mstring\u001b[0m    │ \u001b[2mstring\u001b[0m                 │ \u001b[2mint32\u001b[0m │ \u001b[2mtimestamp\u001b[0m           │\n",
       "├───────┼───────┼────────┼───────────┼────────────────────────┼───────┼─────────────────────┤\n",
       "│ \u001b[1;36m59425\u001b[0m │     \u001b[1;36m1\u001b[0m │ \u001b[32mOrc   \u001b[0m │ \u001b[32mRogue    \u001b[0m │ \u001b[32mOrgrimmar             \u001b[0m │   \u001b[1;36m165\u001b[0m │ \u001b[35m2008-01-01 00:02:04\u001b[0m │\n",
       "│ \u001b[1;36m65494\u001b[0m │     \u001b[1;36m9\u001b[0m │ \u001b[32mOrc   \u001b[0m │ \u001b[32mHunter   \u001b[0m │ \u001b[32mDurotar               \u001b[0m │    \u001b[1;36m-1\u001b[0m │ \u001b[35m2008-01-01 00:02:04\u001b[0m │\n",
       "│ \u001b[1;36m65325\u001b[0m │    \u001b[1;36m14\u001b[0m │ \u001b[32mOrc   \u001b[0m │ \u001b[32mWarrior  \u001b[0m │ \u001b[32mGhostlands            \u001b[0m │    \u001b[1;36m-1\u001b[0m │ \u001b[35m2008-01-01 00:02:04\u001b[0m │\n",
       "│ \u001b[1;36m65490\u001b[0m │    \u001b[1;36m18\u001b[0m │ \u001b[32mOrc   \u001b[0m │ \u001b[32mHunter   \u001b[0m │ \u001b[32mGhostlands            \u001b[0m │    \u001b[1;36m-1\u001b[0m │ \u001b[35m2008-01-01 00:02:04\u001b[0m │\n",
       "│  \u001b[1;36m2288\u001b[0m │    \u001b[1;36m60\u001b[0m │ \u001b[32mOrc   \u001b[0m │ \u001b[32mHunter   \u001b[0m │ \u001b[32mHellfire Peninsula    \u001b[0m │    \u001b[1;36m-1\u001b[0m │ \u001b[35m2008-01-01 00:02:09\u001b[0m │\n",
       "│  \u001b[1;36m2289\u001b[0m │    \u001b[1;36m60\u001b[0m │ \u001b[32mOrc   \u001b[0m │ \u001b[32mHunter   \u001b[0m │ \u001b[32mHellfire Peninsula    \u001b[0m │    \u001b[1;36m-1\u001b[0m │ \u001b[35m2008-01-01 00:02:09\u001b[0m │\n",
       "│ \u001b[1;36m61239\u001b[0m │    \u001b[1;36m68\u001b[0m │ \u001b[32mOrc   \u001b[0m │ \u001b[32mHunter   \u001b[0m │ \u001b[32mBlade's Edge Mountains\u001b[0m │   \u001b[1;36m243\u001b[0m │ \u001b[35m2008-01-01 00:02:14\u001b[0m │\n",
       "│ \u001b[1;36m59772\u001b[0m │    \u001b[1;36m69\u001b[0m │ \u001b[32mOrc   \u001b[0m │ \u001b[32mWarrior  \u001b[0m │ \u001b[32mShadowmoon Valley     \u001b[0m │    \u001b[1;36m35\u001b[0m │ \u001b[35m2008-01-01 00:02:14\u001b[0m │\n",
       "│ \u001b[1;36m22937\u001b[0m │    \u001b[1;36m69\u001b[0m │ \u001b[32mOrc   \u001b[0m │ \u001b[32mRogue    \u001b[0m │ \u001b[32mWarsong Gulch         \u001b[0m │   \u001b[1;36m243\u001b[0m │ \u001b[35m2008-01-01 00:02:14\u001b[0m │\n",
       "│ \u001b[1;36m23062\u001b[0m │    \u001b[1;36m69\u001b[0m │ \u001b[32mOrc   \u001b[0m │ \u001b[32mShaman   \u001b[0m │ \u001b[32mShattrath City        \u001b[0m │   \u001b[1;36m103\u001b[0m │ \u001b[35m2008-01-01 00:02:14\u001b[0m │\n",
       "│     \u001b[2m…\u001b[0m │     \u001b[2m…\u001b[0m │ \u001b[2m…\u001b[0m      │ \u001b[2m…\u001b[0m         │ \u001b[2m…\u001b[0m                      │     \u001b[2m…\u001b[0m │ \u001b[2m…\u001b[0m                   │\n",
       "└───────┴───────┴────────┴───────────┴────────────────────────┴───────┴─────────────────────┘"
      ]
     },
     "execution_count": 4,
     "metadata": {},
     "output_type": "execute_result"
    }
   ],
   "source": [
    "conn = ibis.duckdb.connect()  # in-memory DuckDB\n",
    "event_log = conn.read_parquet(data_filepath)\n",
    "event_log"
   ]
  },
  {
   "cell_type": "code",
   "execution_count": 5,
   "id": "f17afa43-4e65-4e79-b623-15e8d697630c",
   "metadata": {
    "tags": []
   },
   "outputs": [
    {
     "data": {
      "text/html": [
       "<pre style=\"white-space:pre;overflow-x:auto;line-height:normal;font-family:Menlo,'DejaVu Sans Mono',consolas,'Courier New',monospace\"></pre>\n"
      ],
      "text/plain": []
     },
     "metadata": {},
     "output_type": "display_data"
    },
    {
     "data": {
      "text/plain": [
       "\u001b[1;36m10826734\u001b[0m"
      ]
     },
     "execution_count": 5,
     "metadata": {},
     "output_type": "execute_result"
    }
   ],
   "source": [
    "event_log.count()"
   ]
  },
  {
   "cell_type": "code",
   "execution_count": 6,
   "id": "85c6ffad-59a6-4195-99b3-f65b3e99a321",
   "metadata": {
    "tags": []
   },
   "outputs": [
    {
     "data": {
      "text/html": [
       "<pre style=\"white-space:pre;overflow-x:auto;line-height:normal;font-family:Menlo,'DejaVu Sans Mono',consolas,'Courier New',monospace\">┏━━━━━━━┳━━━━━━━━━━━━━━━━━━━━━┳━━━━━━━━━━━━━━━━━━━━━┓\n",
       "┃<span style=\"font-weight: bold\"> char  </span>┃<span style=\"font-weight: bold\"> timestamp           </span>┃<span style=\"font-weight: bold\"> deadline_date       </span>┃\n",
       "┡━━━━━━━╇━━━━━━━━━━━━━━━━━━━━━╇━━━━━━━━━━━━━━━━━━━━━┩\n",
       "│ <span style=\"color: #7f7f7f; text-decoration-color: #7f7f7f\">int32</span> │ <span style=\"color: #7f7f7f; text-decoration-color: #7f7f7f\">timestamp</span>           │ <span style=\"color: #7f7f7f; text-decoration-color: #7f7f7f\">timestamp</span>           │\n",
       "├───────┼─────────────────────┼─────────────────────┤\n",
       "│   <span style=\"color: #008080; text-decoration-color: #008080; font-weight: bold\">932</span> │ <span style=\"color: #800080; text-decoration-color: #800080\">2008-01-01 13:52:06</span> │ <span style=\"color: #7f7f7f; text-decoration-color: #7f7f7f\">NULL</span>                │\n",
       "│   <span style=\"color: #008080; text-decoration-color: #008080; font-weight: bold\">932</span> │ <span style=\"color: #800080; text-decoration-color: #800080\">2008-01-11 01:29:29</span> │ <span style=\"color: #800080; text-decoration-color: #800080\">2008-01-01 14:22:06</span> │\n",
       "│   <span style=\"color: #008080; text-decoration-color: #008080; font-weight: bold\">932</span> │ <span style=\"color: #800080; text-decoration-color: #800080\">2008-01-11 01:39:13</span> │ <span style=\"color: #800080; text-decoration-color: #800080\">2008-01-11 01:59:29</span> │\n",
       "│   <span style=\"color: #008080; text-decoration-color: #008080; font-weight: bold\">932</span> │ <span style=\"color: #800080; text-decoration-color: #800080\">2008-01-11 01:48:57</span> │ <span style=\"color: #800080; text-decoration-color: #800080\">2008-01-11 02:09:13</span> │\n",
       "│   <span style=\"color: #008080; text-decoration-color: #008080; font-weight: bold\">932</span> │ <span style=\"color: #800080; text-decoration-color: #800080\">2008-01-11 01:59:29</span> │ <span style=\"color: #800080; text-decoration-color: #800080\">2008-01-11 02:18:57</span> │\n",
       "│   <span style=\"color: #008080; text-decoration-color: #008080; font-weight: bold\">932</span> │ <span style=\"color: #800080; text-decoration-color: #800080\">2008-01-11 02:09:12</span> │ <span style=\"color: #800080; text-decoration-color: #800080\">2008-01-11 02:29:29</span> │\n",
       "│   <span style=\"color: #008080; text-decoration-color: #008080; font-weight: bold\">932</span> │ <span style=\"color: #800080; text-decoration-color: #800080\">2008-01-11 02:18:57</span> │ <span style=\"color: #800080; text-decoration-color: #800080\">2008-01-11 02:39:12</span> │\n",
       "│   <span style=\"color: #008080; text-decoration-color: #008080; font-weight: bold\">932</span> │ <span style=\"color: #800080; text-decoration-color: #800080\">2008-01-11 02:29:28</span> │ <span style=\"color: #800080; text-decoration-color: #800080\">2008-01-11 02:48:57</span> │\n",
       "│   <span style=\"color: #008080; text-decoration-color: #008080; font-weight: bold\">932</span> │ <span style=\"color: #800080; text-decoration-color: #800080\">2008-01-11 02:39:12</span> │ <span style=\"color: #800080; text-decoration-color: #800080\">2008-01-11 02:59:28</span> │\n",
       "│   <span style=\"color: #008080; text-decoration-color: #008080; font-weight: bold\">932</span> │ <span style=\"color: #800080; text-decoration-color: #800080\">2008-01-11 02:48:55</span> │ <span style=\"color: #800080; text-decoration-color: #800080\">2008-01-11 03:09:12</span> │\n",
       "│     <span style=\"color: #7f7f7f; text-decoration-color: #7f7f7f\">…</span> │ <span style=\"color: #7f7f7f; text-decoration-color: #7f7f7f\">…</span>                   │ <span style=\"color: #7f7f7f; text-decoration-color: #7f7f7f\">…</span>                   │\n",
       "└───────┴─────────────────────┴─────────────────────┘\n",
       "</pre>\n"
      ],
      "text/plain": [
       "┏━━━━━━━┳━━━━━━━━━━━━━━━━━━━━━┳━━━━━━━━━━━━━━━━━━━━━┓\n",
       "┃\u001b[1m \u001b[0m\u001b[1mchar\u001b[0m\u001b[1m \u001b[0m\u001b[1m \u001b[0m┃\u001b[1m \u001b[0m\u001b[1mtimestamp\u001b[0m\u001b[1m          \u001b[0m\u001b[1m \u001b[0m┃\u001b[1m \u001b[0m\u001b[1mdeadline_date\u001b[0m\u001b[1m      \u001b[0m\u001b[1m \u001b[0m┃\n",
       "┡━━━━━━━╇━━━━━━━━━━━━━━━━━━━━━╇━━━━━━━━━━━━━━━━━━━━━┩\n",
       "│ \u001b[2mint32\u001b[0m │ \u001b[2mtimestamp\u001b[0m           │ \u001b[2mtimestamp\u001b[0m           │\n",
       "├───────┼─────────────────────┼─────────────────────┤\n",
       "│   \u001b[1;36m932\u001b[0m │ \u001b[35m2008-01-01 13:52:06\u001b[0m │ \u001b[2mNULL\u001b[0m                │\n",
       "│   \u001b[1;36m932\u001b[0m │ \u001b[35m2008-01-11 01:29:29\u001b[0m │ \u001b[35m2008-01-01 14:22:06\u001b[0m │\n",
       "│   \u001b[1;36m932\u001b[0m │ \u001b[35m2008-01-11 01:39:13\u001b[0m │ \u001b[35m2008-01-11 01:59:29\u001b[0m │\n",
       "│   \u001b[1;36m932\u001b[0m │ \u001b[35m2008-01-11 01:48:57\u001b[0m │ \u001b[35m2008-01-11 02:09:13\u001b[0m │\n",
       "│   \u001b[1;36m932\u001b[0m │ \u001b[35m2008-01-11 01:59:29\u001b[0m │ \u001b[35m2008-01-11 02:18:57\u001b[0m │\n",
       "│   \u001b[1;36m932\u001b[0m │ \u001b[35m2008-01-11 02:09:12\u001b[0m │ \u001b[35m2008-01-11 02:29:29\u001b[0m │\n",
       "│   \u001b[1;36m932\u001b[0m │ \u001b[35m2008-01-11 02:18:57\u001b[0m │ \u001b[35m2008-01-11 02:39:12\u001b[0m │\n",
       "│   \u001b[1;36m932\u001b[0m │ \u001b[35m2008-01-11 02:29:28\u001b[0m │ \u001b[35m2008-01-11 02:48:57\u001b[0m │\n",
       "│   \u001b[1;36m932\u001b[0m │ \u001b[35m2008-01-11 02:39:12\u001b[0m │ \u001b[35m2008-01-11 02:59:28\u001b[0m │\n",
       "│   \u001b[1;36m932\u001b[0m │ \u001b[35m2008-01-11 02:48:55\u001b[0m │ \u001b[35m2008-01-11 03:09:12\u001b[0m │\n",
       "│     \u001b[2m…\u001b[0m │ \u001b[2m…\u001b[0m                   │ \u001b[2m…\u001b[0m                   │\n",
       "└───────┴─────────────────────┴─────────────────────┘"
      ]
     },
     "execution_count": 6,
     "metadata": {},
     "output_type": "execute_result"
    }
   ],
   "source": [
    "from ibis import deferred as c\n",
    "\n",
    "\n",
    "entity_window = ibis.cumulative_window(\n",
    "    group_by=c.char, order_by=c.timestamp\n",
    ")\n",
    "threshold = ibis.interval(minutes=30)\n",
    "deadline_date = c.timestamp.lag().over(entity_window) + threshold\n",
    "\n",
    "(\n",
    "    event_log\n",
    "    .select([c.char, c.timestamp])\n",
    "    .mutate(deadline_date=deadline_date)\n",
    ")"
   ]
  },
  {
   "cell_type": "code",
   "execution_count": 7,
   "id": "e400706e-cf80-4a83-b615-c6bca945657e",
   "metadata": {
    "tags": []
   },
   "outputs": [
    {
     "data": {
      "text/html": [
       "<pre style=\"white-space:pre;overflow-x:auto;line-height:normal;font-family:Menlo,'DejaVu Sans Mono',consolas,'Courier New',monospace\">┏━━━━━━━┳━━━━━━━━━━━━━━━━━━━━━┳━━━━━━━━━━━━━━━━┓\n",
       "┃<span style=\"font-weight: bold\"> char  </span>┃<span style=\"font-weight: bold\"> timestamp           </span>┃<span style=\"font-weight: bold\"> is_new_session </span>┃\n",
       "┡━━━━━━━╇━━━━━━━━━━━━━━━━━━━━━╇━━━━━━━━━━━━━━━━┩\n",
       "│ <span style=\"color: #7f7f7f; text-decoration-color: #7f7f7f\">int32</span> │ <span style=\"color: #7f7f7f; text-decoration-color: #7f7f7f\">timestamp</span>           │ <span style=\"color: #7f7f7f; text-decoration-color: #7f7f7f\">boolean</span>        │\n",
       "├───────┼─────────────────────┼────────────────┤\n",
       "│   <span style=\"color: #008080; text-decoration-color: #008080; font-weight: bold\">932</span> │ <span style=\"color: #800080; text-decoration-color: #800080\">2008-01-01 13:52:06</span> │ False          │\n",
       "│   <span style=\"color: #008080; text-decoration-color: #008080; font-weight: bold\">932</span> │ <span style=\"color: #800080; text-decoration-color: #800080\">2008-01-11 01:29:29</span> │ True           │\n",
       "│   <span style=\"color: #008080; text-decoration-color: #008080; font-weight: bold\">932</span> │ <span style=\"color: #800080; text-decoration-color: #800080\">2008-01-11 01:39:13</span> │ False          │\n",
       "│   <span style=\"color: #008080; text-decoration-color: #008080; font-weight: bold\">932</span> │ <span style=\"color: #800080; text-decoration-color: #800080\">2008-01-11 01:48:57</span> │ False          │\n",
       "│   <span style=\"color: #008080; text-decoration-color: #008080; font-weight: bold\">932</span> │ <span style=\"color: #800080; text-decoration-color: #800080\">2008-01-11 01:59:29</span> │ False          │\n",
       "│   <span style=\"color: #008080; text-decoration-color: #008080; font-weight: bold\">932</span> │ <span style=\"color: #800080; text-decoration-color: #800080\">2008-01-11 02:09:12</span> │ False          │\n",
       "│   <span style=\"color: #008080; text-decoration-color: #008080; font-weight: bold\">932</span> │ <span style=\"color: #800080; text-decoration-color: #800080\">2008-01-11 02:18:57</span> │ False          │\n",
       "│   <span style=\"color: #008080; text-decoration-color: #008080; font-weight: bold\">932</span> │ <span style=\"color: #800080; text-decoration-color: #800080\">2008-01-11 02:29:28</span> │ False          │\n",
       "│   <span style=\"color: #008080; text-decoration-color: #008080; font-weight: bold\">932</span> │ <span style=\"color: #800080; text-decoration-color: #800080\">2008-01-11 02:39:12</span> │ False          │\n",
       "│   <span style=\"color: #008080; text-decoration-color: #008080; font-weight: bold\">932</span> │ <span style=\"color: #800080; text-decoration-color: #800080\">2008-01-11 02:48:55</span> │ False          │\n",
       "│     <span style=\"color: #7f7f7f; text-decoration-color: #7f7f7f\">…</span> │ <span style=\"color: #7f7f7f; text-decoration-color: #7f7f7f\">…</span>                   │ <span style=\"color: #7f7f7f; text-decoration-color: #7f7f7f\">…</span>              │\n",
       "└───────┴─────────────────────┴────────────────┘\n",
       "</pre>\n"
      ],
      "text/plain": [
       "┏━━━━━━━┳━━━━━━━━━━━━━━━━━━━━━┳━━━━━━━━━━━━━━━━┓\n",
       "┃\u001b[1m \u001b[0m\u001b[1mchar\u001b[0m\u001b[1m \u001b[0m\u001b[1m \u001b[0m┃\u001b[1m \u001b[0m\u001b[1mtimestamp\u001b[0m\u001b[1m          \u001b[0m\u001b[1m \u001b[0m┃\u001b[1m \u001b[0m\u001b[1mis_new_session\u001b[0m\u001b[1m \u001b[0m┃\n",
       "┡━━━━━━━╇━━━━━━━━━━━━━━━━━━━━━╇━━━━━━━━━━━━━━━━┩\n",
       "│ \u001b[2mint32\u001b[0m │ \u001b[2mtimestamp\u001b[0m           │ \u001b[2mboolean\u001b[0m        │\n",
       "├───────┼─────────────────────┼────────────────┤\n",
       "│   \u001b[1;36m932\u001b[0m │ \u001b[35m2008-01-01 13:52:06\u001b[0m │ False          │\n",
       "│   \u001b[1;36m932\u001b[0m │ \u001b[35m2008-01-11 01:29:29\u001b[0m │ True           │\n",
       "│   \u001b[1;36m932\u001b[0m │ \u001b[35m2008-01-11 01:39:13\u001b[0m │ False          │\n",
       "│   \u001b[1;36m932\u001b[0m │ \u001b[35m2008-01-11 01:48:57\u001b[0m │ False          │\n",
       "│   \u001b[1;36m932\u001b[0m │ \u001b[35m2008-01-11 01:59:29\u001b[0m │ False          │\n",
       "│   \u001b[1;36m932\u001b[0m │ \u001b[35m2008-01-11 02:09:12\u001b[0m │ False          │\n",
       "│   \u001b[1;36m932\u001b[0m │ \u001b[35m2008-01-11 02:18:57\u001b[0m │ False          │\n",
       "│   \u001b[1;36m932\u001b[0m │ \u001b[35m2008-01-11 02:29:28\u001b[0m │ False          │\n",
       "│   \u001b[1;36m932\u001b[0m │ \u001b[35m2008-01-11 02:39:12\u001b[0m │ False          │\n",
       "│   \u001b[1;36m932\u001b[0m │ \u001b[35m2008-01-11 02:48:55\u001b[0m │ False          │\n",
       "│     \u001b[2m…\u001b[0m │ \u001b[2m…\u001b[0m                   │ \u001b[2m…\u001b[0m              │\n",
       "└───────┴─────────────────────┴────────────────┘"
      ]
     },
     "execution_count": 7,
     "metadata": {},
     "output_type": "execute_result"
    }
   ],
   "source": [
    "(\n",
    "    event_log\n",
    "    .select([c.char, c.timestamp])\n",
    "    .mutate(\n",
    "        is_new_session=(c.timestamp > deadline_date).fillna(False)\n",
    "    )\n",
    ")"
   ]
  },
  {
   "cell_type": "code",
   "execution_count": 8,
   "id": "ce1b5af7-600d-4a60-a187-c22932dab0d7",
   "metadata": {
    "tags": []
   },
   "outputs": [
    {
     "data": {
      "text/html": [
       "<pre style=\"white-space:pre;overflow-x:auto;line-height:normal;font-family:Menlo,'DejaVu Sans Mono',consolas,'Courier New',monospace\">┏━━━━━━━┳━━━━━━━━━━━━━━━━━━━━━┳━━━━━━━━━━━━━━━━┳━━━━━━━━━━━━┓\n",
       "┃<span style=\"font-weight: bold\"> char  </span>┃<span style=\"font-weight: bold\"> timestamp           </span>┃<span style=\"font-weight: bold\"> is_new_session </span>┃<span style=\"font-weight: bold\"> session_id </span>┃\n",
       "┡━━━━━━━╇━━━━━━━━━━━━━━━━━━━━━╇━━━━━━━━━━━━━━━━╇━━━━━━━━━━━━┩\n",
       "│ <span style=\"color: #7f7f7f; text-decoration-color: #7f7f7f\">int32</span> │ <span style=\"color: #7f7f7f; text-decoration-color: #7f7f7f\">timestamp</span>           │ <span style=\"color: #7f7f7f; text-decoration-color: #7f7f7f\">boolean</span>        │ <span style=\"color: #7f7f7f; text-decoration-color: #7f7f7f\">int64</span>      │\n",
       "├───────┼─────────────────────┼────────────────┼────────────┤\n",
       "│   <span style=\"color: #008080; text-decoration-color: #008080; font-weight: bold\">932</span> │ <span style=\"color: #800080; text-decoration-color: #800080\">2008-01-01 13:52:06</span> │ False          │          <span style=\"color: #008080; text-decoration-color: #008080; font-weight: bold\">0</span> │\n",
       "│   <span style=\"color: #008080; text-decoration-color: #008080; font-weight: bold\">932</span> │ <span style=\"color: #800080; text-decoration-color: #800080\">2008-01-11 01:29:29</span> │ True           │          <span style=\"color: #008080; text-decoration-color: #008080; font-weight: bold\">1</span> │\n",
       "│   <span style=\"color: #008080; text-decoration-color: #008080; font-weight: bold\">932</span> │ <span style=\"color: #800080; text-decoration-color: #800080\">2008-01-11 01:39:13</span> │ False          │          <span style=\"color: #008080; text-decoration-color: #008080; font-weight: bold\">1</span> │\n",
       "│   <span style=\"color: #008080; text-decoration-color: #008080; font-weight: bold\">932</span> │ <span style=\"color: #800080; text-decoration-color: #800080\">2008-01-11 01:48:57</span> │ False          │          <span style=\"color: #008080; text-decoration-color: #008080; font-weight: bold\">1</span> │\n",
       "│   <span style=\"color: #008080; text-decoration-color: #008080; font-weight: bold\">932</span> │ <span style=\"color: #800080; text-decoration-color: #800080\">2008-01-11 01:59:29</span> │ False          │          <span style=\"color: #008080; text-decoration-color: #008080; font-weight: bold\">1</span> │\n",
       "│   <span style=\"color: #008080; text-decoration-color: #008080; font-weight: bold\">932</span> │ <span style=\"color: #800080; text-decoration-color: #800080\">2008-01-11 02:09:12</span> │ False          │          <span style=\"color: #008080; text-decoration-color: #008080; font-weight: bold\">1</span> │\n",
       "│   <span style=\"color: #008080; text-decoration-color: #008080; font-weight: bold\">932</span> │ <span style=\"color: #800080; text-decoration-color: #800080\">2008-01-11 02:18:57</span> │ False          │          <span style=\"color: #008080; text-decoration-color: #008080; font-weight: bold\">1</span> │\n",
       "│   <span style=\"color: #008080; text-decoration-color: #008080; font-weight: bold\">932</span> │ <span style=\"color: #800080; text-decoration-color: #800080\">2008-01-11 02:29:28</span> │ False          │          <span style=\"color: #008080; text-decoration-color: #008080; font-weight: bold\">1</span> │\n",
       "│   <span style=\"color: #008080; text-decoration-color: #008080; font-weight: bold\">932</span> │ <span style=\"color: #800080; text-decoration-color: #800080\">2008-01-11 02:39:12</span> │ False          │          <span style=\"color: #008080; text-decoration-color: #008080; font-weight: bold\">1</span> │\n",
       "│   <span style=\"color: #008080; text-decoration-color: #008080; font-weight: bold\">932</span> │ <span style=\"color: #800080; text-decoration-color: #800080\">2008-01-11 02:48:55</span> │ False          │          <span style=\"color: #008080; text-decoration-color: #008080; font-weight: bold\">1</span> │\n",
       "│     <span style=\"color: #7f7f7f; text-decoration-color: #7f7f7f\">…</span> │ <span style=\"color: #7f7f7f; text-decoration-color: #7f7f7f\">…</span>                   │ <span style=\"color: #7f7f7f; text-decoration-color: #7f7f7f\">…</span>              │          <span style=\"color: #7f7f7f; text-decoration-color: #7f7f7f\">…</span> │\n",
       "└───────┴─────────────────────┴────────────────┴────────────┘\n",
       "</pre>\n"
      ],
      "text/plain": [
       "┏━━━━━━━┳━━━━━━━━━━━━━━━━━━━━━┳━━━━━━━━━━━━━━━━┳━━━━━━━━━━━━┓\n",
       "┃\u001b[1m \u001b[0m\u001b[1mchar\u001b[0m\u001b[1m \u001b[0m\u001b[1m \u001b[0m┃\u001b[1m \u001b[0m\u001b[1mtimestamp\u001b[0m\u001b[1m          \u001b[0m\u001b[1m \u001b[0m┃\u001b[1m \u001b[0m\u001b[1mis_new_session\u001b[0m\u001b[1m \u001b[0m┃\u001b[1m \u001b[0m\u001b[1msession_id\u001b[0m\u001b[1m \u001b[0m┃\n",
       "┡━━━━━━━╇━━━━━━━━━━━━━━━━━━━━━╇━━━━━━━━━━━━━━━━╇━━━━━━━━━━━━┩\n",
       "│ \u001b[2mint32\u001b[0m │ \u001b[2mtimestamp\u001b[0m           │ \u001b[2mboolean\u001b[0m        │ \u001b[2mint64\u001b[0m      │\n",
       "├───────┼─────────────────────┼────────────────┼────────────┤\n",
       "│   \u001b[1;36m932\u001b[0m │ \u001b[35m2008-01-01 13:52:06\u001b[0m │ False          │          \u001b[1;36m0\u001b[0m │\n",
       "│   \u001b[1;36m932\u001b[0m │ \u001b[35m2008-01-11 01:29:29\u001b[0m │ True           │          \u001b[1;36m1\u001b[0m │\n",
       "│   \u001b[1;36m932\u001b[0m │ \u001b[35m2008-01-11 01:39:13\u001b[0m │ False          │          \u001b[1;36m1\u001b[0m │\n",
       "│   \u001b[1;36m932\u001b[0m │ \u001b[35m2008-01-11 01:48:57\u001b[0m │ False          │          \u001b[1;36m1\u001b[0m │\n",
       "│   \u001b[1;36m932\u001b[0m │ \u001b[35m2008-01-11 01:59:29\u001b[0m │ False          │          \u001b[1;36m1\u001b[0m │\n",
       "│   \u001b[1;36m932\u001b[0m │ \u001b[35m2008-01-11 02:09:12\u001b[0m │ False          │          \u001b[1;36m1\u001b[0m │\n",
       "│   \u001b[1;36m932\u001b[0m │ \u001b[35m2008-01-11 02:18:57\u001b[0m │ False          │          \u001b[1;36m1\u001b[0m │\n",
       "│   \u001b[1;36m932\u001b[0m │ \u001b[35m2008-01-11 02:29:28\u001b[0m │ False          │          \u001b[1;36m1\u001b[0m │\n",
       "│   \u001b[1;36m932\u001b[0m │ \u001b[35m2008-01-11 02:39:12\u001b[0m │ False          │          \u001b[1;36m1\u001b[0m │\n",
       "│   \u001b[1;36m932\u001b[0m │ \u001b[35m2008-01-11 02:48:55\u001b[0m │ False          │          \u001b[1;36m1\u001b[0m │\n",
       "│     \u001b[2m…\u001b[0m │ \u001b[2m…\u001b[0m                   │ \u001b[2m…\u001b[0m              │          \u001b[2m…\u001b[0m │\n",
       "└───────┴─────────────────────┴────────────────┴────────────┘"
      ]
     },
     "execution_count": 8,
     "metadata": {},
     "output_type": "execute_result"
    }
   ],
   "source": [
    "(\n",
    "    event_log\n",
    "    .select([c.char, c.timestamp])\n",
    "    .mutate(\n",
    "        is_new_session=(c.timestamp > deadline_date).fillna(False)\n",
    "    )\n",
    "    .mutate(session_id=c.is_new_session.sum().over(entity_window))\n",
    ")"
   ]
  },
  {
   "cell_type": "code",
   "execution_count": 9,
   "id": "6b1aa35b-47d7-43bd-8f8a-88d8c9927eba",
   "metadata": {
    "tags": []
   },
   "outputs": [
    {
     "data": {
      "text/html": [
       "<pre style=\"white-space:pre;overflow-x:auto;line-height:normal;font-family:Menlo,'DejaVu Sans Mono',consolas,'Courier New',monospace\">┏━━━━━━━┳━━━━━━━━━━━━┳━━━━━━━━━━━━━━━━━━━━━┳━━━━━━━━━━━━━━━━━━━━━┓\n",
       "┃<span style=\"font-weight: bold\"> char  </span>┃<span style=\"font-weight: bold\"> session_id </span>┃<span style=\"font-weight: bold\"> session_start_date  </span>┃<span style=\"font-weight: bold\"> session_end_date    </span>┃\n",
       "┡━━━━━━━╇━━━━━━━━━━━━╇━━━━━━━━━━━━━━━━━━━━━╇━━━━━━━━━━━━━━━━━━━━━┩\n",
       "│ <span style=\"color: #7f7f7f; text-decoration-color: #7f7f7f\">int32</span> │ <span style=\"color: #7f7f7f; text-decoration-color: #7f7f7f\">int64</span>      │ <span style=\"color: #7f7f7f; text-decoration-color: #7f7f7f\">timestamp</span>           │ <span style=\"color: #7f7f7f; text-decoration-color: #7f7f7f\">timestamp</span>           │\n",
       "├───────┼────────────┼─────────────────────┼─────────────────────┤\n",
       "│     <span style=\"color: #008080; text-decoration-color: #008080; font-weight: bold\">2</span> │          <span style=\"color: #008080; text-decoration-color: #008080; font-weight: bold\">0</span> │ <span style=\"color: #800080; text-decoration-color: #800080\">2008-12-03 10:41:47</span> │ <span style=\"color: #800080; text-decoration-color: #800080\">2008-12-03 10:41:47</span> │\n",
       "│     <span style=\"color: #008080; text-decoration-color: #008080; font-weight: bold\">7</span> │          <span style=\"color: #008080; text-decoration-color: #008080; font-weight: bold\">0</span> │ <span style=\"color: #800080; text-decoration-color: #800080\">2008-01-15 21:47:09</span> │ <span style=\"color: #800080; text-decoration-color: #800080\">2008-01-16 00:26:56</span> │\n",
       "│     <span style=\"color: #008080; text-decoration-color: #008080; font-weight: bold\">7</span> │          <span style=\"color: #008080; text-decoration-color: #008080; font-weight: bold\">1</span> │ <span style=\"color: #800080; text-decoration-color: #800080\">2008-01-16 21:57:02</span> │ <span style=\"color: #800080; text-decoration-color: #800080\">2008-01-17 01:16:49</span> │\n",
       "│     <span style=\"color: #008080; text-decoration-color: #008080; font-weight: bold\">7</span> │          <span style=\"color: #008080; text-decoration-color: #008080; font-weight: bold\">2</span> │ <span style=\"color: #800080; text-decoration-color: #800080\">2008-01-17 18:47:07</span> │ <span style=\"color: #800080; text-decoration-color: #800080\">2008-01-18 00:07:32</span> │\n",
       "│     <span style=\"color: #008080; text-decoration-color: #008080; font-weight: bold\">7</span> │          <span style=\"color: #008080; text-decoration-color: #008080; font-weight: bold\">3</span> │ <span style=\"color: #800080; text-decoration-color: #800080\">2008-01-18 23:17:13</span> │ <span style=\"color: #800080; text-decoration-color: #800080\">2008-01-19 01:47:16</span> │\n",
       "│     <span style=\"color: #008080; text-decoration-color: #008080; font-weight: bold\">7</span> │          <span style=\"color: #008080; text-decoration-color: #008080; font-weight: bold\">4</span> │ <span style=\"color: #800080; text-decoration-color: #800080\">2008-01-19 02:37:29</span> │ <span style=\"color: #800080; text-decoration-color: #800080\">2008-01-19 02:47:13</span> │\n",
       "│     <span style=\"color: #008080; text-decoration-color: #008080; font-weight: bold\">7</span> │          <span style=\"color: #008080; text-decoration-color: #008080; font-weight: bold\">5</span> │ <span style=\"color: #800080; text-decoration-color: #800080\">2008-01-19 20:36:15</span> │ <span style=\"color: #800080; text-decoration-color: #800080\">2008-01-19 23:46:28</span> │\n",
       "│     <span style=\"color: #008080; text-decoration-color: #008080; font-weight: bold\">7</span> │          <span style=\"color: #008080; text-decoration-color: #008080; font-weight: bold\">6</span> │ <span style=\"color: #800080; text-decoration-color: #800080\">2008-01-20 00:56:02</span> │ <span style=\"color: #800080; text-decoration-color: #800080\">2008-01-20 04:36:29</span> │\n",
       "│     <span style=\"color: #008080; text-decoration-color: #008080; font-weight: bold\">7</span> │          <span style=\"color: #008080; text-decoration-color: #008080; font-weight: bold\">7</span> │ <span style=\"color: #800080; text-decoration-color: #800080\">2008-01-20 13:26:12</span> │ <span style=\"color: #800080; text-decoration-color: #800080\">2008-01-20 15:55:57</span> │\n",
       "│     <span style=\"color: #008080; text-decoration-color: #008080; font-weight: bold\">7</span> │          <span style=\"color: #008080; text-decoration-color: #008080; font-weight: bold\">8</span> │ <span style=\"color: #800080; text-decoration-color: #800080\">2008-01-21 19:36:13</span> │ <span style=\"color: #800080; text-decoration-color: #800080\">2008-01-22 00:46:11</span> │\n",
       "│     <span style=\"color: #7f7f7f; text-decoration-color: #7f7f7f\">…</span> │          <span style=\"color: #7f7f7f; text-decoration-color: #7f7f7f\">…</span> │ <span style=\"color: #7f7f7f; text-decoration-color: #7f7f7f\">…</span>                   │ <span style=\"color: #7f7f7f; text-decoration-color: #7f7f7f\">…</span>                   │\n",
       "└───────┴────────────┴─────────────────────┴─────────────────────┘\n",
       "</pre>\n"
      ],
      "text/plain": [
       "┏━━━━━━━┳━━━━━━━━━━━━┳━━━━━━━━━━━━━━━━━━━━━┳━━━━━━━━━━━━━━━━━━━━━┓\n",
       "┃\u001b[1m \u001b[0m\u001b[1mchar\u001b[0m\u001b[1m \u001b[0m\u001b[1m \u001b[0m┃\u001b[1m \u001b[0m\u001b[1msession_id\u001b[0m\u001b[1m \u001b[0m┃\u001b[1m \u001b[0m\u001b[1msession_start_date\u001b[0m\u001b[1m \u001b[0m\u001b[1m \u001b[0m┃\u001b[1m \u001b[0m\u001b[1msession_end_date\u001b[0m\u001b[1m   \u001b[0m\u001b[1m \u001b[0m┃\n",
       "┡━━━━━━━╇━━━━━━━━━━━━╇━━━━━━━━━━━━━━━━━━━━━╇━━━━━━━━━━━━━━━━━━━━━┩\n",
       "│ \u001b[2mint32\u001b[0m │ \u001b[2mint64\u001b[0m      │ \u001b[2mtimestamp\u001b[0m           │ \u001b[2mtimestamp\u001b[0m           │\n",
       "├───────┼────────────┼─────────────────────┼─────────────────────┤\n",
       "│     \u001b[1;36m2\u001b[0m │          \u001b[1;36m0\u001b[0m │ \u001b[35m2008-12-03 10:41:47\u001b[0m │ \u001b[35m2008-12-03 10:41:47\u001b[0m │\n",
       "│     \u001b[1;36m7\u001b[0m │          \u001b[1;36m0\u001b[0m │ \u001b[35m2008-01-15 21:47:09\u001b[0m │ \u001b[35m2008-01-16 00:26:56\u001b[0m │\n",
       "│     \u001b[1;36m7\u001b[0m │          \u001b[1;36m1\u001b[0m │ \u001b[35m2008-01-16 21:57:02\u001b[0m │ \u001b[35m2008-01-17 01:16:49\u001b[0m │\n",
       "│     \u001b[1;36m7\u001b[0m │          \u001b[1;36m2\u001b[0m │ \u001b[35m2008-01-17 18:47:07\u001b[0m │ \u001b[35m2008-01-18 00:07:32\u001b[0m │\n",
       "│     \u001b[1;36m7\u001b[0m │          \u001b[1;36m3\u001b[0m │ \u001b[35m2008-01-18 23:17:13\u001b[0m │ \u001b[35m2008-01-19 01:47:16\u001b[0m │\n",
       "│     \u001b[1;36m7\u001b[0m │          \u001b[1;36m4\u001b[0m │ \u001b[35m2008-01-19 02:37:29\u001b[0m │ \u001b[35m2008-01-19 02:47:13\u001b[0m │\n",
       "│     \u001b[1;36m7\u001b[0m │          \u001b[1;36m5\u001b[0m │ \u001b[35m2008-01-19 20:36:15\u001b[0m │ \u001b[35m2008-01-19 23:46:28\u001b[0m │\n",
       "│     \u001b[1;36m7\u001b[0m │          \u001b[1;36m6\u001b[0m │ \u001b[35m2008-01-20 00:56:02\u001b[0m │ \u001b[35m2008-01-20 04:36:29\u001b[0m │\n",
       "│     \u001b[1;36m7\u001b[0m │          \u001b[1;36m7\u001b[0m │ \u001b[35m2008-01-20 13:26:12\u001b[0m │ \u001b[35m2008-01-20 15:55:57\u001b[0m │\n",
       "│     \u001b[1;36m7\u001b[0m │          \u001b[1;36m8\u001b[0m │ \u001b[35m2008-01-21 19:36:13\u001b[0m │ \u001b[35m2008-01-22 00:46:11\u001b[0m │\n",
       "│     \u001b[2m…\u001b[0m │          \u001b[2m…\u001b[0m │ \u001b[2m…\u001b[0m                   │ \u001b[2m…\u001b[0m                   │\n",
       "└───────┴────────────┴─────────────────────┴─────────────────────┘"
      ]
     },
     "execution_count": 9,
     "metadata": {},
     "output_type": "execute_result"
    }
   ],
   "source": [
    "entity_window = ibis.cumulative_window(\n",
    "    group_by=c.char, order_by=c.timestamp\n",
    ")\n",
    "threshold = ibis.interval(minutes=30)\n",
    "deadline_date = c.timestamp.lag().over(entity_window) + threshold\n",
    "is_new_session = (c.timestamp > deadline_date).fillna(False)\n",
    "\n",
    "sessionized = (\n",
    "    event_log\n",
    "    .mutate(is_new_session=is_new_session)\n",
    "    .mutate(session_id=c.is_new_session.sum().over(entity_window))\n",
    "    .drop(\"is_new_session\")\n",
    ")\n",
    "sessions = (\n",
    "    sessionized\n",
    "    .group_by([c.char, c.session_id])\n",
    "    .order_by(c.timestamp)\n",
    "    .aggregate(\n",
    "        session_start_date=c.timestamp.min(),\n",
    "        session_end_date=c.timestamp.max(),\n",
    "    )\n",
    "    .order_by([c.char, c.session_start_date])\n",
    ")\n",
    "sessions"
   ]
  },
  {
   "cell_type": "code",
   "execution_count": 10,
   "id": "aa41f112-74d0-42cf-9de0-25743fef16f0",
   "metadata": {
    "tags": []
   },
   "outputs": [],
   "source": [
    "# ibis.show_sql(sessions)"
   ]
  },
  {
   "cell_type": "code",
   "execution_count": 11,
   "id": "11e1e9ff-72d5-4836-8462-bcc65d20f424",
   "metadata": {
    "tags": []
   },
   "outputs": [],
   "source": [
    "def sessionize(table, threshold, entity_col, date_col):\n",
    "    entity_window = ibis.cumulative_window(\n",
    "        group_by=entity_col, order_by=date_col\n",
    "    )\n",
    "    deadline_date = date_col.lag().over(entity_window) + threshold\n",
    "    is_new_session = (date_col > deadline_date).fillna(False)\n",
    "\n",
    "    return (\n",
    "        table\n",
    "        .mutate(is_new_session=is_new_session)\n",
    "        .mutate(session_id=c.is_new_session.sum().over(entity_window))\n",
    "        .drop(\"is_new_session\")\n",
    "    )\n",
    "\n",
    "\n",
    "def extract_sessions(table, entity_col, date_col, session_col):\n",
    "    return (\n",
    "        table\n",
    "        .group_by([entity_col, session_col])\n",
    "        .aggregate(\n",
    "            session_start_date=date_col.min(),\n",
    "            session_end_date=date_col.max(),\n",
    "        )\n",
    "        # XXX: we would like to compute session duration here but\n",
    "        # it seems broken with Ibis + DuckDB at the moment...\n",
    "        .order_by([entity_col, c.session_start_date])\n",
    "    )\n",
    "\n",
    "\n",
    "def preprocess_event_log(event_log):\n",
    "    return (\n",
    "        event_log\n",
    "        .pipe(\n",
    "            sessionize,\n",
    "            threshold=ibis.interval(minutes=30),\n",
    "            entity_col=c.char,\n",
    "            date_col=c.timestamp,\n",
    "        )\n",
    "        .pipe(\n",
    "            extract_sessions,\n",
    "            entity_col=c.char,\n",
    "            date_col=c.timestamp,\n",
    "            session_col=c.session_id,\n",
    "        )\n",
    "    )"
   ]
  },
  {
   "cell_type": "code",
   "execution_count": 12,
   "id": "ab151d0e-dd53-4964-9327-079740468bbb",
   "metadata": {
    "tags": []
   },
   "outputs": [
    {
     "name": "stdout",
     "output_type": "stream",
     "text": [
      "CPU times: user 13.2 s, sys: 297 ms, total: 13.5 s\n",
      "Wall time: 2.06 s\n"
     ]
    }
   ],
   "source": [
    "%time sessions = preprocess_event_log(event_log).cache()"
   ]
  },
  {
   "cell_type": "code",
   "execution_count": 13,
   "id": "0324137f-9a2b-4d4e-94c8-a8d0962c147a",
   "metadata": {
    "tags": []
   },
   "outputs": [
    {
     "name": "stdout",
     "output_type": "stream",
     "text": [
      "CPU times: user 72 µs, sys: 3 µs, total: 75 µs\n",
      "Wall time: 78 µs\n"
     ]
    },
    {
     "data": {
      "text/html": [
       "<pre style=\"white-space:pre;overflow-x:auto;line-height:normal;font-family:Menlo,'DejaVu Sans Mono',consolas,'Courier New',monospace\"></pre>\n"
      ],
      "text/plain": []
     },
     "metadata": {},
     "output_type": "display_data"
    },
    {
     "data": {
      "text/plain": [
       "\u001b[1;36m1142606\u001b[0m"
      ]
     },
     "execution_count": 13,
     "metadata": {},
     "output_type": "execute_result"
    }
   ],
   "source": [
    "%time sessions.count()"
   ]
  },
  {
   "cell_type": "code",
   "execution_count": 14,
   "id": "be26ad8a-619c-486a-a459-d18cfeb81e89",
   "metadata": {
    "tags": []
   },
   "outputs": [
    {
     "data": {
      "text/html": [
       "<pre style=\"white-space:pre;overflow-x:auto;line-height:normal;font-family:Menlo,'DejaVu Sans Mono',consolas,'Courier New',monospace\">┏━━━━━━━┳━━━━━━━━━━━━┳━━━━━━━━━━━━━━━━━━━━━┳━━━━━━━━━━━━━━━━━━━━━┓\n",
       "┃<span style=\"font-weight: bold\"> char  </span>┃<span style=\"font-weight: bold\"> session_id </span>┃<span style=\"font-weight: bold\"> session_start_date  </span>┃<span style=\"font-weight: bold\"> session_end_date    </span>┃\n",
       "┡━━━━━━━╇━━━━━━━━━━━━╇━━━━━━━━━━━━━━━━━━━━━╇━━━━━━━━━━━━━━━━━━━━━┩\n",
       "│ <span style=\"color: #7f7f7f; text-decoration-color: #7f7f7f\">int32</span> │ <span style=\"color: #7f7f7f; text-decoration-color: #7f7f7f\">int64</span>      │ <span style=\"color: #7f7f7f; text-decoration-color: #7f7f7f\">timestamp</span>           │ <span style=\"color: #7f7f7f; text-decoration-color: #7f7f7f\">timestamp</span>           │\n",
       "├───────┼────────────┼─────────────────────┼─────────────────────┤\n",
       "│     <span style=\"color: #008080; text-decoration-color: #008080; font-weight: bold\">2</span> │          <span style=\"color: #008080; text-decoration-color: #008080; font-weight: bold\">0</span> │ <span style=\"color: #800080; text-decoration-color: #800080\">2008-12-03 10:41:47</span> │ <span style=\"color: #800080; text-decoration-color: #800080\">2008-12-03 10:41:47</span> │\n",
       "│     <span style=\"color: #008080; text-decoration-color: #008080; font-weight: bold\">7</span> │          <span style=\"color: #008080; text-decoration-color: #008080; font-weight: bold\">0</span> │ <span style=\"color: #800080; text-decoration-color: #800080\">2008-01-15 21:47:09</span> │ <span style=\"color: #800080; text-decoration-color: #800080\">2008-01-16 00:26:56</span> │\n",
       "│     <span style=\"color: #008080; text-decoration-color: #008080; font-weight: bold\">7</span> │          <span style=\"color: #008080; text-decoration-color: #008080; font-weight: bold\">1</span> │ <span style=\"color: #800080; text-decoration-color: #800080\">2008-01-16 21:57:02</span> │ <span style=\"color: #800080; text-decoration-color: #800080\">2008-01-17 01:16:49</span> │\n",
       "│     <span style=\"color: #008080; text-decoration-color: #008080; font-weight: bold\">7</span> │          <span style=\"color: #008080; text-decoration-color: #008080; font-weight: bold\">2</span> │ <span style=\"color: #800080; text-decoration-color: #800080\">2008-01-17 18:47:07</span> │ <span style=\"color: #800080; text-decoration-color: #800080\">2008-01-18 00:07:32</span> │\n",
       "│     <span style=\"color: #008080; text-decoration-color: #008080; font-weight: bold\">7</span> │          <span style=\"color: #008080; text-decoration-color: #008080; font-weight: bold\">3</span> │ <span style=\"color: #800080; text-decoration-color: #800080\">2008-01-18 23:17:13</span> │ <span style=\"color: #800080; text-decoration-color: #800080\">2008-01-19 01:47:16</span> │\n",
       "│     <span style=\"color: #008080; text-decoration-color: #008080; font-weight: bold\">7</span> │          <span style=\"color: #008080; text-decoration-color: #008080; font-weight: bold\">4</span> │ <span style=\"color: #800080; text-decoration-color: #800080\">2008-01-19 02:37:29</span> │ <span style=\"color: #800080; text-decoration-color: #800080\">2008-01-19 02:47:13</span> │\n",
       "│     <span style=\"color: #008080; text-decoration-color: #008080; font-weight: bold\">7</span> │          <span style=\"color: #008080; text-decoration-color: #008080; font-weight: bold\">5</span> │ <span style=\"color: #800080; text-decoration-color: #800080\">2008-01-19 20:36:15</span> │ <span style=\"color: #800080; text-decoration-color: #800080\">2008-01-19 23:46:28</span> │\n",
       "│     <span style=\"color: #008080; text-decoration-color: #008080; font-weight: bold\">7</span> │          <span style=\"color: #008080; text-decoration-color: #008080; font-weight: bold\">6</span> │ <span style=\"color: #800080; text-decoration-color: #800080\">2008-01-20 00:56:02</span> │ <span style=\"color: #800080; text-decoration-color: #800080\">2008-01-20 04:36:29</span> │\n",
       "│     <span style=\"color: #008080; text-decoration-color: #008080; font-weight: bold\">7</span> │          <span style=\"color: #008080; text-decoration-color: #008080; font-weight: bold\">7</span> │ <span style=\"color: #800080; text-decoration-color: #800080\">2008-01-20 13:26:12</span> │ <span style=\"color: #800080; text-decoration-color: #800080\">2008-01-20 15:55:57</span> │\n",
       "│     <span style=\"color: #008080; text-decoration-color: #008080; font-weight: bold\">7</span> │          <span style=\"color: #008080; text-decoration-color: #008080; font-weight: bold\">8</span> │ <span style=\"color: #800080; text-decoration-color: #800080\">2008-01-21 19:36:13</span> │ <span style=\"color: #800080; text-decoration-color: #800080\">2008-01-22 00:46:11</span> │\n",
       "│     <span style=\"color: #7f7f7f; text-decoration-color: #7f7f7f\">…</span> │          <span style=\"color: #7f7f7f; text-decoration-color: #7f7f7f\">…</span> │ <span style=\"color: #7f7f7f; text-decoration-color: #7f7f7f\">…</span>                   │ <span style=\"color: #7f7f7f; text-decoration-color: #7f7f7f\">…</span>                   │\n",
       "└───────┴────────────┴─────────────────────┴─────────────────────┘\n",
       "</pre>\n"
      ],
      "text/plain": [
       "┏━━━━━━━┳━━━━━━━━━━━━┳━━━━━━━━━━━━━━━━━━━━━┳━━━━━━━━━━━━━━━━━━━━━┓\n",
       "┃\u001b[1m \u001b[0m\u001b[1mchar\u001b[0m\u001b[1m \u001b[0m\u001b[1m \u001b[0m┃\u001b[1m \u001b[0m\u001b[1msession_id\u001b[0m\u001b[1m \u001b[0m┃\u001b[1m \u001b[0m\u001b[1msession_start_date\u001b[0m\u001b[1m \u001b[0m\u001b[1m \u001b[0m┃\u001b[1m \u001b[0m\u001b[1msession_end_date\u001b[0m\u001b[1m   \u001b[0m\u001b[1m \u001b[0m┃\n",
       "┡━━━━━━━╇━━━━━━━━━━━━╇━━━━━━━━━━━━━━━━━━━━━╇━━━━━━━━━━━━━━━━━━━━━┩\n",
       "│ \u001b[2mint32\u001b[0m │ \u001b[2mint64\u001b[0m      │ \u001b[2mtimestamp\u001b[0m           │ \u001b[2mtimestamp\u001b[0m           │\n",
       "├───────┼────────────┼─────────────────────┼─────────────────────┤\n",
       "│     \u001b[1;36m2\u001b[0m │          \u001b[1;36m0\u001b[0m │ \u001b[35m2008-12-03 10:41:47\u001b[0m │ \u001b[35m2008-12-03 10:41:47\u001b[0m │\n",
       "│     \u001b[1;36m7\u001b[0m │          \u001b[1;36m0\u001b[0m │ \u001b[35m2008-01-15 21:47:09\u001b[0m │ \u001b[35m2008-01-16 00:26:56\u001b[0m │\n",
       "│     \u001b[1;36m7\u001b[0m │          \u001b[1;36m1\u001b[0m │ \u001b[35m2008-01-16 21:57:02\u001b[0m │ \u001b[35m2008-01-17 01:16:49\u001b[0m │\n",
       "│     \u001b[1;36m7\u001b[0m │          \u001b[1;36m2\u001b[0m │ \u001b[35m2008-01-17 18:47:07\u001b[0m │ \u001b[35m2008-01-18 00:07:32\u001b[0m │\n",
       "│     \u001b[1;36m7\u001b[0m │          \u001b[1;36m3\u001b[0m │ \u001b[35m2008-01-18 23:17:13\u001b[0m │ \u001b[35m2008-01-19 01:47:16\u001b[0m │\n",
       "│     \u001b[1;36m7\u001b[0m │          \u001b[1;36m4\u001b[0m │ \u001b[35m2008-01-19 02:37:29\u001b[0m │ \u001b[35m2008-01-19 02:47:13\u001b[0m │\n",
       "│     \u001b[1;36m7\u001b[0m │          \u001b[1;36m5\u001b[0m │ \u001b[35m2008-01-19 20:36:15\u001b[0m │ \u001b[35m2008-01-19 23:46:28\u001b[0m │\n",
       "│     \u001b[1;36m7\u001b[0m │          \u001b[1;36m6\u001b[0m │ \u001b[35m2008-01-20 00:56:02\u001b[0m │ \u001b[35m2008-01-20 04:36:29\u001b[0m │\n",
       "│     \u001b[1;36m7\u001b[0m │          \u001b[1;36m7\u001b[0m │ \u001b[35m2008-01-20 13:26:12\u001b[0m │ \u001b[35m2008-01-20 15:55:57\u001b[0m │\n",
       "│     \u001b[1;36m7\u001b[0m │          \u001b[1;36m8\u001b[0m │ \u001b[35m2008-01-21 19:36:13\u001b[0m │ \u001b[35m2008-01-22 00:46:11\u001b[0m │\n",
       "│     \u001b[2m…\u001b[0m │          \u001b[2m…\u001b[0m │ \u001b[2m…\u001b[0m                   │ \u001b[2m…\u001b[0m                   │\n",
       "└───────┴────────────┴─────────────────────┴─────────────────────┘"
      ]
     },
     "execution_count": 14,
     "metadata": {},
     "output_type": "execute_result"
    }
   ],
   "source": [
    "sessions"
   ]
  },
  {
   "cell_type": "code",
   "execution_count": 15,
   "id": "e33b4c5c-2a5b-40c7-9875-eaf41a3fc35b",
   "metadata": {
    "tags": []
   },
   "outputs": [
    {
     "data": {
      "text/plain": [
       "Timestamp('2008-12-31 23:50:18')"
      ]
     },
     "execution_count": 15,
     "metadata": {},
     "output_type": "execute_result"
    }
   ],
   "source": [
    "first_observed_date = event_log.timestamp.max().execute()\n",
    "first_observed_date"
   ]
  },
  {
   "cell_type": "code",
   "execution_count": 16,
   "id": "35b45bab-2177-426b-9a05-30873e2f5b31",
   "metadata": {
    "tags": []
   },
   "outputs": [
    {
     "data": {
      "text/plain": [
       "Timestamp('2008-12-31 23:50:18')"
      ]
     },
     "execution_count": 16,
     "metadata": {},
     "output_type": "execute_result"
    }
   ],
   "source": [
    "last_observed_date = event_log.timestamp.max().execute()\n",
    "last_observed_date"
   ]
  },
  {
   "cell_type": "code",
   "execution_count": 17,
   "id": "18e01c33-9fd4-4756-bbcd-a8632516586d",
   "metadata": {
    "tags": []
   },
   "outputs": [
    {
     "data": {
      "text/html": [
       "<pre style=\"white-space:pre;overflow-x:auto;line-height:normal;font-family:Menlo,'DejaVu Sans Mono',consolas,'Courier New',monospace\"></pre>\n"
      ],
      "text/plain": []
     },
     "metadata": {},
     "output_type": "display_data"
    },
    {
     "data": {
      "text/plain": [
       "\u001b[1;36m512\u001b[0m"
      ]
     },
     "execution_count": 17,
     "metadata": {},
     "output_type": "execute_result"
    }
   ],
   "source": [
    "def censor(sessions, censoring_date, threshold=ibis.interval(minutes=30), observation_duration=None):\n",
    "    if observation_duration is not None:\n",
    "        sessions = sessions.filter(c.session_start_date > censoring_date - observation_duration)\n",
    "    return (\n",
    "        sessions\n",
    "        .filter(c.session_start_date < censoring_date)\n",
    "        .mutate(\n",
    "            is_censored=censoring_date < (c.session_end_date + threshold),\n",
    "            session_end_date=ibis.ifelse(c.session_end_date < censoring_date, c.session_end_date, censoring_date),\n",
    "        )\n",
    "        # remove sessions that are two short\n",
    "        .filter(c.session_end_date > c.session_start_date + ibis.interval(minutes=1))\n",
    "        .order_by(c.session_start_date)\n",
    "    )\n",
    "\n",
    "censor(sessions, last_observed_date).is_censored.sum()"
   ]
  },
  {
   "cell_type": "code",
   "execution_count": 18,
   "id": "227f0bb7-a7af-4a58-8c87-938e7fe42661",
   "metadata": {},
   "outputs": [
    {
     "data": {
      "text/html": [
       "<pre style=\"white-space:pre;overflow-x:auto;line-height:normal;font-family:Menlo,'DejaVu Sans Mono',consolas,'Courier New',monospace\"></pre>\n"
      ],
      "text/plain": []
     },
     "metadata": {},
     "output_type": "display_data"
    },
    {
     "data": {
      "text/plain": [
       "\u001b[1;36m751092\u001b[0m"
      ]
     },
     "execution_count": 18,
     "metadata": {},
     "output_type": "execute_result"
    }
   ],
   "source": [
    "from datetime import timedelta\n",
    "\n",
    "censor(sessions, last_observed_date - timedelta(days=54)).count()"
   ]
  },
  {
   "cell_type": "code",
   "execution_count": 19,
   "id": "ab2ba2aa-727c-4bc5-9b7c-38303d60061f",
   "metadata": {
    "tags": []
   },
   "outputs": [
    {
     "data": {
      "text/html": [
       "<div>\n",
       "<style scoped>\n",
       "    .dataframe tbody tr th:only-of-type {\n",
       "        vertical-align: middle;\n",
       "    }\n",
       "\n",
       "    .dataframe tbody tr th {\n",
       "        vertical-align: top;\n",
       "    }\n",
       "\n",
       "    .dataframe thead th {\n",
       "        text-align: right;\n",
       "    }\n",
       "</style>\n",
       "<table border=\"1\" class=\"dataframe\">\n",
       "  <thead>\n",
       "    <tr style=\"text-align: right;\">\n",
       "      <th></th>\n",
       "      <th>char</th>\n",
       "      <th>session_id</th>\n",
       "      <th>session_start_date</th>\n",
       "      <th>session_end_date</th>\n",
       "      <th>is_censored</th>\n",
       "    </tr>\n",
       "  </thead>\n",
       "  <tbody>\n",
       "    <tr>\n",
       "      <th>0</th>\n",
       "      <td>85273</td>\n",
       "      <td>0</td>\n",
       "      <td>2008-11-02 23:57:39</td>\n",
       "      <td>2008-11-03 00:16:44</td>\n",
       "      <td>False</td>\n",
       "    </tr>\n",
       "    <tr>\n",
       "      <th>1</th>\n",
       "      <td>83480</td>\n",
       "      <td>22</td>\n",
       "      <td>2008-11-02 23:58:21</td>\n",
       "      <td>2008-11-03 00:06:50</td>\n",
       "      <td>False</td>\n",
       "    </tr>\n",
       "    <tr>\n",
       "      <th>2</th>\n",
       "      <td>20835</td>\n",
       "      <td>135</td>\n",
       "      <td>2008-11-02 23:58:21</td>\n",
       "      <td>2008-11-03 00:06:50</td>\n",
       "      <td>False</td>\n",
       "    </tr>\n",
       "    <tr>\n",
       "      <th>3</th>\n",
       "      <td>23806</td>\n",
       "      <td>85</td>\n",
       "      <td>2008-11-02 23:58:26</td>\n",
       "      <td>2008-11-03 00:48:24</td>\n",
       "      <td>False</td>\n",
       "    </tr>\n",
       "    <tr>\n",
       "      <th>4</th>\n",
       "      <td>939</td>\n",
       "      <td>435</td>\n",
       "      <td>2008-11-02 23:58:36</td>\n",
       "      <td>2008-11-03 00:17:40</td>\n",
       "      <td>False</td>\n",
       "    </tr>\n",
       "    <tr>\n",
       "      <th>...</th>\n",
       "      <td>...</td>\n",
       "      <td>...</td>\n",
       "      <td>...</td>\n",
       "      <td>...</td>\n",
       "      <td>...</td>\n",
       "    </tr>\n",
       "    <tr>\n",
       "      <th>9708</th>\n",
       "      <td>68378</td>\n",
       "      <td>386</td>\n",
       "      <td>2008-11-07 23:38:02</td>\n",
       "      <td>2008-11-07 23:50:18</td>\n",
       "      <td>True</td>\n",
       "    </tr>\n",
       "    <tr>\n",
       "      <th>9709</th>\n",
       "      <td>65040</td>\n",
       "      <td>130</td>\n",
       "      <td>2008-11-07 23:38:07</td>\n",
       "      <td>2008-11-07 23:50:18</td>\n",
       "      <td>True</td>\n",
       "    </tr>\n",
       "    <tr>\n",
       "      <th>9710</th>\n",
       "      <td>57015</td>\n",
       "      <td>335</td>\n",
       "      <td>2008-11-07 23:38:07</td>\n",
       "      <td>2008-11-07 23:50:18</td>\n",
       "      <td>True</td>\n",
       "    </tr>\n",
       "    <tr>\n",
       "      <th>9711</th>\n",
       "      <td>76681</td>\n",
       "      <td>140</td>\n",
       "      <td>2008-11-07 23:38:07</td>\n",
       "      <td>2008-11-07 23:50:18</td>\n",
       "      <td>True</td>\n",
       "    </tr>\n",
       "    <tr>\n",
       "      <th>9712</th>\n",
       "      <td>35667</td>\n",
       "      <td>388</td>\n",
       "      <td>2008-11-07 23:38:12</td>\n",
       "      <td>2008-11-07 23:50:18</td>\n",
       "      <td>True</td>\n",
       "    </tr>\n",
       "  </tbody>\n",
       "</table>\n",
       "<p>9713 rows × 5 columns</p>\n",
       "</div>"
      ],
      "text/plain": [
       "       char  session_id  session_start_date    session_end_date  is_censored\n",
       "0     85273           0 2008-11-02 23:57:39 2008-11-03 00:16:44        False\n",
       "1     83480          22 2008-11-02 23:58:21 2008-11-03 00:06:50        False\n",
       "2     20835         135 2008-11-02 23:58:21 2008-11-03 00:06:50        False\n",
       "3     23806          85 2008-11-02 23:58:26 2008-11-03 00:48:24        False\n",
       "4       939         435 2008-11-02 23:58:36 2008-11-03 00:17:40        False\n",
       "...     ...         ...                 ...                 ...          ...\n",
       "9708  68378         386 2008-11-07 23:38:02 2008-11-07 23:50:18         True\n",
       "9709  65040         130 2008-11-07 23:38:07 2008-11-07 23:50:18         True\n",
       "9710  57015         335 2008-11-07 23:38:07 2008-11-07 23:50:18         True\n",
       "9711  76681         140 2008-11-07 23:38:07 2008-11-07 23:50:18         True\n",
       "9712  35667         388 2008-11-07 23:38:12 2008-11-07 23:50:18         True\n",
       "\n",
       "[9713 rows x 5 columns]"
      ]
     },
     "execution_count": 19,
     "metadata": {},
     "output_type": "execute_result"
    }
   ],
   "source": [
    "censor(sessions, last_observed_date - timedelta(days=54), observation_duration=timedelta(days=5)).to_pandas()"
   ]
  },
  {
   "cell_type": "code",
   "execution_count": 20,
   "id": "42e0ed3e-a338-4bcc-9ec2-1e0cb84d1c09",
   "metadata": {
    "tags": []
   },
   "outputs": [],
   "source": [
    "# ibis.show_sql(preprocess_event_log(event_log))"
   ]
  },
  {
   "cell_type": "code",
   "execution_count": 21,
   "id": "9660fceb-3fbf-4637-b176-facde0559083",
   "metadata": {
    "tags": []
   },
   "outputs": [
    {
     "data": {
      "text/plain": [
       "'0.17.11'"
      ]
     },
     "execution_count": 21,
     "metadata": {},
     "output_type": "execute_result"
    }
   ],
   "source": [
    "import polars as pl\n",
    "\n",
    "\n",
    "pl.__version__"
   ]
  },
  {
   "cell_type": "code",
   "execution_count": 22,
   "id": "6cb7928a-86bc-4847-b531-8dc1da12d0de",
   "metadata": {
    "tags": []
   },
   "outputs": [
    {
     "data": {
      "text/html": [
       "<div><style>\n",
       ".dataframe > thead > tr > th,\n",
       ".dataframe > tbody > tr > td {\n",
       "  text-align: right;\n",
       "}\n",
       "</style>\n",
       "<small>shape: (5, 7)</small><table border=\"1\" class=\"dataframe\"><thead><tr><th>char</th><th>level</th><th>race</th><th>charclass</th><th>zone</th><th>guild</th><th>timestamp</th></tr><tr><td>i32</td><td>i32</td><td>str</td><td>str</td><td>str</td><td>i32</td><td>datetime[μs]</td></tr></thead><tbody><tr><td>59425</td><td>1</td><td>&quot;Orc&quot;</td><td>&quot;Rogue&quot;</td><td>&quot;Orgrimmar&quot;</td><td>165</td><td>2008-01-01 00:02:04</td></tr><tr><td>65494</td><td>9</td><td>&quot;Orc&quot;</td><td>&quot;Hunter&quot;</td><td>&quot;Durotar&quot;</td><td>-1</td><td>2008-01-01 00:02:04</td></tr><tr><td>65325</td><td>14</td><td>&quot;Orc&quot;</td><td>&quot;Warrior&quot;</td><td>&quot;Ghostlands&quot;</td><td>-1</td><td>2008-01-01 00:02:04</td></tr><tr><td>65490</td><td>18</td><td>&quot;Orc&quot;</td><td>&quot;Hunter&quot;</td><td>&quot;Ghostlands&quot;</td><td>-1</td><td>2008-01-01 00:02:04</td></tr><tr><td>2288</td><td>60</td><td>&quot;Orc&quot;</td><td>&quot;Hunter&quot;</td><td>&quot;Hellfire Penin…</td><td>-1</td><td>2008-01-01 00:02:09</td></tr></tbody></table></div>"
      ],
      "text/plain": [
       "shape: (5, 7)\n",
       "┌───────┬───────┬──────┬───────────┬────────────────────┬───────┬─────────────────────┐\n",
       "│ char  ┆ level ┆ race ┆ charclass ┆ zone               ┆ guild ┆ timestamp           │\n",
       "│ ---   ┆ ---   ┆ ---  ┆ ---       ┆ ---                ┆ ---   ┆ ---                 │\n",
       "│ i32   ┆ i32   ┆ str  ┆ str       ┆ str                ┆ i32   ┆ datetime[μs]        │\n",
       "╞═══════╪═══════╪══════╪═══════════╪════════════════════╪═══════╪═════════════════════╡\n",
       "│ 59425 ┆ 1     ┆ Orc  ┆ Rogue     ┆ Orgrimmar          ┆ 165   ┆ 2008-01-01 00:02:04 │\n",
       "│ 65494 ┆ 9     ┆ Orc  ┆ Hunter    ┆ Durotar            ┆ -1    ┆ 2008-01-01 00:02:04 │\n",
       "│ 65325 ┆ 14    ┆ Orc  ┆ Warrior   ┆ Ghostlands         ┆ -1    ┆ 2008-01-01 00:02:04 │\n",
       "│ 65490 ┆ 18    ┆ Orc  ┆ Hunter    ┆ Ghostlands         ┆ -1    ┆ 2008-01-01 00:02:04 │\n",
       "│ 2288  ┆ 60    ┆ Orc  ┆ Hunter    ┆ Hellfire Peninsula ┆ -1    ┆ 2008-01-01 00:02:09 │\n",
       "└───────┴───────┴──────┴───────────┴────────────────────┴───────┴─────────────────────┘"
      ]
     },
     "execution_count": 22,
     "metadata": {},
     "output_type": "execute_result"
    }
   ],
   "source": [
    "event_log_df = pl.read_parquet(data_filepath)\n",
    "event_log_df.head(5)"
   ]
  },
  {
   "cell_type": "code",
   "execution_count": 23,
   "id": "3a22e79b-035b-49ea-9fd6-4d5910110fac",
   "metadata": {
    "tags": []
   },
   "outputs": [
    {
     "data": {
      "text/html": [
       "<h4>NAIVE QUERY PLAN</h4><p>run <b>LazyFrame.show_graph()</b> to see the optimized version</p><?xml version=\"1.0\" encoding=\"UTF-8\" standalone=\"no\"?>\n",
       "<!DOCTYPE svg PUBLIC \"-//W3C//DTD SVG 1.1//EN\"\n",
       " \"http://www.w3.org/Graphics/SVG/1.1/DTD/svg11.dtd\">\n",
       "<!-- Generated by graphviz version 8.0.4 (0)\n",
       " -->\n",
       "<!-- Title: polars_query Pages: 1 -->\n",
       "<svg width=\"272pt\" height=\"138pt\"\n",
       " viewBox=\"0.00 0.00 271.50 137.50\" xmlns=\"http://www.w3.org/2000/svg\" xmlns:xlink=\"http://www.w3.org/1999/xlink\">\n",
       "<g id=\"graph0\" class=\"graph\" transform=\"scale(1 1) rotate(0) translate(4 133.5)\">\n",
       "<title>polars_query</title>\n",
       "<polygon fill=\"white\" stroke=\"none\" points=\"-4,4 -4,-133.5 267.5,-133.5 267.5,4 -4,4\"/>\n",
       "<!-- SLICE offset: 0; len: 10 [(0, 0)] -->\n",
       "<g id=\"node1\" class=\"node\">\n",
       "<title>SLICE offset: 0; len: 10 [(0, 0)]</title>\n",
       "<polygon fill=\"none\" stroke=\"black\" points=\"205.38,-129.5 58.12,-129.5 58.12,-93.5 205.38,-93.5 205.38,-129.5\"/>\n",
       "<text text-anchor=\"middle\" x=\"131.75\" y=\"-106.45\" font-family=\"Times,serif\" font-size=\"14.00\">SLICE offset: 0; len: 10</text>\n",
       "</g>\n",
       "<!-- PARQUET SCAN wowah_data_raw.parquet;\n",
       "π */7;\n",
       "σ &#45; [(0, 1)] -->\n",
       "<g id=\"node2\" class=\"node\">\n",
       "<title>PARQUET SCAN wowah_data_raw.parquet;\n",
       "π */7;\n",
       "σ &#45; [(0, 1)]</title>\n",
       "<polygon fill=\"none\" stroke=\"black\" points=\"263.5,-57.5 0,-57.5 0,0 263.5,0 263.5,-57.5\"/>\n",
       "<text text-anchor=\"middle\" x=\"131.75\" y=\"-40.2\" font-family=\"Times,serif\" font-size=\"14.00\">PARQUET SCAN wowah_data_raw.parquet;</text>\n",
       "<text text-anchor=\"middle\" x=\"131.75\" y=\"-23.7\" font-family=\"Times,serif\" font-size=\"14.00\">π */7;</text>\n",
       "<text text-anchor=\"middle\" x=\"131.75\" y=\"-7.2\" font-family=\"Times,serif\" font-size=\"14.00\">σ &#45;</text>\n",
       "</g>\n",
       "<!-- SLICE offset: 0; len: 10 [(0, 0)]&#45;&#45;PARQUET SCAN wowah_data_raw.parquet;\n",
       "π */7;\n",
       "σ &#45; [(0, 1)] -->\n",
       "<g id=\"edge1\" class=\"edge\">\n",
       "<title>SLICE offset: 0; len: 10 [(0, 0)]&#45;&#45;PARQUET SCAN wowah_data_raw.parquet;\n",
       "π */7;\n",
       "σ &#45; [(0, 1)]</title>\n",
       "<path fill=\"none\" stroke=\"black\" d=\"M131.75,-93.38C131.75,-83.1 131.75,-69.77 131.75,-57.97\"/>\n",
       "</g>\n",
       "</g>\n",
       "</svg>\n"
      ],
      "text/plain": [
       "<polars.LazyFrame object at 0x15714EA50>"
      ]
     },
     "execution_count": 23,
     "metadata": {},
     "output_type": "execute_result"
    }
   ],
   "source": [
    "event_log_lazy_df = pl.scan_parquet(data_filepath)\n",
    "event_log_lazy_df.head(10)"
   ]
  },
  {
   "cell_type": "code",
   "execution_count": 24,
   "id": "4a4a602e-cfa0-481f-8f23-f82da3efd965",
   "metadata": {
    "tags": []
   },
   "outputs": [
    {
     "data": {
      "text/html": [
       "<div><style>\n",
       ".dataframe > thead > tr > th,\n",
       ".dataframe > tbody > tr > td {\n",
       "  text-align: right;\n",
       "}\n",
       "</style>\n",
       "<small>shape: (10, 7)</small><table border=\"1\" class=\"dataframe\"><thead><tr><th>char</th><th>level</th><th>race</th><th>charclass</th><th>zone</th><th>guild</th><th>timestamp</th></tr><tr><td>i32</td><td>i32</td><td>str</td><td>str</td><td>str</td><td>i32</td><td>datetime[μs]</td></tr></thead><tbody><tr><td>59425</td><td>1</td><td>&quot;Orc&quot;</td><td>&quot;Rogue&quot;</td><td>&quot;Orgrimmar&quot;</td><td>165</td><td>2008-01-01 00:02:04</td></tr><tr><td>65494</td><td>9</td><td>&quot;Orc&quot;</td><td>&quot;Hunter&quot;</td><td>&quot;Durotar&quot;</td><td>-1</td><td>2008-01-01 00:02:04</td></tr><tr><td>65325</td><td>14</td><td>&quot;Orc&quot;</td><td>&quot;Warrior&quot;</td><td>&quot;Ghostlands&quot;</td><td>-1</td><td>2008-01-01 00:02:04</td></tr><tr><td>65490</td><td>18</td><td>&quot;Orc&quot;</td><td>&quot;Hunter&quot;</td><td>&quot;Ghostlands&quot;</td><td>-1</td><td>2008-01-01 00:02:04</td></tr><tr><td>2288</td><td>60</td><td>&quot;Orc&quot;</td><td>&quot;Hunter&quot;</td><td>&quot;Hellfire Penin…</td><td>-1</td><td>2008-01-01 00:02:09</td></tr><tr><td>2289</td><td>60</td><td>&quot;Orc&quot;</td><td>&quot;Hunter&quot;</td><td>&quot;Hellfire Penin…</td><td>-1</td><td>2008-01-01 00:02:09</td></tr><tr><td>61239</td><td>68</td><td>&quot;Orc&quot;</td><td>&quot;Hunter&quot;</td><td>&quot;Blade&#x27;s Edge M…</td><td>243</td><td>2008-01-01 00:02:14</td></tr><tr><td>59772</td><td>69</td><td>&quot;Orc&quot;</td><td>&quot;Warrior&quot;</td><td>&quot;Shadowmoon Val…</td><td>35</td><td>2008-01-01 00:02:14</td></tr><tr><td>22937</td><td>69</td><td>&quot;Orc&quot;</td><td>&quot;Rogue&quot;</td><td>&quot;Warsong Gulch&quot;</td><td>243</td><td>2008-01-01 00:02:14</td></tr><tr><td>23062</td><td>69</td><td>&quot;Orc&quot;</td><td>&quot;Shaman&quot;</td><td>&quot;Shattrath City…</td><td>103</td><td>2008-01-01 00:02:14</td></tr></tbody></table></div>"
      ],
      "text/plain": [
       "shape: (10, 7)\n",
       "┌───────┬───────┬──────┬───────────┬────────────────────────┬───────┬─────────────────────┐\n",
       "│ char  ┆ level ┆ race ┆ charclass ┆ zone                   ┆ guild ┆ timestamp           │\n",
       "│ ---   ┆ ---   ┆ ---  ┆ ---       ┆ ---                    ┆ ---   ┆ ---                 │\n",
       "│ i32   ┆ i32   ┆ str  ┆ str       ┆ str                    ┆ i32   ┆ datetime[μs]        │\n",
       "╞═══════╪═══════╪══════╪═══════════╪════════════════════════╪═══════╪═════════════════════╡\n",
       "│ 59425 ┆ 1     ┆ Orc  ┆ Rogue     ┆ Orgrimmar              ┆ 165   ┆ 2008-01-01 00:02:04 │\n",
       "│ 65494 ┆ 9     ┆ Orc  ┆ Hunter    ┆ Durotar                ┆ -1    ┆ 2008-01-01 00:02:04 │\n",
       "│ 65325 ┆ 14    ┆ Orc  ┆ Warrior   ┆ Ghostlands             ┆ -1    ┆ 2008-01-01 00:02:04 │\n",
       "│ 65490 ┆ 18    ┆ Orc  ┆ Hunter    ┆ Ghostlands             ┆ -1    ┆ 2008-01-01 00:02:04 │\n",
       "│ …     ┆ …     ┆ …    ┆ …         ┆ …                      ┆ …     ┆ …                   │\n",
       "│ 61239 ┆ 68    ┆ Orc  ┆ Hunter    ┆ Blade's Edge Mountains ┆ 243   ┆ 2008-01-01 00:02:14 │\n",
       "│ 59772 ┆ 69    ┆ Orc  ┆ Warrior   ┆ Shadowmoon Valley      ┆ 35    ┆ 2008-01-01 00:02:14 │\n",
       "│ 22937 ┆ 69    ┆ Orc  ┆ Rogue     ┆ Warsong Gulch          ┆ 243   ┆ 2008-01-01 00:02:14 │\n",
       "│ 23062 ┆ 69    ┆ Orc  ┆ Shaman    ┆ Shattrath City         ┆ 103   ┆ 2008-01-01 00:02:14 │\n",
       "└───────┴───────┴──────┴───────────┴────────────────────────┴───────┴─────────────────────┘"
      ]
     },
     "execution_count": 24,
     "metadata": {},
     "output_type": "execute_result"
    }
   ],
   "source": [
    "event_log_lazy_df.head(10).collect()"
   ]
  },
  {
   "cell_type": "code",
   "execution_count": 25,
   "id": "4af380c5-d530-4d01-9757-c68fd2838f10",
   "metadata": {
    "tags": []
   },
   "outputs": [
    {
     "name": "stdout",
     "output_type": "stream",
     "text": [
      "CPU times: user 10 s, sys: 1.4 s, total: 11.4 s\n",
      "Wall time: 2.43 s\n"
     ]
    },
    {
     "data": {
      "text/html": [
       "<div><style>\n",
       ".dataframe > thead > tr > th,\n",
       ".dataframe > tbody > tr > td {\n",
       "  text-align: right;\n",
       "}\n",
       "</style>\n",
       "<small>shape: (1_123_327, 9)</small><table border=\"1\" class=\"dataframe\"><thead><tr><th>char</th><th>session_id</th><th>race</th><th>zone</th><th>charclass</th><th>guild</th><th>session_start_date</th><th>session_end_date</th><th>session_duration</th></tr><tr><td>i32</td><td>u32</td><td>str</td><td>str</td><td>str</td><td>i32</td><td>datetime[μs]</td><td>datetime[μs]</td><td>duration[μs]</td></tr></thead><tbody><tr><td>2</td><td>0</td><td>&quot;Orc&quot;</td><td>&quot;The Barrens&quot;</td><td>&quot;Shaman&quot;</td><td>6</td><td>2008-12-03 10:41:47</td><td>2008-12-03 10:41:47</td><td>0µs</td></tr><tr><td>7</td><td>0</td><td>&quot;Orc&quot;</td><td>&quot;Feralas&quot;</td><td>&quot;Hunter&quot;</td><td>-1</td><td>2008-01-15 21:47:09</td><td>2008-01-16 00:26:56</td><td>2h 39m 47s</td></tr><tr><td>7</td><td>1</td><td>&quot;Orc&quot;</td><td>&quot;Orgrimmar&quot;</td><td>&quot;Hunter&quot;</td><td>282</td><td>2008-01-16 21:57:02</td><td>2008-01-17 01:16:49</td><td>3h 19m 47s</td></tr><tr><td>7</td><td>2</td><td>&quot;Orc&quot;</td><td>&quot;Stranglethorn …</td><td>&quot;Hunter&quot;</td><td>282</td><td>2008-01-17 18:47:07</td><td>2008-01-18 00:07:32</td><td>5h 20m 25s</td></tr><tr><td>7</td><td>3</td><td>&quot;Orc&quot;</td><td>&quot;Undercity&quot;</td><td>&quot;Hunter&quot;</td><td>282</td><td>2008-01-18 23:17:13</td><td>2008-01-19 01:47:16</td><td>2h 30m 3s</td></tr><tr><td>7</td><td>4</td><td>&quot;Orc&quot;</td><td>&quot;Undercity&quot;</td><td>&quot;Hunter&quot;</td><td>282</td><td>2008-01-19 02:37:29</td><td>2008-01-19 02:47:13</td><td>9m 44s</td></tr><tr><td>7</td><td>5</td><td>&quot;Orc&quot;</td><td>&quot;Western Plague…</td><td>&quot;Hunter&quot;</td><td>282</td><td>2008-01-19 20:36:15</td><td>2008-01-19 23:46:28</td><td>3h 10m 13s</td></tr><tr><td>7</td><td>6</td><td>&quot;Orc&quot;</td><td>&quot;Ashenvale&quot;</td><td>&quot;Hunter&quot;</td><td>282</td><td>2008-01-20 00:56:02</td><td>2008-01-20 04:36:29</td><td>3h 40m 27s</td></tr><tr><td>7</td><td>7</td><td>&quot;Orc&quot;</td><td>&quot;Durotar&quot;</td><td>&quot;Hunter&quot;</td><td>282</td><td>2008-01-20 13:26:12</td><td>2008-01-20 15:55:57</td><td>2h 29m 45s</td></tr><tr><td>7</td><td>8</td><td>&quot;Orc&quot;</td><td>&quot;Hellfire Penin…</td><td>&quot;Hunter&quot;</td><td>282</td><td>2008-01-21 19:36:13</td><td>2008-01-22 00:46:11</td><td>5h 9m 58s</td></tr><tr><td>7</td><td>9</td><td>&quot;Orc&quot;</td><td>&quot;Tirisfal Glade…</td><td>&quot;Hunter&quot;</td><td>282</td><td>2008-01-22 22:15:58</td><td>2008-01-22 23:55:58</td><td>1h 40m</td></tr><tr><td>7</td><td>10</td><td>&quot;Orc&quot;</td><td>&quot;Western Plague…</td><td>&quot;Hunter&quot;</td><td>282</td><td>2008-01-23 19:16:29</td><td>2008-01-23 22:16:13</td><td>2h 59m 44s</td></tr><tr><td>&hellip;</td><td>&hellip;</td><td>&hellip;</td><td>&hellip;</td><td>&hellip;</td><td>&hellip;</td><td>&hellip;</td><td>&hellip;</td><td>&hellip;</td></tr><tr><td>90570</td><td>0</td><td>&quot;Orc&quot;</td><td>&quot;Durotar&quot;</td><td>&quot;Warrior&quot;</td><td>460</td><td>2008-12-31 19:48:49</td><td>2008-12-31 19:48:49</td><td>0µs</td></tr><tr><td>90571</td><td>0</td><td>&quot;Troll&quot;</td><td>&quot;Durotar&quot;</td><td>&quot;Rogue&quot;</td><td>-1</td><td>2008-12-31 20:16:27</td><td>2008-12-31 20:16:27</td><td>0µs</td></tr><tr><td>90572</td><td>0</td><td>&quot;Blood Elf&quot;</td><td>&quot;Eversong Woods…</td><td>&quot;Warlock&quot;</td><td>-1</td><td>2008-12-31 20:18:10</td><td>2008-12-31 21:47:55</td><td>1h 29m 45s</td></tr><tr><td>90572</td><td>1</td><td>&quot;Blood Elf&quot;</td><td>&quot;Eversong Woods…</td><td>&quot;Warlock&quot;</td><td>-1</td><td>2008-12-31 22:47:54</td><td>2008-12-31 23:48:36</td><td>1h 42s</td></tr><tr><td>90573</td><td>0</td><td>&quot;Troll&quot;</td><td>&quot;Durotar&quot;</td><td>&quot;Shaman&quot;</td><td>-1</td><td>2008-12-31 20:31:18</td><td>2008-12-31 21:31:18</td><td>1h</td></tr><tr><td>90574</td><td>0</td><td>&quot;Blood Elf&quot;</td><td>&quot;Silvermoon Cit…</td><td>&quot;Rogue&quot;</td><td>-1</td><td>2008-12-31 20:48:01</td><td>2008-12-31 20:48:01</td><td>0µs</td></tr><tr><td>90575</td><td>0</td><td>&quot;Orc&quot;</td><td>&quot;Durotar&quot;</td><td>&quot;Hunter&quot;</td><td>-1</td><td>2008-12-31 20:59:51</td><td>2008-12-31 21:14:51</td><td>15m</td></tr><tr><td>90576</td><td>0</td><td>&quot;Blood Elf&quot;</td><td>&quot;Eversong Woods…</td><td>&quot;Warlock&quot;</td><td>-1</td><td>2008-12-31 22:06:58</td><td>2008-12-31 23:07:13</td><td>1h 15s</td></tr><tr><td>90577</td><td>0</td><td>&quot;Blood Elf&quot;</td><td>&quot;Eversong Woods…</td><td>&quot;Warlock&quot;</td><td>-1</td><td>2008-12-31 22:17:35</td><td>2008-12-31 22:47:54</td><td>30m 19s</td></tr><tr><td>90578</td><td>0</td><td>&quot;Blood Elf&quot;</td><td>&quot;Eversong Woods…</td><td>&quot;Paladin&quot;</td><td>-1</td><td>2008-12-31 22:32:52</td><td>2008-12-31 22:32:52</td><td>0µs</td></tr><tr><td>90579</td><td>0</td><td>&quot;Orc&quot;</td><td>&quot;Durotar&quot;</td><td>&quot;Warrior&quot;</td><td>-1</td><td>2008-12-31 22:44:45</td><td>2008-12-31 22:44:45</td><td>0µs</td></tr><tr><td>90580</td><td>0</td><td>&quot;Tauren&quot;</td><td>&quot;Mulgore&quot;</td><td>&quot;Warrior&quot;</td><td>-1</td><td>2008-12-31 23:15:20</td><td>2008-12-31 23:15:20</td><td>0µs</td></tr></tbody></table></div>"
      ],
      "text/plain": [
       "shape: (1_123_327, 9)\n",
       "┌───────┬────────────┬───────────┬──────────────┬───┬───────┬────────────┬────────────┬────────────┐\n",
       "│ char  ┆ session_id ┆ race      ┆ zone         ┆ … ┆ guild ┆ session_st ┆ session_en ┆ session_du │\n",
       "│ ---   ┆ ---        ┆ ---       ┆ ---          ┆   ┆ ---   ┆ art_date   ┆ d_date     ┆ ration     │\n",
       "│ i32   ┆ u32        ┆ str       ┆ str          ┆   ┆ i32   ┆ ---        ┆ ---        ┆ ---        │\n",
       "│       ┆            ┆           ┆              ┆   ┆       ┆ datetime[μ ┆ datetime[μ ┆ duration[μ │\n",
       "│       ┆            ┆           ┆              ┆   ┆       ┆ s]         ┆ s]         ┆ s]         │\n",
       "╞═══════╪════════════╪═══════════╪══════════════╪═══╪═══════╪════════════╪════════════╪════════════╡\n",
       "│ 2     ┆ 0          ┆ Orc       ┆ The Barrens  ┆ … ┆ 6     ┆ 2008-12-03 ┆ 2008-12-03 ┆ 0µs        │\n",
       "│       ┆            ┆           ┆              ┆   ┆       ┆ 10:41:47   ┆ 10:41:47   ┆            │\n",
       "│ 7     ┆ 0          ┆ Orc       ┆ Feralas      ┆ … ┆ -1    ┆ 2008-01-15 ┆ 2008-01-16 ┆ 2h 39m 47s │\n",
       "│       ┆            ┆           ┆              ┆   ┆       ┆ 21:47:09   ┆ 00:26:56   ┆            │\n",
       "│ 7     ┆ 1          ┆ Orc       ┆ Orgrimmar    ┆ … ┆ 282   ┆ 2008-01-16 ┆ 2008-01-17 ┆ 3h 19m 47s │\n",
       "│       ┆            ┆           ┆              ┆   ┆       ┆ 21:57:02   ┆ 01:16:49   ┆            │\n",
       "│ 7     ┆ 2          ┆ Orc       ┆ Stranglethor ┆ … ┆ 282   ┆ 2008-01-17 ┆ 2008-01-18 ┆ 5h 20m 25s │\n",
       "│       ┆            ┆           ┆ n Vale       ┆   ┆       ┆ 18:47:07   ┆ 00:07:32   ┆            │\n",
       "│ …     ┆ …          ┆ …         ┆ …            ┆ … ┆ …     ┆ …          ┆ …          ┆ …          │\n",
       "│ 90577 ┆ 0          ┆ Blood Elf ┆ Eversong     ┆ … ┆ -1    ┆ 2008-12-31 ┆ 2008-12-31 ┆ 30m 19s    │\n",
       "│       ┆            ┆           ┆ Woods        ┆   ┆       ┆ 22:17:35   ┆ 22:47:54   ┆            │\n",
       "│ 90578 ┆ 0          ┆ Blood Elf ┆ Eversong     ┆ … ┆ -1    ┆ 2008-12-31 ┆ 2008-12-31 ┆ 0µs        │\n",
       "│       ┆            ┆           ┆ Woods        ┆   ┆       ┆ 22:32:52   ┆ 22:32:52   ┆            │\n",
       "│ 90579 ┆ 0          ┆ Orc       ┆ Durotar      ┆ … ┆ -1    ┆ 2008-12-31 ┆ 2008-12-31 ┆ 0µs        │\n",
       "│       ┆            ┆           ┆              ┆   ┆       ┆ 22:44:45   ┆ 22:44:45   ┆            │\n",
       "│ 90580 ┆ 0          ┆ Tauren    ┆ Mulgore      ┆ … ┆ -1    ┆ 2008-12-31 ┆ 2008-12-31 ┆ 0µs        │\n",
       "│       ┆            ┆           ┆              ┆   ┆       ┆ 23:15:20   ┆ 23:15:20   ┆            │\n",
       "└───────┴────────────┴───────────┴──────────────┴───┴───────┴────────────┴────────────┴────────────┘"
      ]
     },
     "execution_count": 25,
     "metadata": {},
     "output_type": "execute_result"
    }
   ],
   "source": [
    "def sessionize_pl(df, entity_col, date_col, threshold_minutes):\n",
    "    sessionized = (\n",
    "        df.sort([entity_col, date_col])\n",
    "        .with_columns(\n",
    "            [\n",
    "                (pl.col(date_col).diff().over(entity_col).dt.minutes() > threshold_minutes)\n",
    "                .fill_null(False)\n",
    "                .alias(\"is_new_session\"),\n",
    "            ]\n",
    "        )\n",
    "        .with_columns(\n",
    "            [\n",
    "                pl.col(\"is_new_session\").cumsum().over(entity_col).alias(\"session_id\"),\n",
    "            ]\n",
    "        )\n",
    "        .drop([\"is_new_session\"])\n",
    "    )\n",
    "    return sessionized\n",
    "\n",
    "\n",
    "def extract_sessions_pl(\n",
    "    df,\n",
    "    entity_col,\n",
    "    date_col,\n",
    "    session_col,\n",
    "    metadata_cols=[\"race\", \"zone\", \"charclass\", \"guild\"]\n",
    "):\n",
    "    sessions = (\n",
    "        df\n",
    "        .sort(date_col)\n",
    "        .groupby([entity_col, session_col])\n",
    "        .agg(\n",
    "            [pl.col(mc).first().alias(mc) for mc in metadata_cols]\n",
    "            + [\n",
    "                pl.col(date_col).min().alias(\"session_start_date\"),\n",
    "                pl.col(date_col).max().alias(\"session_end_date\"),\n",
    "            ]\n",
    "        )\n",
    "        .with_columns(\n",
    "            [\n",
    "                (pl.col(\"session_end_date\") - pl.col(\"session_start_date\")).alias(\"session_duration\"),\n",
    "            ]\n",
    "        )\n",
    "        .sort([entity_col, \"session_start_date\"])\n",
    "    )\n",
    "    return sessions\n",
    "\n",
    "\n",
    "def preprocess_event_log_pl(df):\n",
    "    return (\n",
    "        df\n",
    "        .pipe(\n",
    "            sessionize_pl,\n",
    "            entity_col=\"char\",\n",
    "            date_col=\"timestamp\",\n",
    "            threshold_minutes=30,\n",
    "        )\n",
    "        .pipe(\n",
    "            extract_sessions_pl,\n",
    "            entity_col=\"char\",\n",
    "            date_col=\"timestamp\",\n",
    "            session_col=\"session_id\",\n",
    "        )\n",
    "    )\n",
    "\n",
    "\n",
    "%time sessions_collected = preprocess_event_log_pl(event_log_lazy_df).collect()\n",
    "sessions_collected"
   ]
  },
  {
   "cell_type": "code",
   "execution_count": 26,
   "id": "42fd98a4-0346-4ab8-a2f7-7d26235935ca",
   "metadata": {
    "tags": []
   },
   "outputs": [
    {
     "data": {
      "text/plain": [
       "datetime.datetime(2008, 1, 1, 0, 2, 4)"
      ]
     },
     "execution_count": 26,
     "metadata": {},
     "output_type": "execute_result"
    }
   ],
   "source": [
    "first_observed_date = event_log_lazy_df.select(\"timestamp\").min().collect().item()\n",
    "first_observed_date"
   ]
  },
  {
   "cell_type": "code",
   "execution_count": 27,
   "id": "c6b0a698-56a2-47a6-8ec7-49fcd5ffda81",
   "metadata": {
    "tags": []
   },
   "outputs": [
    {
     "data": {
      "text/plain": [
       "datetime.datetime(2008, 12, 31, 23, 50, 18)"
      ]
     },
     "execution_count": 27,
     "metadata": {},
     "output_type": "execute_result"
    }
   ],
   "source": [
    "last_observed_date = event_log_lazy_df.select(\"timestamp\").max().collect().item()\n",
    "last_observed_date"
   ]
  },
  {
   "cell_type": "code",
   "execution_count": 28,
   "id": "14250911-0db4-4f74-9082-ebcf2f12d458",
   "metadata": {
    "tags": []
   },
   "outputs": [
    {
     "data": {
      "text/html": [
       "<div><style>\n",
       ".dataframe > thead > tr > th,\n",
       ".dataframe > tbody > tr > td {\n",
       "  text-align: right;\n",
       "}\n",
       "</style>\n",
       "<small>shape: (891_599, 12)</small><table border=\"1\" class=\"dataframe\"><thead><tr><th>char</th><th>session_id</th><th>race</th><th>zone</th><th>charclass</th><th>guild</th><th>session_start_date</th><th>session_end_date</th><th>session_duration</th><th>is_censored</th><th>duration</th><th>event</th></tr><tr><td>i32</td><td>u32</td><td>str</td><td>str</td><td>str</td><td>i32</td><td>datetime[μs]</td><td>datetime[μs]</td><td>duration[μs]</td><td>bool</td><td>i64</td><td>bool</td></tr></thead><tbody><tr><td>59425</td><td>0</td><td>&quot;Orc&quot;</td><td>&quot;Orgrimmar&quot;</td><td>&quot;Rogue&quot;</td><td>165</td><td>2008-01-01 00:02:04</td><td>2008-01-01 00:11:52</td><td>9m 48s</td><td>false</td><td>9</td><td>true</td></tr><tr><td>65325</td><td>0</td><td>&quot;Orc&quot;</td><td>&quot;Ghostlands&quot;</td><td>&quot;Warrior&quot;</td><td>-1</td><td>2008-01-01 00:02:04</td><td>2008-01-01 00:32:05</td><td>30m 1s</td><td>false</td><td>30</td><td>true</td></tr><tr><td>65490</td><td>0</td><td>&quot;Orc&quot;</td><td>&quot;Ghostlands&quot;</td><td>&quot;Hunter&quot;</td><td>-1</td><td>2008-01-01 00:02:04</td><td>2008-01-01 03:22:00</td><td>3h 19m 56s</td><td>false</td><td>199</td><td>true</td></tr><tr><td>65494</td><td>0</td><td>&quot;Orc&quot;</td><td>&quot;Durotar&quot;</td><td>&quot;Hunter&quot;</td><td>-1</td><td>2008-01-01 00:02:04</td><td>2008-01-01 01:32:23</td><td>1h 30m 19s</td><td>false</td><td>90</td><td>true</td></tr><tr><td>22937</td><td>0</td><td>&quot;Orc&quot;</td><td>&quot;Warsong Gulch&quot;</td><td>&quot;Rogue&quot;</td><td>243</td><td>2008-01-01 00:02:14</td><td>2008-01-01 02:02:34</td><td>2h 20s</td><td>false</td><td>120</td><td>true</td></tr><tr><td>59772</td><td>0</td><td>&quot;Orc&quot;</td><td>&quot;Shadowmoon Val…</td><td>&quot;Warrior&quot;</td><td>35</td><td>2008-01-01 00:02:14</td><td>2008-01-01 01:12:10</td><td>1h 9m 56s</td><td>false</td><td>69</td><td>true</td></tr><tr><td>61239</td><td>0</td><td>&quot;Orc&quot;</td><td>&quot;Blade&#x27;s Edge M…</td><td>&quot;Hunter&quot;</td><td>243</td><td>2008-01-01 00:02:14</td><td>2008-01-01 01:12:10</td><td>1h 9m 56s</td><td>false</td><td>69</td><td>true</td></tr><tr><td>62</td><td>0</td><td>&quot;Orc&quot;</td><td>&quot;Shattrath City…</td><td>&quot;Warrior&quot;</td><td>5</td><td>2008-01-01 00:02:19</td><td>2008-01-01 01:22:02</td><td>1h 19m 43s</td><td>false</td><td>79</td><td>true</td></tr><tr><td>582</td><td>0</td><td>&quot;Orc&quot;</td><td>&quot;Sethekk Halls&quot;</td><td>&quot;Warrior&quot;</td><td>19</td><td>2008-01-01 00:02:19</td><td>2008-01-01 00:12:07</td><td>9m 48s</td><td>false</td><td>9</td><td>true</td></tr><tr><td>1003</td><td>0</td><td>&quot;Orc&quot;</td><td>&quot;Tirisfal Glade…</td><td>&quot;Warrior&quot;</td><td>204</td><td>2008-01-01 00:02:19</td><td>2008-01-01 02:02:39</td><td>2h 20s</td><td>false</td><td>120</td><td>true</td></tr><tr><td>2663</td><td>0</td><td>&quot;Orc&quot;</td><td>&quot;Shattrath City…</td><td>&quot;Warrior&quot;</td><td>53</td><td>2008-01-01 00:02:19</td><td>2008-01-01 00:32:20</td><td>30m 1s</td><td>false</td><td>30</td><td>true</td></tr><tr><td>10223</td><td>0</td><td>&quot;Orc&quot;</td><td>&quot;Netherstorm&quot;</td><td>&quot;Warrior&quot;</td><td>5</td><td>2008-01-01 00:02:19</td><td>2008-01-01 02:02:39</td><td>2h 20s</td><td>false</td><td>120</td><td>true</td></tr><tr><td>&hellip;</td><td>&hellip;</td><td>&hellip;</td><td>&hellip;</td><td>&hellip;</td><td>&hellip;</td><td>&hellip;</td><td>&hellip;</td><td>&hellip;</td><td>&hellip;</td><td>&hellip;</td><td>&hellip;</td></tr><tr><td>86689</td><td>14</td><td>&quot;Blood Elf&quot;</td><td>&quot;Hellfire Penin…</td><td>&quot;Death Knight&quot;</td><td>-1</td><td>2008-12-31 23:37:38</td><td>2008-12-31 23:49:22</td><td>11m 44s</td><td>true</td><td>11</td><td>false</td></tr><tr><td>86363</td><td>74</td><td>&quot;Blood Elf&quot;</td><td>&quot;Terokkar Fores…</td><td>&quot;Death Knight&quot;</td><td>-1</td><td>2008-12-31 23:37:49</td><td>2008-12-31 23:49:33</td><td>11m 44s</td><td>true</td><td>11</td><td>false</td></tr><tr><td>51717</td><td>150</td><td>&quot;Blood Elf&quot;</td><td>&quot;Orgrimmar&quot;</td><td>&quot;Paladin&quot;</td><td>-1</td><td>2008-12-31 23:37:54</td><td>2008-12-31 23:49:38</td><td>11m 44s</td><td>true</td><td>11</td><td>false</td></tr><tr><td>78783</td><td>191</td><td>&quot;Blood Elf&quot;</td><td>&quot;Zul&#x27;Drak&quot;</td><td>&quot;Paladin&quot;</td><td>463</td><td>2008-12-31 23:37:54</td><td>2008-12-31 23:49:38</td><td>11m 44s</td><td>true</td><td>11</td><td>false</td></tr><tr><td>40483</td><td>866</td><td>&quot;Blood Elf&quot;</td><td>&quot;Orgrimmar&quot;</td><td>&quot;Paladin&quot;</td><td>62</td><td>2008-12-31 23:37:59</td><td>2008-12-31 23:49:43</td><td>11m 44s</td><td>true</td><td>11</td><td>false</td></tr><tr><td>45166</td><td>366</td><td>&quot;Blood Elf&quot;</td><td>&quot;Dalaran&quot;</td><td>&quot;Paladin&quot;</td><td>424</td><td>2008-12-31 23:37:59</td><td>2008-12-31 23:49:43</td><td>11m 44s</td><td>true</td><td>11</td><td>false</td></tr><tr><td>72686</td><td>290</td><td>&quot;Blood Elf&quot;</td><td>&quot;Dalaran&quot;</td><td>&quot;Priest&quot;</td><td>62</td><td>2008-12-31 23:38:14</td><td>2008-12-31 23:49:58</td><td>11m 44s</td><td>true</td><td>11</td><td>false</td></tr><tr><td>56487</td><td>252</td><td>&quot;Blood Elf&quot;</td><td>&quot;Borean Tundra&quot;</td><td>&quot;Mage&quot;</td><td>103</td><td>2008-12-31 23:38:24</td><td>2008-12-31 23:50:08</td><td>11m 44s</td><td>true</td><td>11</td><td>false</td></tr><tr><td>65357</td><td>323</td><td>&quot;Blood Elf&quot;</td><td>&quot;Orgrimmar&quot;</td><td>&quot;Mage&quot;</td><td>282</td><td>2008-12-31 23:38:24</td><td>2008-12-31 23:50:08</td><td>11m 44s</td><td>true</td><td>11</td><td>false</td></tr><tr><td>86528</td><td>71</td><td>&quot;Blood Elf&quot;</td><td>&quot;Borean Tundra&quot;</td><td>&quot;Death Knight&quot;</td><td>-1</td><td>2008-12-31 23:38:30</td><td>2008-12-31 23:50:13</td><td>11m 43s</td><td>true</td><td>11</td><td>false</td></tr><tr><td>87792</td><td>79</td><td>&quot;Blood Elf&quot;</td><td>&quot;Thunder Bluff&quot;</td><td>&quot;Death Knight&quot;</td><td>478</td><td>2008-12-31 23:38:30</td><td>2008-12-31 23:50:13</td><td>11m 43s</td><td>true</td><td>11</td><td>false</td></tr><tr><td>86704</td><td>114</td><td>&quot;Blood Elf&quot;</td><td>&quot;Grizzly Hills&quot;</td><td>&quot;Death Knight&quot;</td><td>-1</td><td>2008-12-31 23:38:35</td><td>2008-12-31 23:50:18</td><td>11m 43s</td><td>true</td><td>11</td><td>false</td></tr></tbody></table></div>"
      ],
      "text/plain": [
       "shape: (891_599, 12)\n",
       "┌───────┬────────────┬───────────┬───────────────┬───┬────────────┬─────────────┬──────────┬───────┐\n",
       "│ char  ┆ session_id ┆ race      ┆ zone          ┆ … ┆ session_du ┆ is_censored ┆ duration ┆ event │\n",
       "│ ---   ┆ ---        ┆ ---       ┆ ---           ┆   ┆ ration     ┆ ---         ┆ ---      ┆ ---   │\n",
       "│ i32   ┆ u32        ┆ str       ┆ str           ┆   ┆ ---        ┆ bool        ┆ i64      ┆ bool  │\n",
       "│       ┆            ┆           ┆               ┆   ┆ duration[μ ┆             ┆          ┆       │\n",
       "│       ┆            ┆           ┆               ┆   ┆ s]         ┆             ┆          ┆       │\n",
       "╞═══════╪════════════╪═══════════╪═══════════════╪═══╪════════════╪═════════════╪══════════╪═══════╡\n",
       "│ 59425 ┆ 0          ┆ Orc       ┆ Orgrimmar     ┆ … ┆ 9m 48s     ┆ false       ┆ 9        ┆ true  │\n",
       "│ 65325 ┆ 0          ┆ Orc       ┆ Ghostlands    ┆ … ┆ 30m 1s     ┆ false       ┆ 30       ┆ true  │\n",
       "│ 65490 ┆ 0          ┆ Orc       ┆ Ghostlands    ┆ … ┆ 3h 19m 56s ┆ false       ┆ 199      ┆ true  │\n",
       "│ 65494 ┆ 0          ┆ Orc       ┆ Durotar       ┆ … ┆ 1h 30m 19s ┆ false       ┆ 90       ┆ true  │\n",
       "│ …     ┆ …          ┆ …         ┆ …             ┆ … ┆ …          ┆ …           ┆ …        ┆ …     │\n",
       "│ 65357 ┆ 323        ┆ Blood Elf ┆ Orgrimmar     ┆ … ┆ 11m 44s    ┆ true        ┆ 11       ┆ false │\n",
       "│ 86528 ┆ 71         ┆ Blood Elf ┆ Borean Tundra ┆ … ┆ 11m 43s    ┆ true        ┆ 11       ┆ false │\n",
       "│ 87792 ┆ 79         ┆ Blood Elf ┆ Thunder Bluff ┆ … ┆ 11m 43s    ┆ true        ┆ 11       ┆ false │\n",
       "│ 86704 ┆ 114        ┆ Blood Elf ┆ Grizzly Hills ┆ … ┆ 11m 43s    ┆ true        ┆ 11       ┆ false │\n",
       "└───────┴────────────┴───────────┴───────────────┴───┴────────────┴─────────────┴──────────┴───────┘"
      ]
     },
     "execution_count": 28,
     "metadata": {},
     "output_type": "execute_result"
    }
   ],
   "source": [
    "def censor_pl(sessions, censoring_date, threshold_minutes=30, observation_days=None):\n",
    "    if observation_days:\n",
    "        start_date = censoring_date - timedelta(days=observation_days)\n",
    "        sessions = sessions.filter(pl.col(\"session_start_date\") > start_date)\n",
    "    return (\n",
    "        sessions\n",
    "        .filter(pl.col(\"session_start_date\") < censoring_date)\n",
    "        .with_columns(\n",
    "            [\n",
    "                (((censoring_date - pl.col(\"session_end_date\")).dt.minutes()) < threshold_minutes).alias(\"is_censored\"),\n",
    "                pl.min(pl.col(\"session_end_date\"), censoring_date).alias(\"session_end_date\"),\n",
    "            ]\n",
    "        )\n",
    "        .with_columns(\n",
    "            [\n",
    "                (pl.col(\"session_end_date\") - pl.col(\"session_start_date\")).dt.minutes().alias(\"duration\"),\n",
    "                (pl.col(\"is_censored\") == False).alias(\"event\"),\n",
    "            ]\n",
    "        )\n",
    "        .filter(pl.col(\"duration\") > 0)\n",
    "        .sort(\"session_start_date\")\n",
    "    )\n",
    "\n",
    "\n",
    "censor_pl(sessions_collected, last_observed_date)"
   ]
  },
  {
   "cell_type": "code",
   "execution_count": 29,
   "id": "a6d5acb2-eb98-4e13-9ead-109a8041d2f1",
   "metadata": {},
   "outputs": [
    {
     "data": {
      "text/html": [
       "<div><style>\n",
       ".dataframe > thead > tr > th,\n",
       ".dataframe > tbody > tr > td {\n",
       "  text-align: right;\n",
       "}\n",
       "</style>\n",
       "<small>shape: (1, 1)</small><table border=\"1\" class=\"dataframe\"><thead><tr><th>is_censored</th></tr><tr><td>u32</td></tr></thead><tbody><tr><td>516</td></tr></tbody></table></div>"
      ],
      "text/plain": [
       "shape: (1, 1)\n",
       "┌─────────────┐\n",
       "│ is_censored │\n",
       "│ ---         │\n",
       "│ u32         │\n",
       "╞═════════════╡\n",
       "│ 516         │\n",
       "└─────────────┘"
      ]
     },
     "execution_count": 29,
     "metadata": {},
     "output_type": "execute_result"
    }
   ],
   "source": [
    "censor_pl(sessions_collected, last_observed_date).select(\"is_censored\").sum()"
   ]
  },
  {
   "cell_type": "code",
   "execution_count": 30,
   "id": "0658098e-3a80-4c5c-aec1-16f5d8f073b3",
   "metadata": {
    "tags": []
   },
   "outputs": [
    {
     "data": {
      "text/html": [
       "<div><style>\n",
       ".dataframe > thead > tr > th,\n",
       ".dataframe > tbody > tr > td {\n",
       "  text-align: right;\n",
       "}\n",
       "</style>\n",
       "<small>shape: (10_412, 12)</small><table border=\"1\" class=\"dataframe\"><thead><tr><th>char</th><th>session_id</th><th>race</th><th>zone</th><th>charclass</th><th>guild</th><th>session_start_date</th><th>session_end_date</th><th>session_duration</th><th>is_censored</th><th>duration</th><th>event</th></tr><tr><td>i32</td><td>u32</td><td>str</td><td>str</td><td>str</td><td>i32</td><td>datetime[μs]</td><td>datetime[μs]</td><td>duration[μs]</td><td>bool</td><td>i64</td><td>bool</td></tr></thead><tbody><tr><td>39214</td><td>48</td><td>&quot;Orc&quot;</td><td>&quot;Scarlet Monast…</td><td>&quot;Warlock&quot;</td><td>101</td><td>2008-11-14 23:54:31</td><td>2008-11-15 03:07:51</td><td>3h 13m 20s</td><td>false</td><td>193</td><td>true</td></tr><tr><td>59310</td><td>105</td><td>&quot;Orc&quot;</td><td>&quot;Durotar&quot;</td><td>&quot;Shaman&quot;</td><td>403</td><td>2008-11-14 23:54:31</td><td>2008-11-15 00:53:13</td><td>58m 42s</td><td>false</td><td>58</td><td>true</td></tr><tr><td>71401</td><td>100</td><td>&quot;Orc&quot;</td><td>&quot;Desolace&quot;</td><td>&quot;Shaman&quot;</td><td>358</td><td>2008-11-14 23:54:31</td><td>2008-11-15 00:12:50</td><td>18m 19s</td><td>false</td><td>18</td><td>true</td></tr><tr><td>78818</td><td>36</td><td>&quot;Orc&quot;</td><td>&quot;Stranglethorn …</td><td>&quot;Shaman&quot;</td><td>-1</td><td>2008-11-14 23:54:31</td><td>2008-11-15 06:09:34</td><td>6h 15m 3s</td><td>false</td><td>375</td><td>true</td></tr><tr><td>85222</td><td>37</td><td>&quot;Orc&quot;</td><td>&quot;Felwood&quot;</td><td>&quot;Hunter&quot;</td><td>457</td><td>2008-11-14 23:54:31</td><td>2008-11-15 04:39:25</td><td>4h 44m 54s</td><td>false</td><td>284</td><td>true</td></tr><tr><td>2232</td><td>77</td><td>&quot;Orc&quot;</td><td>&quot;Undercity&quot;</td><td>&quot;Hunter&quot;</td><td>171</td><td>2008-11-14 23:54:36</td><td>2008-11-15 00:43:03</td><td>48m 27s</td><td>false</td><td>48</td><td>true</td></tr><tr><td>27617</td><td>47</td><td>&quot;Orc&quot;</td><td>&quot;Western Plague…</td><td>&quot;Hunter&quot;</td><td>364</td><td>2008-11-14 23:54:36</td><td>2008-11-15 00:24:02</td><td>29m 26s</td><td>false</td><td>29</td><td>true</td></tr><tr><td>867</td><td>19</td><td>&quot;Orc&quot;</td><td>&quot;Netherstorm&quot;</td><td>&quot;Warlock&quot;</td><td>459</td><td>2008-11-14 23:54:41</td><td>2008-11-15 02:56:47</td><td>3h 2m 6s</td><td>false</td><td>182</td><td>true</td></tr><tr><td>62363</td><td>161</td><td>&quot;Orc&quot;</td><td>&quot;Zangarmarsh&quot;</td><td>&quot;Warrior&quot;</td><td>358</td><td>2008-11-14 23:54:41</td><td>2008-11-15 00:24:07</td><td>29m 26s</td><td>false</td><td>29</td><td>true</td></tr><tr><td>71698</td><td>122</td><td>&quot;Orc&quot;</td><td>&quot;Hellfire Penin…</td><td>&quot;Warrior&quot;</td><td>189</td><td>2008-11-14 23:54:41</td><td>2008-11-15 00:53:23</td><td>58m 42s</td><td>false</td><td>58</td><td>true</td></tr><tr><td>764</td><td>240</td><td>&quot;Orc&quot;</td><td>&quot;Karazhan&quot;</td><td>&quot;Warrior&quot;</td><td>19</td><td>2008-11-14 23:54:47</td><td>2008-11-15 00:43:13</td><td>48m 26s</td><td>false</td><td>48</td><td>true</td></tr><tr><td>22458</td><td>258</td><td>&quot;Orc&quot;</td><td>&quot;Terokkar Fores…</td><td>&quot;Warrior&quot;</td><td>103</td><td>2008-11-14 23:54:47</td><td>2008-11-15 02:44:59</td><td>2h 50m 12s</td><td>false</td><td>170</td><td>true</td></tr><tr><td>&hellip;</td><td>&hellip;</td><td>&hellip;</td><td>&hellip;</td><td>&hellip;</td><td>&hellip;</td><td>&hellip;</td><td>&hellip;</td><td>&hellip;</td><td>&hellip;</td><td>&hellip;</td><td>&hellip;</td></tr><tr><td>25401</td><td>14</td><td>&quot;Orc&quot;</td><td>&quot;Hellfire Penin…</td><td>&quot;Warrior&quot;</td><td>189</td><td>2008-11-19 23:35:35</td><td>2008-11-19 23:50:18</td><td>44m 10s</td><td>true</td><td>14</td><td>false</td></tr><tr><td>28068</td><td>221</td><td>&quot;Orc&quot;</td><td>&quot;Hellfire Penin…</td><td>&quot;Warlock&quot;</td><td>-1</td><td>2008-11-19 23:35:35</td><td>2008-11-19 23:50:18</td><td>31m 45s</td><td>true</td><td>14</td><td>false</td></tr><tr><td>3735</td><td>81</td><td>&quot;Orc&quot;</td><td>&quot;Isle of Quel&#x27;D…</td><td>&quot;Hunter&quot;</td><td>101</td><td>2008-11-19 23:35:50</td><td>2008-11-19 23:50:18</td><td>22m 34s</td><td>true</td><td>14</td><td>false</td></tr><tr><td>41004</td><td>207</td><td>&quot;Orc&quot;</td><td>&quot;Borean Tundra&quot;</td><td>&quot;Rogue&quot;</td><td>115</td><td>2008-11-19 23:35:55</td><td>2008-11-19 23:50:18</td><td>31m 45s</td><td>true</td><td>14</td><td>false</td></tr><tr><td>26235</td><td>136</td><td>&quot;Tauren&quot;</td><td>&quot;Howling Fjord&quot;</td><td>&quot;Shaman&quot;</td><td>53</td><td>2008-11-19 23:36:41</td><td>2008-11-19 23:50:18</td><td>2h 15m 44s</td><td>true</td><td>13</td><td>false</td></tr><tr><td>30755</td><td>235</td><td>&quot;Tauren&quot;</td><td>&quot;Borean Tundra&quot;</td><td>&quot;Druid&quot;</td><td>101</td><td>2008-11-19 23:36:46</td><td>2008-11-19 23:50:18</td><td>22m 35s</td><td>true</td><td>13</td><td>false</td></tr><tr><td>75845</td><td>140</td><td>&quot;Tauren&quot;</td><td>&quot;Howling Fjord&quot;</td><td>&quot;Druid&quot;</td><td>161</td><td>2008-11-19 23:36:46</td><td>2008-11-19 23:50:18</td><td>1h 44m 44s</td><td>true</td><td>13</td><td>false</td></tr><tr><td>7963</td><td>361</td><td>&quot;Troll&quot;</td><td>&quot;Shattrath City…</td><td>&quot;Hunter&quot;</td><td>103</td><td>2008-11-19 23:37:16</td><td>2008-11-19 23:50:18</td><td>2h 15m 45s</td><td>true</td><td>13</td><td>false</td></tr><tr><td>69870</td><td>41</td><td>&quot;Undead&quot;</td><td>&quot;The Barrens&quot;</td><td>&quot;Warlock&quot;</td><td>-1</td><td>2008-11-19 23:37:47</td><td>2008-11-19 23:50:18</td><td>44m 11s</td><td>true</td><td>12</td><td>false</td></tr><tr><td>22608</td><td>296</td><td>&quot;Undead&quot;</td><td>&quot;Borean Tundra&quot;</td><td>&quot;Mage&quot;</td><td>104</td><td>2008-11-19 23:38:08</td><td>2008-11-19 23:50:18</td><td>1h 44m 44s</td><td>true</td><td>12</td><td>false</td></tr><tr><td>23291</td><td>434</td><td>&quot;Undead&quot;</td><td>&quot;Howling Fjord&quot;</td><td>&quot;Rogue&quot;</td><td>103</td><td>2008-11-19 23:38:18</td><td>2008-11-19 23:50:18</td><td>1h 14m 31s</td><td>true</td><td>12</td><td>false</td></tr><tr><td>47077</td><td>149</td><td>&quot;Undead&quot;</td><td>&quot;Shattrath City…</td><td>&quot;Warlock&quot;</td><td>189</td><td>2008-11-19 23:38:23</td><td>2008-11-19 23:50:18</td><td>22m 35s</td><td>true</td><td>11</td><td>false</td></tr></tbody></table></div>"
      ],
      "text/plain": [
       "shape: (10_412, 12)\n",
       "┌───────┬────────────┬────────┬───────────────┬───┬───────────────┬─────────────┬──────────┬───────┐\n",
       "│ char  ┆ session_id ┆ race   ┆ zone          ┆ … ┆ session_durat ┆ is_censored ┆ duration ┆ event │\n",
       "│ ---   ┆ ---        ┆ ---    ┆ ---           ┆   ┆ ion           ┆ ---         ┆ ---      ┆ ---   │\n",
       "│ i32   ┆ u32        ┆ str    ┆ str           ┆   ┆ ---           ┆ bool        ┆ i64      ┆ bool  │\n",
       "│       ┆            ┆        ┆               ┆   ┆ duration[μs]  ┆             ┆          ┆       │\n",
       "╞═══════╪════════════╪════════╪═══════════════╪═══╪═══════════════╪═════════════╪══════════╪═══════╡\n",
       "│ 39214 ┆ 48         ┆ Orc    ┆ Scarlet       ┆ … ┆ 3h 13m 20s    ┆ false       ┆ 193      ┆ true  │\n",
       "│       ┆            ┆        ┆ Monastery     ┆   ┆               ┆             ┆          ┆       │\n",
       "│ 59310 ┆ 105        ┆ Orc    ┆ Durotar       ┆ … ┆ 58m 42s       ┆ false       ┆ 58       ┆ true  │\n",
       "│ 71401 ┆ 100        ┆ Orc    ┆ Desolace      ┆ … ┆ 18m 19s       ┆ false       ┆ 18       ┆ true  │\n",
       "│ 78818 ┆ 36         ┆ Orc    ┆ Stranglethorn ┆ … ┆ 6h 15m 3s     ┆ false       ┆ 375      ┆ true  │\n",
       "│       ┆            ┆        ┆ Vale          ┆   ┆               ┆             ┆          ┆       │\n",
       "│ …     ┆ …          ┆ …      ┆ …             ┆ … ┆ …             ┆ …           ┆ …        ┆ …     │\n",
       "│ 69870 ┆ 41         ┆ Undead ┆ The Barrens   ┆ … ┆ 44m 11s       ┆ true        ┆ 12       ┆ false │\n",
       "│ 22608 ┆ 296        ┆ Undead ┆ Borean Tundra ┆ … ┆ 1h 44m 44s    ┆ true        ┆ 12       ┆ false │\n",
       "│ 23291 ┆ 434        ┆ Undead ┆ Howling Fjord ┆ … ┆ 1h 14m 31s    ┆ true        ┆ 12       ┆ false │\n",
       "│ 47077 ┆ 149        ┆ Undead ┆ Shattrath     ┆ … ┆ 22m 35s       ┆ true        ┆ 11       ┆ false │\n",
       "│       ┆            ┆        ┆ City          ┆   ┆               ┆             ┆          ┆       │\n",
       "└───────┴────────────┴────────┴───────────────┴───┴───────────────┴─────────────┴──────────┴───────┘"
      ]
     },
     "execution_count": 30,
     "metadata": {},
     "output_type": "execute_result"
    }
   ],
   "source": [
    "censor_pl(sessions_collected, last_observed_date - timedelta(days=42), observation_days=5)"
   ]
  },
  {
   "cell_type": "markdown",
   "id": "bb8c723c-9f56-4f24-ad80-f816db357637",
   "metadata": {
    "tags": []
   },
   "source": [
    "***Wrap-up exercise***\n",
    "\n",
    "- Select 10 dates randomly from the beginning of January to the end of November (increment the first date with random number of days). For each sample date, define an observation window of 5 days: extract the censored data and concatenate those sessions into a training set;\n",
    "\n",
    "- Estimate and plot the average survival function using a Kaplan-Meier estimator;\n",
    "\n",
    "- Reiterate the KM estimation, but stratified on the `race` or the `charclass` features;\n",
    "\n",
    "- Fit a predictive survival model of your choice with adequate feature engineering on this training set;\n",
    "\n",
    "- Extract censored data from the last month of the original dataset and use it to measure the performance of your estimator with the metrics of your choice. Compare this to the Kaplan-Meier baseline.\n",
    "\n",
    "- Inspect which features are the most predictive, one way or another."
   ]
  },
  {
   "cell_type": "code",
   "execution_count": 31,
   "id": "ba003ffe-dbeb-434e-8dbf-1f4fdc596f68",
   "metadata": {
    "tags": []
   },
   "outputs": [],
   "source": [
    "# TODO: write your code here"
   ]
  }
 ],
 "metadata": {
  "jupytext": {
   "formats": "ipynb,py:percent"
  },
  "kernelspec": {
   "display_name": "Python 3 (ipykernel)",
   "language": "python",
   "name": "python3"
  },
  "language_info": {
   "codemirror_mode": {
    "name": "ipython",
    "version": 3
   },
   "file_extension": ".py",
   "mimetype": "text/x-python",
   "name": "python",
   "nbconvert_exporter": "python",
   "pygments_lexer": "ipython3",
   "version": "3.11.4"
  }
 },
 "nbformat": 4,
 "nbformat_minor": 5
}
